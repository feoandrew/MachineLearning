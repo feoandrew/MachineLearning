{
  "cells": [
    {
      "cell_type": "markdown",
      "metadata": {
        "id": "WiwyS9C5BRNg"
      },
      "source": [
        "# Смерть пациентов в больницах"
      ]
    },
    {
      "cell_type": "markdown",
      "metadata": {
        "id": "8NV8P-c9xDGH"
      },
      "source": [
        "\n",
        "\n",
        "Обозначения столбцов данных:\n",
        "\n",
        "1.encounter_id\t- Уникальный идентификатор, связанный с пребыванием в отделении пациента\n",
        "\n",
        "2.patient_id -\tУникальный идентификатор, связанный с пациентом\n",
        "\n",
        "3.hospital_id - Уникальный идентификатор, связанный с больницей\n",
        "\n",
        "4.age\t- Возраст пациента при поступлении в отделение\n",
        "\n",
        "5.bmi - Индекс массы тела человека при поступлении в отделение\n",
        "\n",
        "6.elective_surgery - Был ли пациент госпитализирован для плановой хирургической операции\n",
        "\n",
        "8.ethnicity - Общая национальная или культурная традиция, к которой принадлежит данное лицо\n",
        "\n",
        "9.gender - Пол пациента\n",
        "\n",
        "10.height - Рост пациента\n",
        "\n",
        "11.icu_admit_source - Местонахождение больного до поступления в отделение\n",
        "\n",
        "12.icu_id - Уникальный идентификатор отделения, в которое был госпитализирован пациент. \n",
        "\n",
        "13.icu_stay_type - тип пребывания в отделении интенсивной терапии\n",
        "\n",
        "14.icu_type - Классификация, указывающая тип ухода, который может предоставить отделение\n",
        "\n",
        "15.pre_icu_los_days - Продолжительность пребывания пациента между госпитализацией и госпитализацией в отделение\n",
        "\n",
        "16.weight - Вес (масса тела) человека на единицу приема\n",
        "\n",
        "17.apache_2_diagnosis - Диагноз APACHE II для госпитализации в отделение интенсивной терапии\n",
        "\n",
        "18.apache_3j_diagnosis - Код субдиагностики APACHE III-J, который лучше всего описывает причину госпитализации в отделение интенсивной терапии.\n",
        "\n",
        "19.apache_post_operative - Рабочий статус APACHE; 1 для послеоперационного, 0 для неоперативного\n",
        "\n",
        "20.arf_apache - Была ли у пациента острая почечная недостаточность в течение первых 24 часов пребывания в отделении, определяемая как 24-часовой диурез <410 мл, креатинин >=133 мкмоль/л и отсутствие хронического диализа\n",
        "\n",
        "21.gcs_eyes_apache - Компонент открывания глаз по шкале комы Глазго измеряется в течение первых 24 часов, что дает наивысший балл по шкале APACHE III.\n",
        "\n",
        "22.gcs_motor_apache - Двигательный компонент по шкале комы Глазго измеряется в течение первых 24 часов, что дает наивысший балл по шкале APACHE III.\n",
        "\n",
        "23.gcs_unable_apache - Была ли невозможна оценка по шкале комы Глазго из-за седации пациента\n",
        "\n",
        "24.gcs_verbal_apache - Вербальный компонент шкалы комы Глазго измеряется в течение первых 24 часов, что дает наивысший балл по шкале APACHE III.\n",
        "\n",
        "25.heart_rate_apache - Частота сердечных сокращений, измеренная в течение первых 24 часов, дает наивысший балл по шкале APACHE III.\n",
        "\n",
        "26.intubated_apache - Был ли пациент интубирован во время наибольшего количества газов артериальной крови, используемого в шкале оксигенации.\n",
        "\n",
        "27.map_apache - Среднее артериальное давление, измеренное в течение первых 24 часов, которое дает наивысший балл по шкале APACHE III.\n",
        "\n",
        "28.resprate_apache - Частота дыхания, измеренная в течение первых 24 часов, дает наивысший балл по шкале APACHE III.\n",
        "\n",
        "30.temp_apache - температура, измеренная в течение первых 24 часов, что приводит к наивысшему баллу APACHE III\n",
        "\n"
      ]
    },
    {
      "cell_type": "markdown",
      "metadata": {
        "id": "Dw5EaTCIBdXD"
      },
      "source": [
        "# Чтение данных"
      ]
    },
    {
      "cell_type": "code",
      "execution_count": null,
      "metadata": {
        "colab": {
          "base_uri": "https://localhost:8080/"
        },
        "id": "c6p4sd5zvwj-",
        "outputId": "53e556ba-c69d-4aa6-ec12-db195034a78f"
      },
      "outputs": [
        {
          "output_type": "execute_result",
          "data": {
            "text/plain": [
              "(91713, 85)"
            ]
          },
          "metadata": {},
          "execution_count": 3
        }
      ],
      "source": [
        "import pandas as pd\n",
        "\n",
        "data = pd.read_csv('/content/sample_data/dataset.csv')\n",
        "data.shape"
      ]
    },
    {
      "cell_type": "markdown",
      "metadata": {
        "id": "Y8FL9L4Qw_UN"
      },
      "source": [
        "Ознакомимся с информацией, хранящейся в наборе данных, на основе некоторых записей"
      ]
    },
    {
      "cell_type": "code",
      "execution_count": null,
      "metadata": {
        "colab": {
          "base_uri": "https://localhost:8080/",
          "height": 647
        },
        "id": "P70Ryyd7_Btn",
        "outputId": "2753a57a-15b7-4d49-c24f-9e6db086724d"
      },
      "outputs": [
        {
          "output_type": "execute_result",
          "data": {
            "text/plain": [
              "       encounter_id  patient_id  hospital_id   age        bmi  \\\n",
              "6199          45737       69187          118  58.0        NaN   \n",
              "66480         24309       16418           19  67.0  67.814990   \n",
              "55732         60131      126876           27  76.0  14.844926   \n",
              "10989         14838       82912           57  63.0  32.284088   \n",
              "14468         67250       15945          138  27.0  36.092552   \n",
              "88062        118804       19471          146  78.0  33.151087   \n",
              "91177        106921       91462          104  82.0  26.477456   \n",
              "84017         34195       96037          188  83.0  21.929957   \n",
              "48620        130751       51519           21  80.0  30.367347   \n",
              "44493        111668       77080           14  73.0  21.495318   \n",
              "\n",
              "       elective_surgery         ethnicity gender  height  \\\n",
              "6199                  1         Caucasian      M   185.4   \n",
              "66480                 0         Caucasian      F   160.0   \n",
              "55732                 0  African American      M   177.0   \n",
              "10989                 0  African American      F   165.1   \n",
              "14468                 0         Caucasian      F   149.9   \n",
              "88062                 1         Caucasian      M   177.8   \n",
              "91177                 0  African American      M   170.2   \n",
              "84017                 0         Caucasian      F   157.5   \n",
              "48620                 0         Caucasian      M   175.0   \n",
              "44493                 0         Caucasian      F   149.9   \n",
              "\n",
              "                icu_admit_source  ...  diabetes_mellitus hepatic_failure  \\\n",
              "6199   Operating Room / Recovery  ...                0.0             0.0   \n",
              "66480       Accident & Emergency  ...                0.0             0.0   \n",
              "55732       Accident & Emergency  ...                0.0             0.0   \n",
              "10989       Accident & Emergency  ...                0.0             0.0   \n",
              "14468       Accident & Emergency  ...                0.0             0.0   \n",
              "88062  Operating Room / Recovery  ...                1.0             0.0   \n",
              "91177       Accident & Emergency  ...                1.0             0.0   \n",
              "84017       Accident & Emergency  ...                0.0             0.0   \n",
              "48620  Operating Room / Recovery  ...                0.0             0.0   \n",
              "44493  Operating Room / Recovery  ...                0.0             0.0   \n",
              "\n",
              "      immunosuppression  leukemia  lymphoma  solid_tumor_with_metastasis  \\\n",
              "6199                0.0       0.0       0.0                          0.0   \n",
              "66480               0.0       0.0       0.0                          0.0   \n",
              "55732               0.0       0.0       0.0                          0.0   \n",
              "10989               0.0       0.0       0.0                          0.0   \n",
              "14468               0.0       0.0       0.0                          0.0   \n",
              "88062               0.0       0.0       0.0                          0.0   \n",
              "91177               0.0       0.0       0.0                          0.0   \n",
              "84017               0.0       0.0       0.0                          0.0   \n",
              "48620               0.0       0.0       0.0                          0.0   \n",
              "44493               0.0       0.0       0.0                          0.0   \n",
              "\n",
              "       apache_3j_bodysystem  apache_2_bodysystem  Unnamed: 83  hospital_death  \n",
              "6199         Cardiovascular       Cardiovascular          NaN               0  \n",
              "66480             Metabolic            Metabolic          NaN               0  \n",
              "55732        Cardiovascular       Cardiovascular          NaN               0  \n",
              "10989        Cardiovascular       Cardiovascular          NaN               0  \n",
              "14468           Respiratory          Respiratory          NaN               0  \n",
              "88062        Cardiovascular  Undefined diagnoses          NaN               0  \n",
              "91177                Sepsis       Cardiovascular          NaN               0  \n",
              "84017        Cardiovascular       Cardiovascular          NaN               0  \n",
              "48620        Cardiovascular       Cardiovascular          NaN               0  \n",
              "44493        Cardiovascular       Cardiovascular          NaN               0  \n",
              "\n",
              "[10 rows x 85 columns]"
            ],
            "text/html": [
              "\n",
              "  <div id=\"df-cd313b54-23e7-48ef-94f4-8050b7c2d119\">\n",
              "    <div class=\"colab-df-container\">\n",
              "      <div>\n",
              "<style scoped>\n",
              "    .dataframe tbody tr th:only-of-type {\n",
              "        vertical-align: middle;\n",
              "    }\n",
              "\n",
              "    .dataframe tbody tr th {\n",
              "        vertical-align: top;\n",
              "    }\n",
              "\n",
              "    .dataframe thead th {\n",
              "        text-align: right;\n",
              "    }\n",
              "</style>\n",
              "<table border=\"1\" class=\"dataframe\">\n",
              "  <thead>\n",
              "    <tr style=\"text-align: right;\">\n",
              "      <th></th>\n",
              "      <th>encounter_id</th>\n",
              "      <th>patient_id</th>\n",
              "      <th>hospital_id</th>\n",
              "      <th>age</th>\n",
              "      <th>bmi</th>\n",
              "      <th>elective_surgery</th>\n",
              "      <th>ethnicity</th>\n",
              "      <th>gender</th>\n",
              "      <th>height</th>\n",
              "      <th>icu_admit_source</th>\n",
              "      <th>...</th>\n",
              "      <th>diabetes_mellitus</th>\n",
              "      <th>hepatic_failure</th>\n",
              "      <th>immunosuppression</th>\n",
              "      <th>leukemia</th>\n",
              "      <th>lymphoma</th>\n",
              "      <th>solid_tumor_with_metastasis</th>\n",
              "      <th>apache_3j_bodysystem</th>\n",
              "      <th>apache_2_bodysystem</th>\n",
              "      <th>Unnamed: 83</th>\n",
              "      <th>hospital_death</th>\n",
              "    </tr>\n",
              "  </thead>\n",
              "  <tbody>\n",
              "    <tr>\n",
              "      <th>6199</th>\n",
              "      <td>45737</td>\n",
              "      <td>69187</td>\n",
              "      <td>118</td>\n",
              "      <td>58.0</td>\n",
              "      <td>NaN</td>\n",
              "      <td>1</td>\n",
              "      <td>Caucasian</td>\n",
              "      <td>M</td>\n",
              "      <td>185.4</td>\n",
              "      <td>Operating Room / Recovery</td>\n",
              "      <td>...</td>\n",
              "      <td>0.0</td>\n",
              "      <td>0.0</td>\n",
              "      <td>0.0</td>\n",
              "      <td>0.0</td>\n",
              "      <td>0.0</td>\n",
              "      <td>0.0</td>\n",
              "      <td>Cardiovascular</td>\n",
              "      <td>Cardiovascular</td>\n",
              "      <td>NaN</td>\n",
              "      <td>0</td>\n",
              "    </tr>\n",
              "    <tr>\n",
              "      <th>66480</th>\n",
              "      <td>24309</td>\n",
              "      <td>16418</td>\n",
              "      <td>19</td>\n",
              "      <td>67.0</td>\n",
              "      <td>67.814990</td>\n",
              "      <td>0</td>\n",
              "      <td>Caucasian</td>\n",
              "      <td>F</td>\n",
              "      <td>160.0</td>\n",
              "      <td>Accident &amp; Emergency</td>\n",
              "      <td>...</td>\n",
              "      <td>0.0</td>\n",
              "      <td>0.0</td>\n",
              "      <td>0.0</td>\n",
              "      <td>0.0</td>\n",
              "      <td>0.0</td>\n",
              "      <td>0.0</td>\n",
              "      <td>Metabolic</td>\n",
              "      <td>Metabolic</td>\n",
              "      <td>NaN</td>\n",
              "      <td>0</td>\n",
              "    </tr>\n",
              "    <tr>\n",
              "      <th>55732</th>\n",
              "      <td>60131</td>\n",
              "      <td>126876</td>\n",
              "      <td>27</td>\n",
              "      <td>76.0</td>\n",
              "      <td>14.844926</td>\n",
              "      <td>0</td>\n",
              "      <td>African American</td>\n",
              "      <td>M</td>\n",
              "      <td>177.0</td>\n",
              "      <td>Accident &amp; Emergency</td>\n",
              "      <td>...</td>\n",
              "      <td>0.0</td>\n",
              "      <td>0.0</td>\n",
              "      <td>0.0</td>\n",
              "      <td>0.0</td>\n",
              "      <td>0.0</td>\n",
              "      <td>0.0</td>\n",
              "      <td>Cardiovascular</td>\n",
              "      <td>Cardiovascular</td>\n",
              "      <td>NaN</td>\n",
              "      <td>0</td>\n",
              "    </tr>\n",
              "    <tr>\n",
              "      <th>10989</th>\n",
              "      <td>14838</td>\n",
              "      <td>82912</td>\n",
              "      <td>57</td>\n",
              "      <td>63.0</td>\n",
              "      <td>32.284088</td>\n",
              "      <td>0</td>\n",
              "      <td>African American</td>\n",
              "      <td>F</td>\n",
              "      <td>165.1</td>\n",
              "      <td>Accident &amp; Emergency</td>\n",
              "      <td>...</td>\n",
              "      <td>0.0</td>\n",
              "      <td>0.0</td>\n",
              "      <td>0.0</td>\n",
              "      <td>0.0</td>\n",
              "      <td>0.0</td>\n",
              "      <td>0.0</td>\n",
              "      <td>Cardiovascular</td>\n",
              "      <td>Cardiovascular</td>\n",
              "      <td>NaN</td>\n",
              "      <td>0</td>\n",
              "    </tr>\n",
              "    <tr>\n",
              "      <th>14468</th>\n",
              "      <td>67250</td>\n",
              "      <td>15945</td>\n",
              "      <td>138</td>\n",
              "      <td>27.0</td>\n",
              "      <td>36.092552</td>\n",
              "      <td>0</td>\n",
              "      <td>Caucasian</td>\n",
              "      <td>F</td>\n",
              "      <td>149.9</td>\n",
              "      <td>Accident &amp; Emergency</td>\n",
              "      <td>...</td>\n",
              "      <td>0.0</td>\n",
              "      <td>0.0</td>\n",
              "      <td>0.0</td>\n",
              "      <td>0.0</td>\n",
              "      <td>0.0</td>\n",
              "      <td>0.0</td>\n",
              "      <td>Respiratory</td>\n",
              "      <td>Respiratory</td>\n",
              "      <td>NaN</td>\n",
              "      <td>0</td>\n",
              "    </tr>\n",
              "    <tr>\n",
              "      <th>88062</th>\n",
              "      <td>118804</td>\n",
              "      <td>19471</td>\n",
              "      <td>146</td>\n",
              "      <td>78.0</td>\n",
              "      <td>33.151087</td>\n",
              "      <td>1</td>\n",
              "      <td>Caucasian</td>\n",
              "      <td>M</td>\n",
              "      <td>177.8</td>\n",
              "      <td>Operating Room / Recovery</td>\n",
              "      <td>...</td>\n",
              "      <td>1.0</td>\n",
              "      <td>0.0</td>\n",
              "      <td>0.0</td>\n",
              "      <td>0.0</td>\n",
              "      <td>0.0</td>\n",
              "      <td>0.0</td>\n",
              "      <td>Cardiovascular</td>\n",
              "      <td>Undefined diagnoses</td>\n",
              "      <td>NaN</td>\n",
              "      <td>0</td>\n",
              "    </tr>\n",
              "    <tr>\n",
              "      <th>91177</th>\n",
              "      <td>106921</td>\n",
              "      <td>91462</td>\n",
              "      <td>104</td>\n",
              "      <td>82.0</td>\n",
              "      <td>26.477456</td>\n",
              "      <td>0</td>\n",
              "      <td>African American</td>\n",
              "      <td>M</td>\n",
              "      <td>170.2</td>\n",
              "      <td>Accident &amp; Emergency</td>\n",
              "      <td>...</td>\n",
              "      <td>1.0</td>\n",
              "      <td>0.0</td>\n",
              "      <td>0.0</td>\n",
              "      <td>0.0</td>\n",
              "      <td>0.0</td>\n",
              "      <td>0.0</td>\n",
              "      <td>Sepsis</td>\n",
              "      <td>Cardiovascular</td>\n",
              "      <td>NaN</td>\n",
              "      <td>0</td>\n",
              "    </tr>\n",
              "    <tr>\n",
              "      <th>84017</th>\n",
              "      <td>34195</td>\n",
              "      <td>96037</td>\n",
              "      <td>188</td>\n",
              "      <td>83.0</td>\n",
              "      <td>21.929957</td>\n",
              "      <td>0</td>\n",
              "      <td>Caucasian</td>\n",
              "      <td>F</td>\n",
              "      <td>157.5</td>\n",
              "      <td>Accident &amp; Emergency</td>\n",
              "      <td>...</td>\n",
              "      <td>0.0</td>\n",
              "      <td>0.0</td>\n",
              "      <td>0.0</td>\n",
              "      <td>0.0</td>\n",
              "      <td>0.0</td>\n",
              "      <td>0.0</td>\n",
              "      <td>Cardiovascular</td>\n",
              "      <td>Cardiovascular</td>\n",
              "      <td>NaN</td>\n",
              "      <td>0</td>\n",
              "    </tr>\n",
              "    <tr>\n",
              "      <th>48620</th>\n",
              "      <td>130751</td>\n",
              "      <td>51519</td>\n",
              "      <td>21</td>\n",
              "      <td>80.0</td>\n",
              "      <td>30.367347</td>\n",
              "      <td>0</td>\n",
              "      <td>Caucasian</td>\n",
              "      <td>M</td>\n",
              "      <td>175.0</td>\n",
              "      <td>Operating Room / Recovery</td>\n",
              "      <td>...</td>\n",
              "      <td>0.0</td>\n",
              "      <td>0.0</td>\n",
              "      <td>0.0</td>\n",
              "      <td>0.0</td>\n",
              "      <td>0.0</td>\n",
              "      <td>0.0</td>\n",
              "      <td>Cardiovascular</td>\n",
              "      <td>Cardiovascular</td>\n",
              "      <td>NaN</td>\n",
              "      <td>0</td>\n",
              "    </tr>\n",
              "    <tr>\n",
              "      <th>44493</th>\n",
              "      <td>111668</td>\n",
              "      <td>77080</td>\n",
              "      <td>14</td>\n",
              "      <td>73.0</td>\n",
              "      <td>21.495318</td>\n",
              "      <td>0</td>\n",
              "      <td>Caucasian</td>\n",
              "      <td>F</td>\n",
              "      <td>149.9</td>\n",
              "      <td>Operating Room / Recovery</td>\n",
              "      <td>...</td>\n",
              "      <td>0.0</td>\n",
              "      <td>0.0</td>\n",
              "      <td>0.0</td>\n",
              "      <td>0.0</td>\n",
              "      <td>0.0</td>\n",
              "      <td>0.0</td>\n",
              "      <td>Cardiovascular</td>\n",
              "      <td>Cardiovascular</td>\n",
              "      <td>NaN</td>\n",
              "      <td>0</td>\n",
              "    </tr>\n",
              "  </tbody>\n",
              "</table>\n",
              "<p>10 rows × 85 columns</p>\n",
              "</div>\n",
              "      <button class=\"colab-df-convert\" onclick=\"convertToInteractive('df-cd313b54-23e7-48ef-94f4-8050b7c2d119')\"\n",
              "              title=\"Convert this dataframe to an interactive table.\"\n",
              "              style=\"display:none;\">\n",
              "        \n",
              "  <svg xmlns=\"http://www.w3.org/2000/svg\" height=\"24px\"viewBox=\"0 0 24 24\"\n",
              "       width=\"24px\">\n",
              "    <path d=\"M0 0h24v24H0V0z\" fill=\"none\"/>\n",
              "    <path d=\"M18.56 5.44l.94 2.06.94-2.06 2.06-.94-2.06-.94-.94-2.06-.94 2.06-2.06.94zm-11 1L8.5 8.5l.94-2.06 2.06-.94-2.06-.94L8.5 2.5l-.94 2.06-2.06.94zm10 10l.94 2.06.94-2.06 2.06-.94-2.06-.94-.94-2.06-.94 2.06-2.06.94z\"/><path d=\"M17.41 7.96l-1.37-1.37c-.4-.4-.92-.59-1.43-.59-.52 0-1.04.2-1.43.59L10.3 9.45l-7.72 7.72c-.78.78-.78 2.05 0 2.83L4 21.41c.39.39.9.59 1.41.59.51 0 1.02-.2 1.41-.59l7.78-7.78 2.81-2.81c.8-.78.8-2.07 0-2.86zM5.41 20L4 18.59l7.72-7.72 1.47 1.35L5.41 20z\"/>\n",
              "  </svg>\n",
              "      </button>\n",
              "      \n",
              "  <style>\n",
              "    .colab-df-container {\n",
              "      display:flex;\n",
              "      flex-wrap:wrap;\n",
              "      gap: 12px;\n",
              "    }\n",
              "\n",
              "    .colab-df-convert {\n",
              "      background-color: #E8F0FE;\n",
              "      border: none;\n",
              "      border-radius: 50%;\n",
              "      cursor: pointer;\n",
              "      display: none;\n",
              "      fill: #1967D2;\n",
              "      height: 32px;\n",
              "      padding: 0 0 0 0;\n",
              "      width: 32px;\n",
              "    }\n",
              "\n",
              "    .colab-df-convert:hover {\n",
              "      background-color: #E2EBFA;\n",
              "      box-shadow: 0px 1px 2px rgba(60, 64, 67, 0.3), 0px 1px 3px 1px rgba(60, 64, 67, 0.15);\n",
              "      fill: #174EA6;\n",
              "    }\n",
              "\n",
              "    [theme=dark] .colab-df-convert {\n",
              "      background-color: #3B4455;\n",
              "      fill: #D2E3FC;\n",
              "    }\n",
              "\n",
              "    [theme=dark] .colab-df-convert:hover {\n",
              "      background-color: #434B5C;\n",
              "      box-shadow: 0px 1px 3px 1px rgba(0, 0, 0, 0.15);\n",
              "      filter: drop-shadow(0px 1px 2px rgba(0, 0, 0, 0.3));\n",
              "      fill: #FFFFFF;\n",
              "    }\n",
              "  </style>\n",
              "\n",
              "      <script>\n",
              "        const buttonEl =\n",
              "          document.querySelector('#df-cd313b54-23e7-48ef-94f4-8050b7c2d119 button.colab-df-convert');\n",
              "        buttonEl.style.display =\n",
              "          google.colab.kernel.accessAllowed ? 'block' : 'none';\n",
              "\n",
              "        async function convertToInteractive(key) {\n",
              "          const element = document.querySelector('#df-cd313b54-23e7-48ef-94f4-8050b7c2d119');\n",
              "          const dataTable =\n",
              "            await google.colab.kernel.invokeFunction('convertToInteractive',\n",
              "                                                     [key], {});\n",
              "          if (!dataTable) return;\n",
              "\n",
              "          const docLinkHtml = 'Like what you see? Visit the ' +\n",
              "            '<a target=\"_blank\" href=https://colab.research.google.com/notebooks/data_table.ipynb>data table notebook</a>'\n",
              "            + ' to learn more about interactive tables.';\n",
              "          element.innerHTML = '';\n",
              "          dataTable['output_type'] = 'display_data';\n",
              "          await google.colab.output.renderOutput(dataTable, element);\n",
              "          const docLink = document.createElement('div');\n",
              "          docLink.innerHTML = docLinkHtml;\n",
              "          element.appendChild(docLink);\n",
              "        }\n",
              "      </script>\n",
              "    </div>\n",
              "  </div>\n",
              "  "
            ]
          },
          "metadata": {},
          "execution_count": 4
        }
      ],
      "source": [
        "data.sample(10)"
      ]
    },
    {
      "cell_type": "markdown",
      "metadata": {
        "id": "MV41_jl8_RiU"
      },
      "source": [
        "Подробная информация о столбцах набора данных"
      ]
    },
    {
      "cell_type": "code",
      "execution_count": null,
      "metadata": {
        "colab": {
          "base_uri": "https://localhost:8080/"
        },
        "id": "OWKTOU4I_P6x",
        "outputId": "1051c1d3-9ba0-4f34-86c8-92232416d6ce"
      },
      "outputs": [
        {
          "output_type": "stream",
          "name": "stdout",
          "text": [
            "<class 'pandas.core.frame.DataFrame'>\n",
            "RangeIndex: 91713 entries, 0 to 91712\n",
            "Data columns (total 85 columns):\n",
            " #   Column                         Non-Null Count  Dtype  \n",
            "---  ------                         --------------  -----  \n",
            " 0   encounter_id                   91713 non-null  int64  \n",
            " 1   patient_id                     91713 non-null  int64  \n",
            " 2   hospital_id                    91713 non-null  int64  \n",
            " 3   age                            87485 non-null  float64\n",
            " 4   bmi                            88284 non-null  float64\n",
            " 5   elective_surgery               91713 non-null  int64  \n",
            " 6   ethnicity                      90318 non-null  object \n",
            " 7   gender                         91688 non-null  object \n",
            " 8   height                         90379 non-null  float64\n",
            " 9   icu_admit_source               91601 non-null  object \n",
            " 10  icu_id                         91713 non-null  int64  \n",
            " 11  icu_stay_type                  91713 non-null  object \n",
            " 12  icu_type                       91713 non-null  object \n",
            " 13  pre_icu_los_days               91713 non-null  float64\n",
            " 14  weight                         88993 non-null  float64\n",
            " 15  apache_2_diagnosis             90051 non-null  float64\n",
            " 16  apache_3j_diagnosis            90612 non-null  float64\n",
            " 17  apache_post_operative          91713 non-null  int64  \n",
            " 18  arf_apache                     90998 non-null  float64\n",
            " 19  gcs_eyes_apache                89812 non-null  float64\n",
            " 20  gcs_motor_apache               89812 non-null  float64\n",
            " 21  gcs_unable_apache              90676 non-null  float64\n",
            " 22  gcs_verbal_apache              89812 non-null  float64\n",
            " 23  heart_rate_apache              90835 non-null  float64\n",
            " 24  intubated_apache               90998 non-null  float64\n",
            " 25  map_apache                     90719 non-null  float64\n",
            " 26  resprate_apache                90479 non-null  float64\n",
            " 27  temp_apache                    87605 non-null  float64\n",
            " 28  ventilated_apache              90998 non-null  float64\n",
            " 29  d1_diasbp_max                  91548 non-null  float64\n",
            " 30  d1_diasbp_min                  91548 non-null  float64\n",
            " 31  d1_diasbp_noninvasive_max      90673 non-null  float64\n",
            " 32  d1_diasbp_noninvasive_min      90673 non-null  float64\n",
            " 33  d1_heartrate_max               91568 non-null  float64\n",
            " 34  d1_heartrate_min               91568 non-null  float64\n",
            " 35  d1_mbp_max                     91493 non-null  float64\n",
            " 36  d1_mbp_min                     91493 non-null  float64\n",
            " 37  d1_mbp_noninvasive_max         90234 non-null  float64\n",
            " 38  d1_mbp_noninvasive_min         90234 non-null  float64\n",
            " 39  d1_resprate_max                91328 non-null  float64\n",
            " 40  d1_resprate_min                91328 non-null  float64\n",
            " 41  d1_spo2_max                    91380 non-null  float64\n",
            " 42  d1_spo2_min                    91380 non-null  float64\n",
            " 43  d1_sysbp_max                   91554 non-null  float64\n",
            " 44  d1_sysbp_min                   91554 non-null  float64\n",
            " 45  d1_sysbp_noninvasive_max       90686 non-null  float64\n",
            " 46  d1_sysbp_noninvasive_min       90686 non-null  float64\n",
            " 47  d1_temp_max                    89389 non-null  float64\n",
            " 48  d1_temp_min                    89389 non-null  float64\n",
            " 49  h1_diasbp_max                  88094 non-null  float64\n",
            " 50  h1_diasbp_min                  88094 non-null  float64\n",
            " 51  h1_diasbp_noninvasive_max      84363 non-null  float64\n",
            " 52  h1_diasbp_noninvasive_min      84363 non-null  float64\n",
            " 53  h1_heartrate_max               88923 non-null  float64\n",
            " 54  h1_heartrate_min               88923 non-null  float64\n",
            " 55  h1_mbp_max                     87074 non-null  float64\n",
            " 56  h1_mbp_min                     87074 non-null  float64\n",
            " 57  h1_mbp_noninvasive_max         82629 non-null  float64\n",
            " 58  h1_mbp_noninvasive_min         82629 non-null  float64\n",
            " 59  h1_resprate_max                87356 non-null  float64\n",
            " 60  h1_resprate_min                87356 non-null  float64\n",
            " 61  h1_spo2_max                    87528 non-null  float64\n",
            " 62  h1_spo2_min                    87528 non-null  float64\n",
            " 63  h1_sysbp_max                   88102 non-null  float64\n",
            " 64  h1_sysbp_min                   88102 non-null  float64\n",
            " 65  h1_sysbp_noninvasive_max       84372 non-null  float64\n",
            " 66  h1_sysbp_noninvasive_min       84372 non-null  float64\n",
            " 67  d1_glucose_max                 85906 non-null  float64\n",
            " 68  d1_glucose_min                 85906 non-null  float64\n",
            " 69  d1_potassium_max               82128 non-null  float64\n",
            " 70  d1_potassium_min               82128 non-null  float64\n",
            " 71  apache_4a_hospital_death_prob  83766 non-null  float64\n",
            " 72  apache_4a_icu_death_prob       83766 non-null  float64\n",
            " 73  aids                           90998 non-null  float64\n",
            " 74  cirrhosis                      90998 non-null  float64\n",
            " 75  diabetes_mellitus              90998 non-null  float64\n",
            " 76  hepatic_failure                90998 non-null  float64\n",
            " 77  immunosuppression              90998 non-null  float64\n",
            " 78  leukemia                       90998 non-null  float64\n",
            " 79  lymphoma                       90998 non-null  float64\n",
            " 80  solid_tumor_with_metastasis    90998 non-null  float64\n",
            " 81  apache_3j_bodysystem           90051 non-null  object \n",
            " 82  apache_2_bodysystem            90051 non-null  object \n",
            " 83  Unnamed: 83                    0 non-null      float64\n",
            " 84  hospital_death                 91713 non-null  int64  \n",
            "dtypes: float64(71), int64(7), object(7)\n",
            "memory usage: 59.5+ MB\n"
          ]
        }
      ],
      "source": [
        "data.info()"
      ]
    },
    {
      "cell_type": "markdown",
      "metadata": {
        "id": "PE0hqBMX_v-3"
      },
      "source": [
        "По полученному описанию можно определить наличие пропущенных значений. Категориальные признаки brand, fuelType, model, gearbox, seller, offerType, abtest, notRepairedDamage. текстовый признак name,  остальные признаки числовые либо даты. "
      ]
    },
    {
      "cell_type": "code",
      "execution_count": null,
      "metadata": {
        "colab": {
          "base_uri": "https://localhost:8080/"
        },
        "id": "d7EaCb22_veu",
        "outputId": "d7fddbb0-ba66-40f3-8075-10a0c64cc353"
      },
      "outputs": [
        {
          "output_type": "execute_result",
          "data": {
            "text/plain": [
              "CategoricalDtype(categories=['F', 'M'], ordered=False)"
            ]
          },
          "metadata": {},
          "execution_count": 6
        }
      ],
      "source": [
        "data.gender = data.gender.astype('category')\n",
        "data.gender.dtype"
      ]
    },
    {
      "cell_type": "code",
      "execution_count": null,
      "metadata": {
        "colab": {
          "base_uri": "https://localhost:8080/"
        },
        "id": "Q9YbZH5MKrGH",
        "outputId": "25255c04-d7cb-4b92-97f1-946bf69caabc"
      },
      "outputs": [
        {
          "output_type": "execute_result",
          "data": {
            "text/plain": [
              "CategoricalDtype(categories=[  2,   3,   4,   5,   6,   8,   9,  10,  13,  14,\n",
              "                  ...\n",
              "                  192, 194, 195, 196, 197, 198, 199, 200, 202, 204],\n",
              ", ordered=False)"
            ]
          },
          "metadata": {},
          "execution_count": 7
        }
      ],
      "source": [
        "data.hospital_id = data.hospital_id.astype('category')\n",
        "data.hospital_id.dtype"
      ]
    },
    {
      "cell_type": "code",
      "execution_count": null,
      "metadata": {
        "colab": {
          "base_uri": "https://localhost:8080/"
        },
        "id": "KF309IStaZcg",
        "outputId": "7a49d794-5483-4325-ee67-c1a887eb41cf"
      },
      "outputs": [
        {
          "output_type": "execute_result",
          "data": {
            "text/plain": [
              "CategoricalDtype(categories=['African American', 'Asian', 'Caucasian', 'Hispanic',\n",
              "                  'Native American', 'Other/Unknown'],\n",
              ", ordered=False)"
            ]
          },
          "metadata": {},
          "execution_count": 9
        }
      ],
      "source": [
        "data.ethnicity = data.ethnicity.astype('category')\n",
        "data.ethnicity.dtype"
      ]
    },
    {
      "cell_type": "code",
      "execution_count": null,
      "metadata": {
        "colab": {
          "base_uri": "https://localhost:8080/"
        },
        "id": "ulxBjMXOZi-4",
        "outputId": "6f476df8-ba53-4b3c-c589-a41d1e8b0ad6"
      },
      "outputs": [
        {
          "output_type": "execute_result",
          "data": {
            "text/plain": [
              "CategoricalDtype(categories=['Accident & Emergency', 'Floor', 'Operating Room / Recovery',\n",
              "                  'Other Hospital', 'Other ICU'],\n",
              ", ordered=False)"
            ]
          },
          "metadata": {},
          "execution_count": 10
        }
      ],
      "source": [
        "data.icu_admit_source= data.icu_admit_source.astype('category')\n",
        "data.icu_admit_source.dtype"
      ]
    },
    {
      "cell_type": "code",
      "execution_count": null,
      "metadata": {
        "colab": {
          "base_uri": "https://localhost:8080/"
        },
        "id": "jp9ilHLpReTh",
        "outputId": "2d03b211-b01e-4fe5-ecf7-c685ab552ae8"
      },
      "outputs": [
        {
          "output_type": "execute_result",
          "data": {
            "text/plain": [
              "CategoricalDtype(categories=['admit', 'readmit', 'transfer'], ordered=False)"
            ]
          },
          "metadata": {},
          "execution_count": 11
        }
      ],
      "source": [
        "data.icu_stay_type = data.icu_stay_type.astype('category')\n",
        "data.icu_stay_type.dtype"
      ]
    },
    {
      "cell_type": "code",
      "execution_count": null,
      "metadata": {
        "colab": {
          "base_uri": "https://localhost:8080/"
        },
        "id": "NU1TbDVwcpCG",
        "outputId": "3b7f67d0-9b20-4c62-b642-d0b3a7ebc21e"
      },
      "outputs": [
        {
          "output_type": "execute_result",
          "data": {
            "text/plain": [
              "CategoricalDtype(categories=['CCU-CTICU', 'CSICU', 'CTICU', 'Cardiac ICU', 'MICU',\n",
              "                  'Med-Surg ICU', 'Neuro ICU', 'SICU'],\n",
              ", ordered=False)"
            ]
          },
          "metadata": {},
          "execution_count": 12
        }
      ],
      "source": [
        "data.icu_type = data.icu_type.astype('category')\n",
        "data.icu_type.dtype"
      ]
    },
    {
      "cell_type": "code",
      "execution_count": null,
      "metadata": {
        "colab": {
          "base_uri": "https://localhost:8080/"
        },
        "id": "G-NwUAUwdTEH",
        "outputId": "1169a71b-aff7-4d44-b84f-60c258dcacf5"
      },
      "outputs": [
        {
          "output_type": "execute_result",
          "data": {
            "text/plain": [
              "CategoricalDtype(categories=['Cardiovascular', 'Gastrointestinal', 'Genitourinary',\n",
              "                  'Gynecological', 'Hematological', 'Metabolic',\n",
              "                  'Musculoskeletal/Skin', 'Neurological', 'Respiratory',\n",
              "                  'Sepsis', 'Trauma'],\n",
              ", ordered=False)"
            ]
          },
          "metadata": {},
          "execution_count": 13
        }
      ],
      "source": [
        "data.apache_3j_bodysystem = data.apache_3j_bodysystem.astype('category')\n",
        "data.apache_3j_bodysystem.dtype"
      ]
    },
    {
      "cell_type": "code",
      "execution_count": null,
      "metadata": {
        "colab": {
          "base_uri": "https://localhost:8080/"
        },
        "id": "m1lwsJntOlXJ",
        "outputId": "3bbe2ef4-530d-4441-d2a1-05ff2290c8e6"
      },
      "outputs": [
        {
          "output_type": "execute_result",
          "data": {
            "text/plain": [
              "CategoricalDtype(categories=['Cardiovascular', 'Gastrointestinal', 'Haematologic',\n",
              "                  'Metabolic', 'Neurologic', 'Renal/Genitourinary',\n",
              "                  'Respiratory', 'Trauma', 'Undefined Diagnoses',\n",
              "                  'Undefined diagnoses'],\n",
              ", ordered=False)"
            ]
          },
          "metadata": {},
          "execution_count": 14
        }
      ],
      "source": [
        "data.apache_2_bodysystem = data.apache_2_bodysystem.astype('category')\n",
        "data.apache_2_bodysystem.dtype"
      ]
    },
    {
      "cell_type": "code",
      "execution_count": null,
      "metadata": {
        "id": "FgnQxa9tqsHZ"
      },
      "outputs": [],
      "source": [
        "data.drop(['encounter_id'], axis=1, inplace=True)\n",
        "data.drop(['patient_id'], axis=1, inplace=True)\n",
        "data.drop(['Unnamed: 83'], axis=1, inplace=True)"
      ]
    },
    {
      "cell_type": "code",
      "source": [
        "data.info()"
      ],
      "metadata": {
        "colab": {
          "base_uri": "https://localhost:8080/"
        },
        "id": "JspTGuhWhpDk",
        "outputId": "2efbcb18-176b-4c78-95cc-8d493505bbd0"
      },
      "execution_count": null,
      "outputs": [
        {
          "output_type": "stream",
          "name": "stdout",
          "text": [
            "<class 'pandas.core.frame.DataFrame'>\n",
            "RangeIndex: 91713 entries, 0 to 91712\n",
            "Data columns (total 82 columns):\n",
            " #   Column                         Non-Null Count  Dtype   \n",
            "---  ------                         --------------  -----   \n",
            " 0   hospital_id                    91713 non-null  category\n",
            " 1   age                            87485 non-null  float64 \n",
            " 2   bmi                            88284 non-null  float64 \n",
            " 3   elective_surgery               91713 non-null  int64   \n",
            " 4   ethnicity                      90318 non-null  category\n",
            " 5   gender                         91688 non-null  category\n",
            " 6   height                         90379 non-null  float64 \n",
            " 7   icu_admit_source               91601 non-null  category\n",
            " 8   icu_id                         91713 non-null  int64   \n",
            " 9   icu_stay_type                  91713 non-null  category\n",
            " 10  icu_type                       91713 non-null  category\n",
            " 11  pre_icu_los_days               91713 non-null  float64 \n",
            " 12  weight                         88993 non-null  float64 \n",
            " 13  apache_2_diagnosis             90051 non-null  float64 \n",
            " 14  apache_3j_diagnosis            90612 non-null  float64 \n",
            " 15  apache_post_operative          91713 non-null  int64   \n",
            " 16  arf_apache                     90998 non-null  float64 \n",
            " 17  gcs_eyes_apache                89812 non-null  float64 \n",
            " 18  gcs_motor_apache               89812 non-null  float64 \n",
            " 19  gcs_unable_apache              90676 non-null  float64 \n",
            " 20  gcs_verbal_apache              89812 non-null  float64 \n",
            " 21  heart_rate_apache              90835 non-null  float64 \n",
            " 22  intubated_apache               90998 non-null  float64 \n",
            " 23  map_apache                     90719 non-null  float64 \n",
            " 24  resprate_apache                90479 non-null  float64 \n",
            " 25  temp_apache                    87605 non-null  float64 \n",
            " 26  ventilated_apache              90998 non-null  float64 \n",
            " 27  d1_diasbp_max                  91548 non-null  float64 \n",
            " 28  d1_diasbp_min                  91548 non-null  float64 \n",
            " 29  d1_diasbp_noninvasive_max      90673 non-null  float64 \n",
            " 30  d1_diasbp_noninvasive_min      90673 non-null  float64 \n",
            " 31  d1_heartrate_max               91568 non-null  float64 \n",
            " 32  d1_heartrate_min               91568 non-null  float64 \n",
            " 33  d1_mbp_max                     91493 non-null  float64 \n",
            " 34  d1_mbp_min                     91493 non-null  float64 \n",
            " 35  d1_mbp_noninvasive_max         90234 non-null  float64 \n",
            " 36  d1_mbp_noninvasive_min         90234 non-null  float64 \n",
            " 37  d1_resprate_max                91328 non-null  float64 \n",
            " 38  d1_resprate_min                91328 non-null  float64 \n",
            " 39  d1_spo2_max                    91380 non-null  float64 \n",
            " 40  d1_spo2_min                    91380 non-null  float64 \n",
            " 41  d1_sysbp_max                   91554 non-null  float64 \n",
            " 42  d1_sysbp_min                   91554 non-null  float64 \n",
            " 43  d1_sysbp_noninvasive_max       90686 non-null  float64 \n",
            " 44  d1_sysbp_noninvasive_min       90686 non-null  float64 \n",
            " 45  d1_temp_max                    89389 non-null  float64 \n",
            " 46  d1_temp_min                    89389 non-null  float64 \n",
            " 47  h1_diasbp_max                  88094 non-null  float64 \n",
            " 48  h1_diasbp_min                  88094 non-null  float64 \n",
            " 49  h1_diasbp_noninvasive_max      84363 non-null  float64 \n",
            " 50  h1_diasbp_noninvasive_min      84363 non-null  float64 \n",
            " 51  h1_heartrate_max               88923 non-null  float64 \n",
            " 52  h1_heartrate_min               88923 non-null  float64 \n",
            " 53  h1_mbp_max                     87074 non-null  float64 \n",
            " 54  h1_mbp_min                     87074 non-null  float64 \n",
            " 55  h1_mbp_noninvasive_max         82629 non-null  float64 \n",
            " 56  h1_mbp_noninvasive_min         82629 non-null  float64 \n",
            " 57  h1_resprate_max                87356 non-null  float64 \n",
            " 58  h1_resprate_min                87356 non-null  float64 \n",
            " 59  h1_spo2_max                    87528 non-null  float64 \n",
            " 60  h1_spo2_min                    87528 non-null  float64 \n",
            " 61  h1_sysbp_max                   88102 non-null  float64 \n",
            " 62  h1_sysbp_min                   88102 non-null  float64 \n",
            " 63  h1_sysbp_noninvasive_max       84372 non-null  float64 \n",
            " 64  h1_sysbp_noninvasive_min       84372 non-null  float64 \n",
            " 65  d1_glucose_max                 85906 non-null  float64 \n",
            " 66  d1_glucose_min                 85906 non-null  float64 \n",
            " 67  d1_potassium_max               82128 non-null  float64 \n",
            " 68  d1_potassium_min               82128 non-null  float64 \n",
            " 69  apache_4a_hospital_death_prob  83766 non-null  float64 \n",
            " 70  apache_4a_icu_death_prob       83766 non-null  float64 \n",
            " 71  aids                           90998 non-null  float64 \n",
            " 72  cirrhosis                      90998 non-null  float64 \n",
            " 73  diabetes_mellitus              90998 non-null  float64 \n",
            " 74  hepatic_failure                90998 non-null  float64 \n",
            " 75  immunosuppression              90998 non-null  float64 \n",
            " 76  leukemia                       90998 non-null  float64 \n",
            " 77  lymphoma                       90998 non-null  float64 \n",
            " 78  solid_tumor_with_metastasis    90998 non-null  float64 \n",
            " 79  apache_3j_bodysystem           90051 non-null  category\n",
            " 80  apache_2_bodysystem            90051 non-null  category\n",
            " 81  hospital_death                 91713 non-null  int64   \n",
            "dtypes: category(8), float64(70), int64(4)\n",
            "memory usage: 52.6 MB\n"
          ]
        }
      ]
    },
    {
      "cell_type": "markdown",
      "metadata": {
        "id": "3oQpXePOf3s4"
      },
      "source": [
        "# Визуализация и основные характеристики"
      ]
    },
    {
      "cell_type": "markdown",
      "metadata": {
        "id": "NuuXvsOof8f5"
      },
      "source": [
        "Математическое описание для каждого числового столбца"
      ]
    },
    {
      "cell_type": "code",
      "execution_count": null,
      "metadata": {
        "colab": {
          "base_uri": "https://localhost:8080/",
          "height": 393
        },
        "id": "FWBVCw-CgBte",
        "outputId": "4d61318d-c6f1-46ad-fc93-7adb7f6f9b1b"
      },
      "outputs": [
        {
          "output_type": "execute_result",
          "data": {
            "text/plain": [
              "                age           bmi  elective_surgery        height  \\\n",
              "count  87485.000000  88284.000000      91713.000000  90379.000000   \n",
              "mean      62.309516     29.185818          0.183736    169.641588   \n",
              "std       16.775119      8.275142          0.387271     10.795378   \n",
              "min       16.000000     14.844926          0.000000    137.200000   \n",
              "25%       52.000000     23.641975          0.000000    162.500000   \n",
              "50%       65.000000     27.654655          0.000000    170.100000   \n",
              "75%       75.000000     32.930206          0.000000    177.800000   \n",
              "max       89.000000     67.814990          1.000000    195.590000   \n",
              "\n",
              "             icu_id  pre_icu_los_days        weight  apache_2_diagnosis  \\\n",
              "count  91713.000000      91713.000000  88993.000000        90051.000000   \n",
              "mean     508.357692          0.835766     84.028340          185.401739   \n",
              "std      228.989661          2.487756     25.011497           86.050882   \n",
              "min       82.000000        -24.947222     38.600000          101.000000   \n",
              "25%      369.000000          0.035417     66.800000          113.000000   \n",
              "50%      504.000000          0.138889     80.300000          122.000000   \n",
              "75%      679.000000          0.409028     97.100000          301.000000   \n",
              "max      927.000000        159.090972    186.000000          308.000000   \n",
              "\n",
              "       apache_3j_diagnosis  apache_post_operative  ...  \\\n",
              "count         90612.000000           91713.000000  ...   \n",
              "mean            558.216377               0.201106  ...   \n",
              "std             463.266985               0.400829  ...   \n",
              "min               0.010000               0.000000  ...   \n",
              "25%             203.010000               0.000000  ...   \n",
              "50%             409.020000               0.000000  ...   \n",
              "75%             703.030000               0.000000  ...   \n",
              "max            2201.050000               1.000000  ...   \n",
              "\n",
              "       apache_4a_icu_death_prob          aids     cirrhosis  \\\n",
              "count              83766.000000  90998.000000  90998.000000   \n",
              "mean                   0.043955      0.000857      0.015693   \n",
              "std                    0.217341      0.029265      0.124284   \n",
              "min                   -1.000000      0.000000      0.000000   \n",
              "25%                    0.010000      0.000000      0.000000   \n",
              "50%                    0.020000      0.000000      0.000000   \n",
              "75%                    0.060000      0.000000      0.000000   \n",
              "max                    0.970000      1.000000      1.000000   \n",
              "\n",
              "       diabetes_mellitus  hepatic_failure  immunosuppression      leukemia  \\\n",
              "count       90998.000000     90998.000000       90998.000000  90998.000000   \n",
              "mean            0.225192         0.012989           0.026165      0.007066   \n",
              "std             0.417711         0.113229           0.159628      0.083763   \n",
              "min             0.000000         0.000000           0.000000      0.000000   \n",
              "25%             0.000000         0.000000           0.000000      0.000000   \n",
              "50%             0.000000         0.000000           0.000000      0.000000   \n",
              "75%             0.000000         0.000000           0.000000      0.000000   \n",
              "max             1.000000         1.000000           1.000000      1.000000   \n",
              "\n",
              "           lymphoma  solid_tumor_with_metastasis  hospital_death  \n",
              "count  90998.000000                 90998.000000    91713.000000  \n",
              "mean       0.004132                     0.020638        0.086302  \n",
              "std        0.064148                     0.142169        0.280811  \n",
              "min        0.000000                     0.000000        0.000000  \n",
              "25%        0.000000                     0.000000        0.000000  \n",
              "50%        0.000000                     0.000000        0.000000  \n",
              "75%        0.000000                     0.000000        0.000000  \n",
              "max        1.000000                     1.000000        1.000000  \n",
              "\n",
              "[8 rows x 74 columns]"
            ],
            "text/html": [
              "\n",
              "  <div id=\"df-ec2483dc-bd52-4237-ae04-caec4227a138\">\n",
              "    <div class=\"colab-df-container\">\n",
              "      <div>\n",
              "<style scoped>\n",
              "    .dataframe tbody tr th:only-of-type {\n",
              "        vertical-align: middle;\n",
              "    }\n",
              "\n",
              "    .dataframe tbody tr th {\n",
              "        vertical-align: top;\n",
              "    }\n",
              "\n",
              "    .dataframe thead th {\n",
              "        text-align: right;\n",
              "    }\n",
              "</style>\n",
              "<table border=\"1\" class=\"dataframe\">\n",
              "  <thead>\n",
              "    <tr style=\"text-align: right;\">\n",
              "      <th></th>\n",
              "      <th>age</th>\n",
              "      <th>bmi</th>\n",
              "      <th>elective_surgery</th>\n",
              "      <th>height</th>\n",
              "      <th>icu_id</th>\n",
              "      <th>pre_icu_los_days</th>\n",
              "      <th>weight</th>\n",
              "      <th>apache_2_diagnosis</th>\n",
              "      <th>apache_3j_diagnosis</th>\n",
              "      <th>apache_post_operative</th>\n",
              "      <th>...</th>\n",
              "      <th>apache_4a_icu_death_prob</th>\n",
              "      <th>aids</th>\n",
              "      <th>cirrhosis</th>\n",
              "      <th>diabetes_mellitus</th>\n",
              "      <th>hepatic_failure</th>\n",
              "      <th>immunosuppression</th>\n",
              "      <th>leukemia</th>\n",
              "      <th>lymphoma</th>\n",
              "      <th>solid_tumor_with_metastasis</th>\n",
              "      <th>hospital_death</th>\n",
              "    </tr>\n",
              "  </thead>\n",
              "  <tbody>\n",
              "    <tr>\n",
              "      <th>count</th>\n",
              "      <td>87485.000000</td>\n",
              "      <td>88284.000000</td>\n",
              "      <td>91713.000000</td>\n",
              "      <td>90379.000000</td>\n",
              "      <td>91713.000000</td>\n",
              "      <td>91713.000000</td>\n",
              "      <td>88993.000000</td>\n",
              "      <td>90051.000000</td>\n",
              "      <td>90612.000000</td>\n",
              "      <td>91713.000000</td>\n",
              "      <td>...</td>\n",
              "      <td>83766.000000</td>\n",
              "      <td>90998.000000</td>\n",
              "      <td>90998.000000</td>\n",
              "      <td>90998.000000</td>\n",
              "      <td>90998.000000</td>\n",
              "      <td>90998.000000</td>\n",
              "      <td>90998.000000</td>\n",
              "      <td>90998.000000</td>\n",
              "      <td>90998.000000</td>\n",
              "      <td>91713.000000</td>\n",
              "    </tr>\n",
              "    <tr>\n",
              "      <th>mean</th>\n",
              "      <td>62.309516</td>\n",
              "      <td>29.185818</td>\n",
              "      <td>0.183736</td>\n",
              "      <td>169.641588</td>\n",
              "      <td>508.357692</td>\n",
              "      <td>0.835766</td>\n",
              "      <td>84.028340</td>\n",
              "      <td>185.401739</td>\n",
              "      <td>558.216377</td>\n",
              "      <td>0.201106</td>\n",
              "      <td>...</td>\n",
              "      <td>0.043955</td>\n",
              "      <td>0.000857</td>\n",
              "      <td>0.015693</td>\n",
              "      <td>0.225192</td>\n",
              "      <td>0.012989</td>\n",
              "      <td>0.026165</td>\n",
              "      <td>0.007066</td>\n",
              "      <td>0.004132</td>\n",
              "      <td>0.020638</td>\n",
              "      <td>0.086302</td>\n",
              "    </tr>\n",
              "    <tr>\n",
              "      <th>std</th>\n",
              "      <td>16.775119</td>\n",
              "      <td>8.275142</td>\n",
              "      <td>0.387271</td>\n",
              "      <td>10.795378</td>\n",
              "      <td>228.989661</td>\n",
              "      <td>2.487756</td>\n",
              "      <td>25.011497</td>\n",
              "      <td>86.050882</td>\n",
              "      <td>463.266985</td>\n",
              "      <td>0.400829</td>\n",
              "      <td>...</td>\n",
              "      <td>0.217341</td>\n",
              "      <td>0.029265</td>\n",
              "      <td>0.124284</td>\n",
              "      <td>0.417711</td>\n",
              "      <td>0.113229</td>\n",
              "      <td>0.159628</td>\n",
              "      <td>0.083763</td>\n",
              "      <td>0.064148</td>\n",
              "      <td>0.142169</td>\n",
              "      <td>0.280811</td>\n",
              "    </tr>\n",
              "    <tr>\n",
              "      <th>min</th>\n",
              "      <td>16.000000</td>\n",
              "      <td>14.844926</td>\n",
              "      <td>0.000000</td>\n",
              "      <td>137.200000</td>\n",
              "      <td>82.000000</td>\n",
              "      <td>-24.947222</td>\n",
              "      <td>38.600000</td>\n",
              "      <td>101.000000</td>\n",
              "      <td>0.010000</td>\n",
              "      <td>0.000000</td>\n",
              "      <td>...</td>\n",
              "      <td>-1.000000</td>\n",
              "      <td>0.000000</td>\n",
              "      <td>0.000000</td>\n",
              "      <td>0.000000</td>\n",
              "      <td>0.000000</td>\n",
              "      <td>0.000000</td>\n",
              "      <td>0.000000</td>\n",
              "      <td>0.000000</td>\n",
              "      <td>0.000000</td>\n",
              "      <td>0.000000</td>\n",
              "    </tr>\n",
              "    <tr>\n",
              "      <th>25%</th>\n",
              "      <td>52.000000</td>\n",
              "      <td>23.641975</td>\n",
              "      <td>0.000000</td>\n",
              "      <td>162.500000</td>\n",
              "      <td>369.000000</td>\n",
              "      <td>0.035417</td>\n",
              "      <td>66.800000</td>\n",
              "      <td>113.000000</td>\n",
              "      <td>203.010000</td>\n",
              "      <td>0.000000</td>\n",
              "      <td>...</td>\n",
              "      <td>0.010000</td>\n",
              "      <td>0.000000</td>\n",
              "      <td>0.000000</td>\n",
              "      <td>0.000000</td>\n",
              "      <td>0.000000</td>\n",
              "      <td>0.000000</td>\n",
              "      <td>0.000000</td>\n",
              "      <td>0.000000</td>\n",
              "      <td>0.000000</td>\n",
              "      <td>0.000000</td>\n",
              "    </tr>\n",
              "    <tr>\n",
              "      <th>50%</th>\n",
              "      <td>65.000000</td>\n",
              "      <td>27.654655</td>\n",
              "      <td>0.000000</td>\n",
              "      <td>170.100000</td>\n",
              "      <td>504.000000</td>\n",
              "      <td>0.138889</td>\n",
              "      <td>80.300000</td>\n",
              "      <td>122.000000</td>\n",
              "      <td>409.020000</td>\n",
              "      <td>0.000000</td>\n",
              "      <td>...</td>\n",
              "      <td>0.020000</td>\n",
              "      <td>0.000000</td>\n",
              "      <td>0.000000</td>\n",
              "      <td>0.000000</td>\n",
              "      <td>0.000000</td>\n",
              "      <td>0.000000</td>\n",
              "      <td>0.000000</td>\n",
              "      <td>0.000000</td>\n",
              "      <td>0.000000</td>\n",
              "      <td>0.000000</td>\n",
              "    </tr>\n",
              "    <tr>\n",
              "      <th>75%</th>\n",
              "      <td>75.000000</td>\n",
              "      <td>32.930206</td>\n",
              "      <td>0.000000</td>\n",
              "      <td>177.800000</td>\n",
              "      <td>679.000000</td>\n",
              "      <td>0.409028</td>\n",
              "      <td>97.100000</td>\n",
              "      <td>301.000000</td>\n",
              "      <td>703.030000</td>\n",
              "      <td>0.000000</td>\n",
              "      <td>...</td>\n",
              "      <td>0.060000</td>\n",
              "      <td>0.000000</td>\n",
              "      <td>0.000000</td>\n",
              "      <td>0.000000</td>\n",
              "      <td>0.000000</td>\n",
              "      <td>0.000000</td>\n",
              "      <td>0.000000</td>\n",
              "      <td>0.000000</td>\n",
              "      <td>0.000000</td>\n",
              "      <td>0.000000</td>\n",
              "    </tr>\n",
              "    <tr>\n",
              "      <th>max</th>\n",
              "      <td>89.000000</td>\n",
              "      <td>67.814990</td>\n",
              "      <td>1.000000</td>\n",
              "      <td>195.590000</td>\n",
              "      <td>927.000000</td>\n",
              "      <td>159.090972</td>\n",
              "      <td>186.000000</td>\n",
              "      <td>308.000000</td>\n",
              "      <td>2201.050000</td>\n",
              "      <td>1.000000</td>\n",
              "      <td>...</td>\n",
              "      <td>0.970000</td>\n",
              "      <td>1.000000</td>\n",
              "      <td>1.000000</td>\n",
              "      <td>1.000000</td>\n",
              "      <td>1.000000</td>\n",
              "      <td>1.000000</td>\n",
              "      <td>1.000000</td>\n",
              "      <td>1.000000</td>\n",
              "      <td>1.000000</td>\n",
              "      <td>1.000000</td>\n",
              "    </tr>\n",
              "  </tbody>\n",
              "</table>\n",
              "<p>8 rows × 74 columns</p>\n",
              "</div>\n",
              "      <button class=\"colab-df-convert\" onclick=\"convertToInteractive('df-ec2483dc-bd52-4237-ae04-caec4227a138')\"\n",
              "              title=\"Convert this dataframe to an interactive table.\"\n",
              "              style=\"display:none;\">\n",
              "        \n",
              "  <svg xmlns=\"http://www.w3.org/2000/svg\" height=\"24px\"viewBox=\"0 0 24 24\"\n",
              "       width=\"24px\">\n",
              "    <path d=\"M0 0h24v24H0V0z\" fill=\"none\"/>\n",
              "    <path d=\"M18.56 5.44l.94 2.06.94-2.06 2.06-.94-2.06-.94-.94-2.06-.94 2.06-2.06.94zm-11 1L8.5 8.5l.94-2.06 2.06-.94-2.06-.94L8.5 2.5l-.94 2.06-2.06.94zm10 10l.94 2.06.94-2.06 2.06-.94-2.06-.94-.94-2.06-.94 2.06-2.06.94z\"/><path d=\"M17.41 7.96l-1.37-1.37c-.4-.4-.92-.59-1.43-.59-.52 0-1.04.2-1.43.59L10.3 9.45l-7.72 7.72c-.78.78-.78 2.05 0 2.83L4 21.41c.39.39.9.59 1.41.59.51 0 1.02-.2 1.41-.59l7.78-7.78 2.81-2.81c.8-.78.8-2.07 0-2.86zM5.41 20L4 18.59l7.72-7.72 1.47 1.35L5.41 20z\"/>\n",
              "  </svg>\n",
              "      </button>\n",
              "      \n",
              "  <style>\n",
              "    .colab-df-container {\n",
              "      display:flex;\n",
              "      flex-wrap:wrap;\n",
              "      gap: 12px;\n",
              "    }\n",
              "\n",
              "    .colab-df-convert {\n",
              "      background-color: #E8F0FE;\n",
              "      border: none;\n",
              "      border-radius: 50%;\n",
              "      cursor: pointer;\n",
              "      display: none;\n",
              "      fill: #1967D2;\n",
              "      height: 32px;\n",
              "      padding: 0 0 0 0;\n",
              "      width: 32px;\n",
              "    }\n",
              "\n",
              "    .colab-df-convert:hover {\n",
              "      background-color: #E2EBFA;\n",
              "      box-shadow: 0px 1px 2px rgba(60, 64, 67, 0.3), 0px 1px 3px 1px rgba(60, 64, 67, 0.15);\n",
              "      fill: #174EA6;\n",
              "    }\n",
              "\n",
              "    [theme=dark] .colab-df-convert {\n",
              "      background-color: #3B4455;\n",
              "      fill: #D2E3FC;\n",
              "    }\n",
              "\n",
              "    [theme=dark] .colab-df-convert:hover {\n",
              "      background-color: #434B5C;\n",
              "      box-shadow: 0px 1px 3px 1px rgba(0, 0, 0, 0.15);\n",
              "      filter: drop-shadow(0px 1px 2px rgba(0, 0, 0, 0.3));\n",
              "      fill: #FFFFFF;\n",
              "    }\n",
              "  </style>\n",
              "\n",
              "      <script>\n",
              "        const buttonEl =\n",
              "          document.querySelector('#df-ec2483dc-bd52-4237-ae04-caec4227a138 button.colab-df-convert');\n",
              "        buttonEl.style.display =\n",
              "          google.colab.kernel.accessAllowed ? 'block' : 'none';\n",
              "\n",
              "        async function convertToInteractive(key) {\n",
              "          const element = document.querySelector('#df-ec2483dc-bd52-4237-ae04-caec4227a138');\n",
              "          const dataTable =\n",
              "            await google.colab.kernel.invokeFunction('convertToInteractive',\n",
              "                                                     [key], {});\n",
              "          if (!dataTable) return;\n",
              "\n",
              "          const docLinkHtml = 'Like what you see? Visit the ' +\n",
              "            '<a target=\"_blank\" href=https://colab.research.google.com/notebooks/data_table.ipynb>data table notebook</a>'\n",
              "            + ' to learn more about interactive tables.';\n",
              "          element.innerHTML = '';\n",
              "          dataTable['output_type'] = 'display_data';\n",
              "          await google.colab.output.renderOutput(dataTable, element);\n",
              "          const docLink = document.createElement('div');\n",
              "          docLink.innerHTML = docLinkHtml;\n",
              "          element.appendChild(docLink);\n",
              "        }\n",
              "      </script>\n",
              "    </div>\n",
              "  </div>\n",
              "  "
            ]
          },
          "metadata": {},
          "execution_count": 17
        }
      ],
      "source": [
        "data.describe()"
      ]
    },
    {
      "cell_type": "markdown",
      "metadata": {
        "id": "t6yzKc4uU0rT"
      },
      "source": [
        "Посмотрим на соотношение классов"
      ]
    },
    {
      "cell_type": "code",
      "execution_count": null,
      "metadata": {
        "colab": {
          "base_uri": "https://localhost:8080/",
          "height": 248
        },
        "id": "ldAvQVMGhBLK",
        "outputId": "9733f009-29d5-44c3-ff56-81413db221e8"
      },
      "outputs": [
        {
          "output_type": "display_data",
          "data": {
            "text/plain": [
              "<Figure size 432x288 with 1 Axes>"
            ],
            "image/png": "[encoded data removed]"
          },
          "metadata": {}
        }
      ],
      "source": [
        "import matplotlib.pyplot as plt\n",
        "import seaborn as sns\n",
        "data.hospital_death.value_counts().plot.pie()\n",
        "pass"
      ]
    },
    {
      "cell_type": "markdown",
      "source": [
        "Видим что классы не сбалансированные, в будущем постараемся исправить этот момент"
      ],
      "metadata": {
        "id": "I90sfj2EcHLm"
      }
    },
    {
      "cell_type": "markdown",
      "metadata": {
        "id": "Qos60VOfVFpT"
      },
      "source": [
        "Рассмотрим значения категориальных признаков:"
      ]
    },
    {
      "cell_type": "markdown",
      "source": [
        "Место, откуда поступают больные:"
      ],
      "metadata": {
        "id": "RHDn3B-Xg4Qe"
      }
    },
    {
      "cell_type": "code",
      "execution_count": null,
      "metadata": {
        "colab": {
          "base_uri": "https://localhost:8080/",
          "height": 280
        },
        "id": "Rv_i0ODQZxVi",
        "outputId": "10ff7569-e6e9-461f-a0ee-c6e6e96d7748"
      },
      "outputs": [
        {
          "output_type": "display_data",
          "data": {
            "text/plain": [
              "<Figure size 432x288 with 1 Axes>"
            ],
            "image/png": "[encoded data removed]"
          },
          "metadata": {
            "needs_background": "light"
          }
        }
      ],
      "source": [
        "sns.countplot(x='icu_admit_source', data=data)\n",
        "pass"
      ]
    },
    {
      "cell_type": "markdown",
      "source": [
        "Этническая принадлежность больных:"
      ],
      "metadata": {
        "id": "wWxPgEcbhAbR"
      }
    },
    {
      "cell_type": "code",
      "execution_count": null,
      "metadata": {
        "colab": {
          "base_uri": "https://localhost:8080/",
          "height": 279
        },
        "id": "auBmLxlHVFCS",
        "outputId": "c9d50c43-4b3f-4677-ddf1-aa1e95768137"
      },
      "outputs": [
        {
          "output_type": "display_data",
          "data": {
            "text/plain": [
              "<Figure size 432x288 with 1 Axes>"
            ],
            "image/png": "[encoded data removed]"
          },
          "metadata": {
            "needs_background": "light"
          }
        }
      ],
      "source": [
        "sns.countplot(x='ethnicity', data=data)\n",
        "pass"
      ]
    },
    {
      "cell_type": "markdown",
      "source": [
        "тип пребывания в отделении интенсивной терапии:"
      ],
      "metadata": {
        "id": "wTjSQXNushYU"
      }
    },
    {
      "cell_type": "code",
      "execution_count": null,
      "metadata": {
        "colab": {
          "base_uri": "https://localhost:8080/",
          "height": 280
        },
        "id": "_9tlIzzSWmms",
        "outputId": "0ed1b4fe-f9c1-4980-a197-1bf629f43fe6"
      },
      "outputs": [
        {
          "output_type": "display_data",
          "data": {
            "text/plain": [
              "<Figure size 432x288 with 1 Axes>"
            ],
            "image/png": "[encoded data removed]"
          },
          "metadata": {
            "needs_background": "light"
          }
        }
      ],
      "source": [
        "sns.countplot(x='icu_stay_type', data=data)\n",
        "pass"
      ]
    },
    {
      "cell_type": "markdown",
      "source": [
        "Классификация, указывающая тип ухода, который может предоставить отделение"
      ],
      "metadata": {
        "id": "_A5_sOYMsoHq"
      }
    },
    {
      "cell_type": "code",
      "execution_count": null,
      "metadata": {
        "colab": {
          "base_uri": "https://localhost:8080/",
          "height": 280
        },
        "id": "lFXtdjWfXEDn",
        "outputId": "3165eb0e-af94-4386-a0f8-0ce0b1d58002"
      },
      "outputs": [
        {
          "output_type": "display_data",
          "data": {
            "text/plain": [
              "<Figure size 432x288 with 1 Axes>"
            ],
            "image/png": "[encoded data removed]"
          },
          "metadata": {
            "needs_background": "light"
          }
        }
      ],
      "source": [
        "sns.countplot(x='icu_type', data=data)\n",
        "pass"
      ]
    },
    {
      "cell_type": "markdown",
      "source": [
        "Распределение пациентов по возрасту:"
      ],
      "metadata": {
        "id": "OpYBt-lsyRFC"
      }
    },
    {
      "cell_type": "code",
      "execution_count": null,
      "metadata": {
        "colab": {
          "base_uri": "https://localhost:8080/",
          "height": 369
        },
        "id": "rIABkuITSLfg",
        "outputId": "a9f57102-a7de-4022-e6d0-a17d9ba481e6"
      },
      "outputs": [
        {
          "output_type": "display_data",
          "data": {
            "text/plain": [
              "<Figure size 360x360 with 1 Axes>"
            ],
            "image/png": "[encoded data removed]"
          },
          "metadata": {
            "needs_background": "light"
          }
        }
      ],
      "source": [
        "sns.displot(data['age'], bins=25)\n",
        "pass"
      ]
    },
    {
      "cell_type": "markdown",
      "source": [
        "Распределение по максимальной температуре замеренной у пациентов в течении первых 24 часов после поступления в отделение"
      ],
      "metadata": {
        "id": "ZVLa5pez1S78"
      }
    },
    {
      "cell_type": "code",
      "source": [
        "sns.displot(data['d1_temp_max'], bins=25)\n",
        "pass"
      ],
      "metadata": {
        "colab": {
          "base_uri": "https://localhost:8080/",
          "height": 369
        },
        "id": "DZNcZR1q0_7W",
        "outputId": "c6cea1bb-1e99-44ec-9eda-61ff9b5c7d03"
      },
      "execution_count": null,
      "outputs": [
        {
          "output_type": "display_data",
          "data": {
            "text/plain": [
              "<Figure size 360x360 with 1 Axes>"
            ],
            "image/png": "[encoded data removed]"
          },
          "metadata": {
            "needs_background": "light"
          }
        }
      ]
    },
    {
      "cell_type": "code",
      "execution_count": null,
      "metadata": {
        "colab": {
          "base_uri": "https://localhost:8080/",
          "height": 487
        },
        "id": "IyFqgzEmpY8w",
        "outputId": "8b622e05-44d6-477c-d48b-d465f3683cf8"
      },
      "outputs": [
        {
          "output_type": "execute_result",
          "data": {
            "text/plain": [
              "                                  age       bmi  elective_surgery    height  \\\n",
              "age                          1.000000 -0.087077          0.067320 -0.109937   \n",
              "bmi                         -0.087077  1.000000          0.015921 -0.056316   \n",
              "elective_surgery             0.067320  0.015921          1.000000  0.023620   \n",
              "height                      -0.109937 -0.056316          0.023620  1.000000   \n",
              "icu_id                      -0.024257  0.001403         -0.054997  0.018419   \n",
              "...                               ...       ...               ...       ...   \n",
              "immunosuppression            0.025007 -0.031144         -0.014695  0.000530   \n",
              "leukemia                     0.030310 -0.013375         -0.017587  0.001718   \n",
              "lymphoma                     0.023335 -0.010017         -0.008215  0.008370   \n",
              "solid_tumor_with_metastasis  0.025924 -0.043380          0.015369  0.004921   \n",
              "hospital_death               0.111017 -0.031247         -0.093574 -0.019526   \n",
              "\n",
              "                               icu_id  pre_icu_los_days    weight  \\\n",
              "age                         -0.024257          0.049872 -0.127252   \n",
              "bmi                          0.001403         -0.001531  0.877339   \n",
              "elective_surgery            -0.054997          0.133704  0.026900   \n",
              "height                       0.018419         -0.008075  0.391967   \n",
              "icu_id                       1.000000         -0.016783  0.009510   \n",
              "...                               ...               ...       ...   \n",
              "immunosuppression           -0.031111          0.032695 -0.029642   \n",
              "leukemia                     0.001014          0.041853 -0.012755   \n",
              "lymphoma                    -0.002336          0.013954 -0.005197   \n",
              "solid_tumor_with_metastasis -0.014381          0.036581 -0.039255   \n",
              "hospital_death               0.000994          0.063316 -0.038362   \n",
              "\n",
              "                             apache_2_diagnosis  apache_3j_diagnosis  \\\n",
              "age                                    0.022914            -0.056060   \n",
              "bmi                                    0.026047            -0.006514   \n",
              "elective_surgery                       0.367040             0.775025   \n",
              "height                                 0.001630             0.015268   \n",
              "icu_id                                -0.029820            -0.034326   \n",
              "...                                         ...                  ...   \n",
              "immunosuppression                     -0.014445            -0.004731   \n",
              "leukemia                              -0.006915            -0.006203   \n",
              "lymphoma                              -0.006705            -0.003000   \n",
              "solid_tumor_with_metastasis            0.007619             0.018629   \n",
              "hospital_death                        -0.089862            -0.090715   \n",
              "\n",
              "                             apache_post_operative  ...  \\\n",
              "age                                       0.059246  ...   \n",
              "bmi                                       0.015420  ...   \n",
              "elective_surgery                          0.908247  ...   \n",
              "height                                    0.025276  ...   \n",
              "icu_id                                   -0.052204  ...   \n",
              "...                                            ...  ...   \n",
              "immunosuppression                        -0.014487  ...   \n",
              "leukemia                                 -0.013814  ...   \n",
              "lymphoma                                 -0.008186  ...   \n",
              "solid_tumor_with_metastasis               0.012375  ...   \n",
              "hospital_death                           -0.083674  ...   \n",
              "\n",
              "                             apache_4a_icu_death_prob      aids  cirrhosis  \\\n",
              "age                                          0.076275 -0.029477  -0.028065   \n",
              "bmi                                         -0.013796 -0.020434  -0.002377   \n",
              "elective_surgery                            -0.061250 -0.006229  -0.031512   \n",
              "height                                      -0.011588  0.009290   0.012043   \n",
              "icu_id                                      -0.002002  0.000609  -0.015517   \n",
              "...                                               ...       ...        ...   \n",
              "immunosuppression                            0.026268  0.025781  -0.002971   \n",
              "leukemia                                     0.031966 -0.002471  -0.005373   \n",
              "lymphoma                                     0.011287  0.021529   0.001516   \n",
              "solid_tumor_with_metastasis                  0.028090 -0.001611  -0.005890   \n",
              "hospital_death                               0.283913  0.004403   0.039453   \n",
              "\n",
              "                             diabetes_mellitus  hepatic_failure  \\\n",
              "age                                   0.077908        -0.020061   \n",
              "bmi                                   0.172943        -0.001855   \n",
              "elective_surgery                      0.001645        -0.034700   \n",
              "height                               -0.000980         0.010481   \n",
              "icu_id                                0.015823        -0.011746   \n",
              "...                                        ...              ...   \n",
              "immunosuppression                    -0.002502         0.003084   \n",
              "leukemia                              0.002890        -0.001567   \n",
              "lymphoma                             -0.002326         0.001689   \n",
              "solid_tumor_with_metastasis          -0.013122         0.007240   \n",
              "hospital_death                       -0.015784         0.038864   \n",
              "\n",
              "                             immunosuppression  leukemia  lymphoma  \\\n",
              "age                                   0.025007  0.030310  0.023335   \n",
              "bmi                                  -0.031144 -0.013375 -0.010017   \n",
              "elective_surgery                     -0.014695 -0.017587 -0.008215   \n",
              "height                                0.000530  0.001718  0.008370   \n",
              "icu_id                               -0.031111  0.001014 -0.002336   \n",
              "...                                        ...       ...       ...   \n",
              "immunosuppression                     1.000000  0.134934  0.103201   \n",
              "leukemia                              0.134934  1.000000  0.031380   \n",
              "lymphoma                              0.103201  0.031380  1.000000   \n",
              "solid_tumor_with_metastasis           0.269653  0.006210  0.014749   \n",
              "hospital_death                        0.043973  0.029788  0.018722   \n",
              "\n",
              "                             solid_tumor_with_metastasis  hospital_death  \n",
              "age                                             0.025924        0.111017  \n",
              "bmi                                            -0.043380       -0.031247  \n",
              "elective_surgery                                0.015369       -0.093574  \n",
              "height                                          0.004921       -0.019526  \n",
              "icu_id                                         -0.014381        0.000994  \n",
              "...                                                  ...             ...  \n",
              "immunosuppression                               0.269653        0.043973  \n",
              "leukemia                                        0.006210        0.029788  \n",
              "lymphoma                                        0.014749        0.018722  \n",
              "solid_tumor_with_metastasis                     1.000000        0.051105  \n",
              "hospital_death                                  0.051105        1.000000  \n",
              "\n",
              "[74 rows x 74 columns]"
            ],
            "text/html": [
              "\n",
              "  <div id=\"df-6a306c0b-86e2-4f61-83ba-e23406b2d58d\">\n",
              "    <div class=\"colab-df-container\">\n",
              "      <div>\n",
              "<style scoped>\n",
              "    .dataframe tbody tr th:only-of-type {\n",
              "        vertical-align: middle;\n",
              "    }\n",
              "\n",
              "    .dataframe tbody tr th {\n",
              "        vertical-align: top;\n",
              "    }\n",
              "\n",
              "    .dataframe thead th {\n",
              "        text-align: right;\n",
              "    }\n",
              "</style>\n",
              "<table border=\"1\" class=\"dataframe\">\n",
              "  <thead>\n",
              "    <tr style=\"text-align: right;\">\n",
              "      <th></th>\n",
              "      <th>age</th>\n",
              "      <th>bmi</th>\n",
              "      <th>elective_surgery</th>\n",
              "      <th>height</th>\n",
              "      <th>icu_id</th>\n",
              "      <th>pre_icu_los_days</th>\n",
              "      <th>weight</th>\n",
              "      <th>apache_2_diagnosis</th>\n",
              "      <th>apache_3j_diagnosis</th>\n",
              "      <th>apache_post_operative</th>\n",
              "      <th>...</th>\n",
              "      <th>apache_4a_icu_death_prob</th>\n",
              "      <th>aids</th>\n",
              "      <th>cirrhosis</th>\n",
              "      <th>diabetes_mellitus</th>\n",
              "      <th>hepatic_failure</th>\n",
              "      <th>immunosuppression</th>\n",
              "      <th>leukemia</th>\n",
              "      <th>lymphoma</th>\n",
              "      <th>solid_tumor_with_metastasis</th>\n",
              "      <th>hospital_death</th>\n",
              "    </tr>\n",
              "  </thead>\n",
              "  <tbody>\n",
              "    <tr>\n",
              "      <th>age</th>\n",
              "      <td>1.000000</td>\n",
              "      <td>-0.087077</td>\n",
              "      <td>0.067320</td>\n",
              "      <td>-0.109937</td>\n",
              "      <td>-0.024257</td>\n",
              "      <td>0.049872</td>\n",
              "      <td>-0.127252</td>\n",
              "      <td>0.022914</td>\n",
              "      <td>-0.056060</td>\n",
              "      <td>0.059246</td>\n",
              "      <td>...</td>\n",
              "      <td>0.076275</td>\n",
              "      <td>-0.029477</td>\n",
              "      <td>-0.028065</td>\n",
              "      <td>0.077908</td>\n",
              "      <td>-0.020061</td>\n",
              "      <td>0.025007</td>\n",
              "      <td>0.030310</td>\n",
              "      <td>0.023335</td>\n",
              "      <td>0.025924</td>\n",
              "      <td>0.111017</td>\n",
              "    </tr>\n",
              "    <tr>\n",
              "      <th>bmi</th>\n",
              "      <td>-0.087077</td>\n",
              "      <td>1.000000</td>\n",
              "      <td>0.015921</td>\n",
              "      <td>-0.056316</td>\n",
              "      <td>0.001403</td>\n",
              "      <td>-0.001531</td>\n",
              "      <td>0.877339</td>\n",
              "      <td>0.026047</td>\n",
              "      <td>-0.006514</td>\n",
              "      <td>0.015420</td>\n",
              "      <td>...</td>\n",
              "      <td>-0.013796</td>\n",
              "      <td>-0.020434</td>\n",
              "      <td>-0.002377</td>\n",
              "      <td>0.172943</td>\n",
              "      <td>-0.001855</td>\n",
              "      <td>-0.031144</td>\n",
              "      <td>-0.013375</td>\n",
              "      <td>-0.010017</td>\n",
              "      <td>-0.043380</td>\n",
              "      <td>-0.031247</td>\n",
              "    </tr>\n",
              "    <tr>\n",
              "      <th>elective_surgery</th>\n",
              "      <td>0.067320</td>\n",
              "      <td>0.015921</td>\n",
              "      <td>1.000000</td>\n",
              "      <td>0.023620</td>\n",
              "      <td>-0.054997</td>\n",
              "      <td>0.133704</td>\n",
              "      <td>0.026900</td>\n",
              "      <td>0.367040</td>\n",
              "      <td>0.775025</td>\n",
              "      <td>0.908247</td>\n",
              "      <td>...</td>\n",
              "      <td>-0.061250</td>\n",
              "      <td>-0.006229</td>\n",
              "      <td>-0.031512</td>\n",
              "      <td>0.001645</td>\n",
              "      <td>-0.034700</td>\n",
              "      <td>-0.014695</td>\n",
              "      <td>-0.017587</td>\n",
              "      <td>-0.008215</td>\n",
              "      <td>0.015369</td>\n",
              "      <td>-0.093574</td>\n",
              "    </tr>\n",
              "    <tr>\n",
              "      <th>height</th>\n",
              "      <td>-0.109937</td>\n",
              "      <td>-0.056316</td>\n",
              "      <td>0.023620</td>\n",
              "      <td>1.000000</td>\n",
              "      <td>0.018419</td>\n",
              "      <td>-0.008075</td>\n",
              "      <td>0.391967</td>\n",
              "      <td>0.001630</td>\n",
              "      <td>0.015268</td>\n",
              "      <td>0.025276</td>\n",
              "      <td>...</td>\n",
              "      <td>-0.011588</td>\n",
              "      <td>0.009290</td>\n",
              "      <td>0.012043</td>\n",
              "      <td>-0.000980</td>\n",
              "      <td>0.010481</td>\n",
              "      <td>0.000530</td>\n",
              "      <td>0.001718</td>\n",
              "      <td>0.008370</td>\n",
              "      <td>0.004921</td>\n",
              "      <td>-0.019526</td>\n",
              "    </tr>\n",
              "    <tr>\n",
              "      <th>icu_id</th>\n",
              "      <td>-0.024257</td>\n",
              "      <td>0.001403</td>\n",
              "      <td>-0.054997</td>\n",
              "      <td>0.018419</td>\n",
              "      <td>1.000000</td>\n",
              "      <td>-0.016783</td>\n",
              "      <td>0.009510</td>\n",
              "      <td>-0.029820</td>\n",
              "      <td>-0.034326</td>\n",
              "      <td>-0.052204</td>\n",
              "      <td>...</td>\n",
              "      <td>-0.002002</td>\n",
              "      <td>0.000609</td>\n",
              "      <td>-0.015517</td>\n",
              "      <td>0.015823</td>\n",
              "      <td>-0.011746</td>\n",
              "      <td>-0.031111</td>\n",
              "      <td>0.001014</td>\n",
              "      <td>-0.002336</td>\n",
              "      <td>-0.014381</td>\n",
              "      <td>0.000994</td>\n",
              "    </tr>\n",
              "    <tr>\n",
              "      <th>...</th>\n",
              "      <td>...</td>\n",
              "      <td>...</td>\n",
              "      <td>...</td>\n",
              "      <td>...</td>\n",
              "      <td>...</td>\n",
              "      <td>...</td>\n",
              "      <td>...</td>\n",
              "      <td>...</td>\n",
              "      <td>...</td>\n",
              "      <td>...</td>\n",
              "      <td>...</td>\n",
              "      <td>...</td>\n",
              "      <td>...</td>\n",
              "      <td>...</td>\n",
              "      <td>...</td>\n",
              "      <td>...</td>\n",
              "      <td>...</td>\n",
              "      <td>...</td>\n",
              "      <td>...</td>\n",
              "      <td>...</td>\n",
              "      <td>...</td>\n",
              "    </tr>\n",
              "    <tr>\n",
              "      <th>immunosuppression</th>\n",
              "      <td>0.025007</td>\n",
              "      <td>-0.031144</td>\n",
              "      <td>-0.014695</td>\n",
              "      <td>0.000530</td>\n",
              "      <td>-0.031111</td>\n",
              "      <td>0.032695</td>\n",
              "      <td>-0.029642</td>\n",
              "      <td>-0.014445</td>\n",
              "      <td>-0.004731</td>\n",
              "      <td>-0.014487</td>\n",
              "      <td>...</td>\n",
              "      <td>0.026268</td>\n",
              "      <td>0.025781</td>\n",
              "      <td>-0.002971</td>\n",
              "      <td>-0.002502</td>\n",
              "      <td>0.003084</td>\n",
              "      <td>1.000000</td>\n",
              "      <td>0.134934</td>\n",
              "      <td>0.103201</td>\n",
              "      <td>0.269653</td>\n",
              "      <td>0.043973</td>\n",
              "    </tr>\n",
              "    <tr>\n",
              "      <th>leukemia</th>\n",
              "      <td>0.030310</td>\n",
              "      <td>-0.013375</td>\n",
              "      <td>-0.017587</td>\n",
              "      <td>0.001718</td>\n",
              "      <td>0.001014</td>\n",
              "      <td>0.041853</td>\n",
              "      <td>-0.012755</td>\n",
              "      <td>-0.006915</td>\n",
              "      <td>-0.006203</td>\n",
              "      <td>-0.013814</td>\n",
              "      <td>...</td>\n",
              "      <td>0.031966</td>\n",
              "      <td>-0.002471</td>\n",
              "      <td>-0.005373</td>\n",
              "      <td>0.002890</td>\n",
              "      <td>-0.001567</td>\n",
              "      <td>0.134934</td>\n",
              "      <td>1.000000</td>\n",
              "      <td>0.031380</td>\n",
              "      <td>0.006210</td>\n",
              "      <td>0.029788</td>\n",
              "    </tr>\n",
              "    <tr>\n",
              "      <th>lymphoma</th>\n",
              "      <td>0.023335</td>\n",
              "      <td>-0.010017</td>\n",
              "      <td>-0.008215</td>\n",
              "      <td>0.008370</td>\n",
              "      <td>-0.002336</td>\n",
              "      <td>0.013954</td>\n",
              "      <td>-0.005197</td>\n",
              "      <td>-0.006705</td>\n",
              "      <td>-0.003000</td>\n",
              "      <td>-0.008186</td>\n",
              "      <td>...</td>\n",
              "      <td>0.011287</td>\n",
              "      <td>0.021529</td>\n",
              "      <td>0.001516</td>\n",
              "      <td>-0.002326</td>\n",
              "      <td>0.001689</td>\n",
              "      <td>0.103201</td>\n",
              "      <td>0.031380</td>\n",
              "      <td>1.000000</td>\n",
              "      <td>0.014749</td>\n",
              "      <td>0.018722</td>\n",
              "    </tr>\n",
              "    <tr>\n",
              "      <th>solid_tumor_with_metastasis</th>\n",
              "      <td>0.025924</td>\n",
              "      <td>-0.043380</td>\n",
              "      <td>0.015369</td>\n",
              "      <td>0.004921</td>\n",
              "      <td>-0.014381</td>\n",
              "      <td>0.036581</td>\n",
              "      <td>-0.039255</td>\n",
              "      <td>0.007619</td>\n",
              "      <td>0.018629</td>\n",
              "      <td>0.012375</td>\n",
              "      <td>...</td>\n",
              "      <td>0.028090</td>\n",
              "      <td>-0.001611</td>\n",
              "      <td>-0.005890</td>\n",
              "      <td>-0.013122</td>\n",
              "      <td>0.007240</td>\n",
              "      <td>0.269653</td>\n",
              "      <td>0.006210</td>\n",
              "      <td>0.014749</td>\n",
              "      <td>1.000000</td>\n",
              "      <td>0.051105</td>\n",
              "    </tr>\n",
              "    <tr>\n",
              "      <th>hospital_death</th>\n",
              "      <td>0.111017</td>\n",
              "      <td>-0.031247</td>\n",
              "      <td>-0.093574</td>\n",
              "      <td>-0.019526</td>\n",
              "      <td>0.000994</td>\n",
              "      <td>0.063316</td>\n",
              "      <td>-0.038362</td>\n",
              "      <td>-0.089862</td>\n",
              "      <td>-0.090715</td>\n",
              "      <td>-0.083674</td>\n",
              "      <td>...</td>\n",
              "      <td>0.283913</td>\n",
              "      <td>0.004403</td>\n",
              "      <td>0.039453</td>\n",
              "      <td>-0.015784</td>\n",
              "      <td>0.038864</td>\n",
              "      <td>0.043973</td>\n",
              "      <td>0.029788</td>\n",
              "      <td>0.018722</td>\n",
              "      <td>0.051105</td>\n",
              "      <td>1.000000</td>\n",
              "    </tr>\n",
              "  </tbody>\n",
              "</table>\n",
              "<p>74 rows × 74 columns</p>\n",
              "</div>\n",
              "      <button class=\"colab-df-convert\" onclick=\"convertToInteractive('df-6a306c0b-86e2-4f61-83ba-e23406b2d58d')\"\n",
              "              title=\"Convert this dataframe to an interactive table.\"\n",
              "              style=\"display:none;\">\n",
              "        \n",
              "  <svg xmlns=\"http://www.w3.org/2000/svg\" height=\"24px\"viewBox=\"0 0 24 24\"\n",
              "       width=\"24px\">\n",
              "    <path d=\"M0 0h24v24H0V0z\" fill=\"none\"/>\n",
              "    <path d=\"M18.56 5.44l.94 2.06.94-2.06 2.06-.94-2.06-.94-.94-2.06-.94 2.06-2.06.94zm-11 1L8.5 8.5l.94-2.06 2.06-.94-2.06-.94L8.5 2.5l-.94 2.06-2.06.94zm10 10l.94 2.06.94-2.06 2.06-.94-2.06-.94-.94-2.06-.94 2.06-2.06.94z\"/><path d=\"M17.41 7.96l-1.37-1.37c-.4-.4-.92-.59-1.43-.59-.52 0-1.04.2-1.43.59L10.3 9.45l-7.72 7.72c-.78.78-.78 2.05 0 2.83L4 21.41c.39.39.9.59 1.41.59.51 0 1.02-.2 1.41-.59l7.78-7.78 2.81-2.81c.8-.78.8-2.07 0-2.86zM5.41 20L4 18.59l7.72-7.72 1.47 1.35L5.41 20z\"/>\n",
              "  </svg>\n",
              "      </button>\n",
              "      \n",
              "  <style>\n",
              "    .colab-df-container {\n",
              "      display:flex;\n",
              "      flex-wrap:wrap;\n",
              "      gap: 12px;\n",
              "    }\n",
              "\n",
              "    .colab-df-convert {\n",
              "      background-color: #E8F0FE;\n",
              "      border: none;\n",
              "      border-radius: 50%;\n",
              "      cursor: pointer;\n",
              "      display: none;\n",
              "      fill: #1967D2;\n",
              "      height: 32px;\n",
              "      padding: 0 0 0 0;\n",
              "      width: 32px;\n",
              "    }\n",
              "\n",
              "    .colab-df-convert:hover {\n",
              "      background-color: #E2EBFA;\n",
              "      box-shadow: 0px 1px 2px rgba(60, 64, 67, 0.3), 0px 1px 3px 1px rgba(60, 64, 67, 0.15);\n",
              "      fill: #174EA6;\n",
              "    }\n",
              "\n",
              "    [theme=dark] .colab-df-convert {\n",
              "      background-color: #3B4455;\n",
              "      fill: #D2E3FC;\n",
              "    }\n",
              "\n",
              "    [theme=dark] .colab-df-convert:hover {\n",
              "      background-color: #434B5C;\n",
              "      box-shadow: 0px 1px 3px 1px rgba(0, 0, 0, 0.15);\n",
              "      filter: drop-shadow(0px 1px 2px rgba(0, 0, 0, 0.3));\n",
              "      fill: #FFFFFF;\n",
              "    }\n",
              "  </style>\n",
              "\n",
              "      <script>\n",
              "        const buttonEl =\n",
              "          document.querySelector('#df-6a306c0b-86e2-4f61-83ba-e23406b2d58d button.colab-df-convert');\n",
              "        buttonEl.style.display =\n",
              "          google.colab.kernel.accessAllowed ? 'block' : 'none';\n",
              "\n",
              "        async function convertToInteractive(key) {\n",
              "          const element = document.querySelector('#df-6a306c0b-86e2-4f61-83ba-e23406b2d58d');\n",
              "          const dataTable =\n",
              "            await google.colab.kernel.invokeFunction('convertToInteractive',\n",
              "                                                     [key], {});\n",
              "          if (!dataTable) return;\n",
              "\n",
              "          const docLinkHtml = 'Like what you see? Visit the ' +\n",
              "            '<a target=\"_blank\" href=https://colab.research.google.com/notebooks/data_table.ipynb>data table notebook</a>'\n",
              "            + ' to learn more about interactive tables.';\n",
              "          element.innerHTML = '';\n",
              "          dataTable['output_type'] = 'display_data';\n",
              "          await google.colab.output.renderOutput(dataTable, element);\n",
              "          const docLink = document.createElement('div');\n",
              "          docLink.innerHTML = docLinkHtml;\n",
              "          element.appendChild(docLink);\n",
              "        }\n",
              "      </script>\n",
              "    </div>\n",
              "  </div>\n",
              "  "
            ]
          },
          "metadata": {},
          "execution_count": 26
        }
      ],
      "source": [
        "corr = data.corr()\n",
        "corr"
      ]
    },
    {
      "cell_type": "code",
      "execution_count": null,
      "metadata": {
        "colab": {
          "base_uri": "https://localhost:8080/",
          "height": 1000
        },
        "id": "2hcVXsAgppw_",
        "outputId": "4dc48844-0468-446a-ac7c-714276944f26"
      },
      "outputs": [
        {
          "output_type": "display_data",
          "data": {
            "text/plain": [
              "<Figure size 1800x1800 with 2 Axes>"
            ],
            "image/png": "[encoded data removed]"
          },
          "metadata": {
            "needs_background": "light"
          }
        }
      ],
      "source": [
        "import seaborn as sns\n",
        "plt.subplots(figsize=(25, 25))\n",
        "sns.heatmap(corr.corr(), square=True, vmin = -1.0, vmax = 1.0, cmap='coolwarm')\n",
        "pass"
      ]
    },
    {
      "cell_type": "markdown",
      "metadata": {
        "id": "FmtVt0ZnhAVt"
      },
      "source": [
        "Поличим список признаков в которых наблюдается корелляция"
      ]
    },
    {
      "cell_type": "code",
      "execution_count": null,
      "metadata": {
        "colab": {
          "base_uri": "https://localhost:8080/"
        },
        "id": "cUt39k2RImAy",
        "outputId": "79efb18e-0131-457c-8ad3-482bea3603ed"
      },
      "outputs": [
        {
          "output_type": "execute_result",
          "data": {
            "text/plain": [
              "d1_diasbp_max              d1_diasbp_noninvasive_max    0.997831\n",
              "d1_diasbp_min              d1_diasbp_noninvasive_min    0.996871\n",
              "h1_mbp_min                 h1_mbp_noninvasive_min       0.996673\n",
              "d1_sysbp_max               d1_sysbp_noninvasive_max     0.996560\n",
              "h1_sysbp_max               h1_sysbp_noninvasive_max     0.996377\n",
              "                                                          ...   \n",
              "d1_mbp_min                 h1_sysbp_min                 0.525215\n",
              "d1_diasbp_noninvasive_max  h1_mbp_noninvasive_max       0.517929\n",
              "d1_diasbp_max              h1_mbp_noninvasive_max       0.517562\n",
              "d1_diasbp_noninvasive_max  h1_mbp_max                   0.504327\n",
              "d1_diasbp_max              h1_mbp_max                   0.503083\n",
              "Length: 176, dtype: float64"
            ]
          },
          "metadata": {},
          "execution_count": 28
        }
      ],
      "source": [
        "import numpy as np\n",
        "corr.where(np.triu(corr > 0.5, k=1)).stack().sort_values(ascending = False)"
      ]
    },
    {
      "cell_type": "markdown",
      "source": [],
      "metadata": {
        "id": "NF7ExOcLmwW8"
      }
    },
    {
      "cell_type": "markdown",
      "metadata": {
        "id": "vgkB2TEOjpXI"
      },
      "source": [
        "# Обработка пропущенных значений"
      ]
    },
    {
      "cell_type": "code",
      "execution_count": null,
      "metadata": {
        "colab": {
          "base_uri": "https://localhost:8080/"
        },
        "id": "Qva-ezKpj4Hi",
        "outputId": "214bc907-2c8c-4340-8556-d4965a95695c"
      },
      "outputs": [
        {
          "output_type": "execute_result",
          "data": {
            "text/plain": [
              "hospital_id                       0\n",
              "age                            4228\n",
              "bmi                            3429\n",
              "elective_surgery                  0\n",
              "ethnicity                      1395\n",
              "                               ... \n",
              "lymphoma                        715\n",
              "solid_tumor_with_metastasis     715\n",
              "apache_3j_bodysystem           1662\n",
              "apache_2_bodysystem            1662\n",
              "hospital_death                    0\n",
              "Length: 82, dtype: int64"
            ]
          },
          "metadata": {},
          "execution_count": 19
        }
      ],
      "source": [
        "data.isna().sum()"
      ]
    },
    {
      "cell_type": "markdown",
      "metadata": {
        "id": "hjphuE-lkMM9"
      },
      "source": [
        "Замена медианой колличественных признаков"
      ]
    },
    {
      "cell_type": "code",
      "execution_count": null,
      "metadata": {
        "colab": {
          "base_uri": "https://localhost:8080/"
        },
        "id": "MtmTyrWrkQz9",
        "outputId": "8c60b01f-621a-42df-9a56-d60eea31bfdb"
      },
      "outputs": [
        {
          "output_type": "stream",
          "name": "stderr",
          "text": [
            "<ipython-input-20-16ea1c7e8bdf>:1: FutureWarning: Dropping of nuisance columns in DataFrame reductions (with 'numeric_only=None') is deprecated; in a future version this will raise TypeError.  Select only valid columns before calling the reduction.\n",
            "  data.fillna(data.median(axis = 0), axis=0 , inplace=True)\n"
          ]
        }
      ],
      "source": [
        "data.fillna(data.median(axis = 0), axis=0 , inplace=True)"
      ]
    },
    {
      "cell_type": "markdown",
      "metadata": {
        "id": "K0zumC5AkZvJ"
      },
      "source": [
        "Замена модой категориальных признаков в наборе данных"
      ]
    },
    {
      "cell_type": "code",
      "execution_count": null,
      "metadata": {
        "id": "rV6Xlyo6lOEU"
      },
      "outputs": [],
      "source": [
        "data.ethnicity.fillna(data.ethnicity.mode().iloc[0], inplace=True)\n",
        "data.gender.fillna(data.gender.mode().iloc[0], inplace=True)\n",
        "data.icu_admit_source.fillna(data.icu_admit_source.mode().iloc[0], inplace=True)\n",
        "data.apache_3j_bodysystem.fillna(data.apache_3j_bodysystem.mode().iloc[0], inplace=True)\n",
        "data.apache_2_bodysystem.fillna(data.apache_2_bodysystem.mode().iloc[0], inplace=True)\n"
      ]
    },
    {
      "cell_type": "markdown",
      "metadata": {
        "id": "6ZrjF_3pv0Zw"
      },
      "source": [
        "Проверка"
      ]
    },
    {
      "cell_type": "code",
      "execution_count": null,
      "metadata": {
        "colab": {
          "base_uri": "https://localhost:8080/"
        },
        "id": "fXhF3WYhvUGr",
        "outputId": "f9fc12bc-2686-456d-ed3b-aad66ff37629"
      },
      "outputs": [
        {
          "output_type": "execute_result",
          "data": {
            "text/plain": [
              "hospital_id                    0\n",
              "age                            0\n",
              "bmi                            0\n",
              "elective_surgery               0\n",
              "ethnicity                      0\n",
              "                              ..\n",
              "lymphoma                       0\n",
              "solid_tumor_with_metastasis    0\n",
              "apache_3j_bodysystem           0\n",
              "apache_2_bodysystem            0\n",
              "hospital_death                 0\n",
              "Length: 82, dtype: int64"
            ]
          },
          "metadata": {},
          "execution_count": 22
        }
      ],
      "source": [
        "data.isna().sum()"
      ]
    },
    {
      "cell_type": "markdown",
      "metadata": {
        "id": "btr51r0IyYAh"
      },
      "source": [
        "# Категориальные признаки"
      ]
    },
    {
      "cell_type": "markdown",
      "metadata": {
        "id": "dje2xim9yW1-"
      },
      "source": [
        "Используем метод бинаризации"
      ]
    },
    {
      "cell_type": "code",
      "execution_count": null,
      "metadata": {
        "id": "hH0N13E6yuy9"
      },
      "outputs": [],
      "source": [
        "ethn_dummies = pd.get_dummies(data.ethnicity)\n",
        "gen_dummies = pd.get_dummies(data.gender)\n",
        "icu_admit_dummies = pd.get_dummies(data.icu_admit_source)\n",
        "icu_st_dummies = pd.get_dummies(data.icu_stay_type)\n",
        "icu_type_dummies = pd.get_dummies(data.icu_type)\n",
        "ap3_dummies = pd.get_dummies(data.apache_3j_bodysystem)\n",
        "ap2_dummies = pd.get_dummies(data.apache_2_bodysystem)\n",
        "hospital_id_dummies = pd.get_dummies(data.hospital_id)\n"
      ]
    },
    {
      "cell_type": "code",
      "execution_count": null,
      "metadata": {
        "colab": {
          "base_uri": "https://localhost:8080/",
          "height": 423
        },
        "id": "gf5MQhL82UdU",
        "outputId": "7c2b552e-9cb5-4e5a-c1fa-d03a28f5c7ab"
      },
      "outputs": [
        {
          "output_type": "execute_result",
          "data": {
            "text/plain": [
              "       African American  Asian  Caucasian  Hispanic  Native American  \\\n",
              "0                     0      0          1         0                0   \n",
              "1                     0      0          1         0                0   \n",
              "2                     0      0          1         0                0   \n",
              "3                     0      0          1         0                0   \n",
              "4                     0      0          1         0                0   \n",
              "...                 ...    ...        ...       ...              ...   \n",
              "91708                 0      0          1         0                0   \n",
              "91709                 0      0          1         0                0   \n",
              "91710                 0      0          1         0                0   \n",
              "91711                 0      0          1         0                0   \n",
              "91712                 0      0          1         0                0   \n",
              "\n",
              "       Other/Unknown  \n",
              "0                  0  \n",
              "1                  0  \n",
              "2                  0  \n",
              "3                  0  \n",
              "4                  0  \n",
              "...              ...  \n",
              "91708              0  \n",
              "91709              0  \n",
              "91710              0  \n",
              "91711              0  \n",
              "91712              0  \n",
              "\n",
              "[91713 rows x 6 columns]"
            ],
            "text/html": [
              "\n",
              "  <div id=\"df-3bcfc7f5-9621-40a7-b518-8e13fcd24e69\">\n",
              "    <div class=\"colab-df-container\">\n",
              "      <div>\n",
              "<style scoped>\n",
              "    .dataframe tbody tr th:only-of-type {\n",
              "        vertical-align: middle;\n",
              "    }\n",
              "\n",
              "    .dataframe tbody tr th {\n",
              "        vertical-align: top;\n",
              "    }\n",
              "\n",
              "    .dataframe thead th {\n",
              "        text-align: right;\n",
              "    }\n",
              "</style>\n",
              "<table border=\"1\" class=\"dataframe\">\n",
              "  <thead>\n",
              "    <tr style=\"text-align: right;\">\n",
              "      <th></th>\n",
              "      <th>African American</th>\n",
              "      <th>Asian</th>\n",
              "      <th>Caucasian</th>\n",
              "      <th>Hispanic</th>\n",
              "      <th>Native American</th>\n",
              "      <th>Other/Unknown</th>\n",
              "    </tr>\n",
              "  </thead>\n",
              "  <tbody>\n",
              "    <tr>\n",
              "      <th>0</th>\n",
              "      <td>0</td>\n",
              "      <td>0</td>\n",
              "      <td>1</td>\n",
              "      <td>0</td>\n",
              "      <td>0</td>\n",
              "      <td>0</td>\n",
              "    </tr>\n",
              "    <tr>\n",
              "      <th>1</th>\n",
              "      <td>0</td>\n",
              "      <td>0</td>\n",
              "      <td>1</td>\n",
              "      <td>0</td>\n",
              "      <td>0</td>\n",
              "      <td>0</td>\n",
              "    </tr>\n",
              "    <tr>\n",
              "      <th>2</th>\n",
              "      <td>0</td>\n",
              "      <td>0</td>\n",
              "      <td>1</td>\n",
              "      <td>0</td>\n",
              "      <td>0</td>\n",
              "      <td>0</td>\n",
              "    </tr>\n",
              "    <tr>\n",
              "      <th>3</th>\n",
              "      <td>0</td>\n",
              "      <td>0</td>\n",
              "      <td>1</td>\n",
              "      <td>0</td>\n",
              "      <td>0</td>\n",
              "      <td>0</td>\n",
              "    </tr>\n",
              "    <tr>\n",
              "      <th>4</th>\n",
              "      <td>0</td>\n",
              "      <td>0</td>\n",
              "      <td>1</td>\n",
              "      <td>0</td>\n",
              "      <td>0</td>\n",
              "      <td>0</td>\n",
              "    </tr>\n",
              "    <tr>\n",
              "      <th>...</th>\n",
              "      <td>...</td>\n",
              "      <td>...</td>\n",
              "      <td>...</td>\n",
              "      <td>...</td>\n",
              "      <td>...</td>\n",
              "      <td>...</td>\n",
              "    </tr>\n",
              "    <tr>\n",
              "      <th>91708</th>\n",
              "      <td>0</td>\n",
              "      <td>0</td>\n",
              "      <td>1</td>\n",
              "      <td>0</td>\n",
              "      <td>0</td>\n",
              "      <td>0</td>\n",
              "    </tr>\n",
              "    <tr>\n",
              "      <th>91709</th>\n",
              "      <td>0</td>\n",
              "      <td>0</td>\n",
              "      <td>1</td>\n",
              "      <td>0</td>\n",
              "      <td>0</td>\n",
              "      <td>0</td>\n",
              "    </tr>\n",
              "    <tr>\n",
              "      <th>91710</th>\n",
              "      <td>0</td>\n",
              "      <td>0</td>\n",
              "      <td>1</td>\n",
              "      <td>0</td>\n",
              "      <td>0</td>\n",
              "      <td>0</td>\n",
              "    </tr>\n",
              "    <tr>\n",
              "      <th>91711</th>\n",
              "      <td>0</td>\n",
              "      <td>0</td>\n",
              "      <td>1</td>\n",
              "      <td>0</td>\n",
              "      <td>0</td>\n",
              "      <td>0</td>\n",
              "    </tr>\n",
              "    <tr>\n",
              "      <th>91712</th>\n",
              "      <td>0</td>\n",
              "      <td>0</td>\n",
              "      <td>1</td>\n",
              "      <td>0</td>\n",
              "      <td>0</td>\n",
              "      <td>0</td>\n",
              "    </tr>\n",
              "  </tbody>\n",
              "</table>\n",
              "<p>91713 rows × 6 columns</p>\n",
              "</div>\n",
              "      <button class=\"colab-df-convert\" onclick=\"convertToInteractive('df-3bcfc7f5-9621-40a7-b518-8e13fcd24e69')\"\n",
              "              title=\"Convert this dataframe to an interactive table.\"\n",
              "              style=\"display:none;\">\n",
              "        \n",
              "  <svg xmlns=\"http://www.w3.org/2000/svg\" height=\"24px\"viewBox=\"0 0 24 24\"\n",
              "       width=\"24px\">\n",
              "    <path d=\"M0 0h24v24H0V0z\" fill=\"none\"/>\n",
              "    <path d=\"M18.56 5.44l.94 2.06.94-2.06 2.06-.94-2.06-.94-.94-2.06-.94 2.06-2.06.94zm-11 1L8.5 8.5l.94-2.06 2.06-.94-2.06-.94L8.5 2.5l-.94 2.06-2.06.94zm10 10l.94 2.06.94-2.06 2.06-.94-2.06-.94-.94-2.06-.94 2.06-2.06.94z\"/><path d=\"M17.41 7.96l-1.37-1.37c-.4-.4-.92-.59-1.43-.59-.52 0-1.04.2-1.43.59L10.3 9.45l-7.72 7.72c-.78.78-.78 2.05 0 2.83L4 21.41c.39.39.9.59 1.41.59.51 0 1.02-.2 1.41-.59l7.78-7.78 2.81-2.81c.8-.78.8-2.07 0-2.86zM5.41 20L4 18.59l7.72-7.72 1.47 1.35L5.41 20z\"/>\n",
              "  </svg>\n",
              "      </button>\n",
              "      \n",
              "  <style>\n",
              "    .colab-df-container {\n",
              "      display:flex;\n",
              "      flex-wrap:wrap;\n",
              "      gap: 12px;\n",
              "    }\n",
              "\n",
              "    .colab-df-convert {\n",
              "      background-color: #E8F0FE;\n",
              "      border: none;\n",
              "      border-radius: 50%;\n",
              "      cursor: pointer;\n",
              "      display: none;\n",
              "      fill: #1967D2;\n",
              "      height: 32px;\n",
              "      padding: 0 0 0 0;\n",
              "      width: 32px;\n",
              "    }\n",
              "\n",
              "    .colab-df-convert:hover {\n",
              "      background-color: #E2EBFA;\n",
              "      box-shadow: 0px 1px 2px rgba(60, 64, 67, 0.3), 0px 1px 3px 1px rgba(60, 64, 67, 0.15);\n",
              "      fill: #174EA6;\n",
              "    }\n",
              "\n",
              "    [theme=dark] .colab-df-convert {\n",
              "      background-color: #3B4455;\n",
              "      fill: #D2E3FC;\n",
              "    }\n",
              "\n",
              "    [theme=dark] .colab-df-convert:hover {\n",
              "      background-color: #434B5C;\n",
              "      box-shadow: 0px 1px 3px 1px rgba(0, 0, 0, 0.15);\n",
              "      filter: drop-shadow(0px 1px 2px rgba(0, 0, 0, 0.3));\n",
              "      fill: #FFFFFF;\n",
              "    }\n",
              "  </style>\n",
              "\n",
              "      <script>\n",
              "        const buttonEl =\n",
              "          document.querySelector('#df-3bcfc7f5-9621-40a7-b518-8e13fcd24e69 button.colab-df-convert');\n",
              "        buttonEl.style.display =\n",
              "          google.colab.kernel.accessAllowed ? 'block' : 'none';\n",
              "\n",
              "        async function convertToInteractive(key) {\n",
              "          const element = document.querySelector('#df-3bcfc7f5-9621-40a7-b518-8e13fcd24e69');\n",
              "          const dataTable =\n",
              "            await google.colab.kernel.invokeFunction('convertToInteractive',\n",
              "                                                     [key], {});\n",
              "          if (!dataTable) return;\n",
              "\n",
              "          const docLinkHtml = 'Like what you see? Visit the ' +\n",
              "            '<a target=\"_blank\" href=https://colab.research.google.com/notebooks/data_table.ipynb>data table notebook</a>'\n",
              "            + ' to learn more about interactive tables.';\n",
              "          element.innerHTML = '';\n",
              "          dataTable['output_type'] = 'display_data';\n",
              "          await google.colab.output.renderOutput(dataTable, element);\n",
              "          const docLink = document.createElement('div');\n",
              "          docLink.innerHTML = docLinkHtml;\n",
              "          element.appendChild(docLink);\n",
              "        }\n",
              "      </script>\n",
              "    </div>\n",
              "  </div>\n",
              "  "
            ]
          },
          "metadata": {},
          "execution_count": 24
        }
      ],
      "source": [
        "ethn_dummies "
      ]
    },
    {
      "cell_type": "code",
      "execution_count": null,
      "metadata": {
        "id": "AfiKiicbN_Qp"
      },
      "outputs": [],
      "source": [
        "data.drop(['ethnicity', 'gender', 'icu_stay_type', 'icu_type', 'icu_admit_source', 'apache_3j_bodysystem', 'apache_2_bodysystem','hospital_id'], axis=1, inplace=True)\n",
        "data = pd.concat((data, ethn_dummies), axis=1)\n",
        "data = pd.concat((data, gen_dummies), axis=1)\n",
        "data = pd.concat((data, icu_st_dummies), axis=1)\n",
        "data = pd.concat((data, icu_admit_dummies), axis=1)\n",
        "data = pd.concat((data, icu_type_dummies), axis=1)\n",
        "data = pd.concat((data, ap3_dummies), axis=1)\n",
        "data = pd.concat((data, ap2_dummies), axis=1)\n",
        "data = pd.concat((data, hospital_id_dummies), axis=1)"
      ]
    },
    {
      "cell_type": "code",
      "execution_count": null,
      "metadata": {
        "colab": {
          "base_uri": "https://localhost:8080/"
        },
        "id": "PocCScs_QCPX",
        "outputId": "2badf10a-db77-4ddd-9858-b9d4f5c7e590"
      },
      "outputs": [
        {
          "output_type": "stream",
          "name": "stdout",
          "text": [
            "<class 'pandas.core.frame.DataFrame'>\n",
            "RangeIndex: 91713 entries, 0 to 91712\n",
            "Columns: 266 entries, age to 204\n",
            "dtypes: float64(70), int64(4), uint8(192)\n",
            "memory usage: 68.6 MB\n"
          ]
        }
      ],
      "source": [
        "data.info();"
      ]
    },
    {
      "cell_type": "markdown",
      "metadata": {
        "id": "A4VQMr8yOAYW"
      },
      "source": [
        "# Нормализация"
      ]
    },
    {
      "cell_type": "code",
      "execution_count": null,
      "metadata": {
        "colab": {
          "base_uri": "https://localhost:8080/",
          "height": 480
        },
        "id": "catd99UY3AbV",
        "outputId": "54633f4a-d462-42c8-da51-e8bfa05c6a46"
      },
      "outputs": [
        {
          "output_type": "execute_result",
          "data": {
            "text/plain": [
              "                age           bmi  elective_surgery        height  \\\n",
              "count  9.171300e+04  9.171300e+04      9.171300e+04  9.171300e+04   \n",
              "mean   1.834598e-16 -8.881687e-16     -3.842740e-17 -6.166978e-17   \n",
              "std    1.000000e+00  1.000000e+00      1.000000e+00  1.000000e+00   \n",
              "min   -2.832420e+00 -1.758168e+00     -4.744383e-01 -3.027816e+00   \n",
              "25%   -5.754411e-01 -6.573981e-01     -4.744383e-01 -6.614203e-01   \n",
              "50%    1.565521e-01 -1.814236e-01     -4.744383e-01  4.215323e-02   \n",
              "75%    7.665465e-01  4.338281e-01     -4.744383e-01  7.606567e-01   \n",
              "max    1.620539e+00  4.761895e+00      2.107733e+00  2.420680e+00   \n",
              "\n",
              "             icu_id  pre_icu_los_days        weight  apache_2_diagnosis  \\\n",
              "count  9.171300e+04      9.171300e+04  9.171300e+04        9.171300e+04   \n",
              "mean  -2.479187e-17     -1.177614e-17 -4.822019e-16        1.301573e-16   \n",
              "std    1.000000e+00      1.000000e+00  1.000000e+00        1.000000e+00   \n",
              "min   -1.861908e+00     -1.036395e+01 -1.838753e+00       -9.716031e-01   \n",
              "25%   -6.085763e-01     -3.217154e-01 -6.742601e-01       -8.315569e-01   \n",
              "50%   -1.903008e-02     -2.801228e-01 -1.467896e-01       -7.265222e-01   \n",
              "75%    7.451966e-01     -1.715354e-01  5.024049e-01        1.362500e+00   \n",
              "max    1.828215e+00      6.361363e+01  4.141952e+00        1.444194e+00   \n",
              "\n",
              "       apache_3j_diagnosis  apache_post_operative  ...           192  \\\n",
              "count         9.171300e+04           9.171300e+04  ...  9.171300e+04   \n",
              "mean         -1.028863e-16          -9.296951e-17  ...  6.507866e-18   \n",
              "std           1.000000e+00           1.000000e+00  ...  1.000000e+00   \n",
              "min          -1.207592e+00          -5.017242e-01  ... -7.521981e-02   \n",
              "25%          -7.670195e-01          -5.017242e-01  ... -7.521981e-02   \n",
              "50%          -3.199147e-01          -5.017242e-01  ... -7.521981e-02   \n",
              "75%           3.181771e-01          -5.017242e-01  ... -7.521981e-02   \n",
              "max           3.569340e+00           1.993105e+00  ...  1.329423e+01   \n",
              "\n",
              "                194           195           196           197           198  \\\n",
              "count  9.171300e+04  91713.000000  9.171300e+04  9.171300e+04  9.171300e+04   \n",
              "mean  -2.262258e-17      0.000000 -4.524516e-17 -9.142002e-18 -6.972713e-19   \n",
              "std    1.000000e+00      1.000000  1.000000e+00  1.000000e+00  1.000000e+00   \n",
              "min   -1.588756e-01     -0.048474 -1.751562e-01 -3.723788e-02 -1.778484e-02   \n",
              "25%   -1.588756e-01     -0.048474 -1.751562e-01 -3.723788e-02 -1.778484e-02   \n",
              "50%   -1.588756e-01     -0.048474 -1.751562e-01 -3.723788e-02 -1.778484e-02   \n",
              "75%   -1.588756e-01     -0.048474 -1.751562e-01 -3.723788e-02 -1.778484e-02   \n",
              "max    6.294163e+00     20.629286  5.709129e+00  2.685408e+01  5.622706e+01   \n",
              "\n",
              "                199           200           202           204  \n",
              "count  9.171300e+04  9.171300e+04  9.171300e+04  9.171300e+04  \n",
              "mean  -3.284923e-17 -1.069149e-17 -3.098984e-18 -8.057358e-17  \n",
              "std    1.000000e+00  1.000000e+00  1.000000e+00  1.000000e+00  \n",
              "min   -7.738827e-02 -6.338491e-02 -5.795347e-02 -1.180718e-01  \n",
              "25%   -7.738827e-02 -6.338491e-02 -5.795347e-02 -1.180718e-01  \n",
              "50%   -7.738827e-02 -6.338491e-02 -5.795347e-02 -1.180718e-01  \n",
              "75%   -7.738827e-02 -6.338491e-02 -5.795347e-02 -1.180718e-01  \n",
              "max    1.292171e+01  1.577645e+01  1.725503e+01  8.469332e+00  \n",
              "\n",
              "[8 rows x 266 columns]"
            ],
            "text/html": [
              "\n",
              "  <div id=\"df-3ce79b77-bb53-4c85-9f26-74b62bacd2a9\">\n",
              "    <div class=\"colab-df-container\">\n",
              "      <div>\n",
              "<style scoped>\n",
              "    .dataframe tbody tr th:only-of-type {\n",
              "        vertical-align: middle;\n",
              "    }\n",
              "\n",
              "    .dataframe tbody tr th {\n",
              "        vertical-align: top;\n",
              "    }\n",
              "\n",
              "    .dataframe thead th {\n",
              "        text-align: right;\n",
              "    }\n",
              "</style>\n",
              "<table border=\"1\" class=\"dataframe\">\n",
              "  <thead>\n",
              "    <tr style=\"text-align: right;\">\n",
              "      <th></th>\n",
              "      <th>age</th>\n",
              "      <th>bmi</th>\n",
              "      <th>elective_surgery</th>\n",
              "      <th>height</th>\n",
              "      <th>icu_id</th>\n",
              "      <th>pre_icu_los_days</th>\n",
              "      <th>weight</th>\n",
              "      <th>apache_2_diagnosis</th>\n",
              "      <th>apache_3j_diagnosis</th>\n",
              "      <th>apache_post_operative</th>\n",
              "      <th>...</th>\n",
              "      <th>192</th>\n",
              "      <th>194</th>\n",
              "      <th>195</th>\n",
              "      <th>196</th>\n",
              "      <th>197</th>\n",
              "      <th>198</th>\n",
              "      <th>199</th>\n",
              "      <th>200</th>\n",
              "      <th>202</th>\n",
              "      <th>204</th>\n",
              "    </tr>\n",
              "  </thead>\n",
              "  <tbody>\n",
              "    <tr>\n",
              "      <th>count</th>\n",
              "      <td>9.171300e+04</td>\n",
              "      <td>9.171300e+04</td>\n",
              "      <td>9.171300e+04</td>\n",
              "      <td>9.171300e+04</td>\n",
              "      <td>9.171300e+04</td>\n",
              "      <td>9.171300e+04</td>\n",
              "      <td>9.171300e+04</td>\n",
              "      <td>9.171300e+04</td>\n",
              "      <td>9.171300e+04</td>\n",
              "      <td>9.171300e+04</td>\n",
              "      <td>...</td>\n",
              "      <td>9.171300e+04</td>\n",
              "      <td>9.171300e+04</td>\n",
              "      <td>91713.000000</td>\n",
              "      <td>9.171300e+04</td>\n",
              "      <td>9.171300e+04</td>\n",
              "      <td>9.171300e+04</td>\n",
              "      <td>9.171300e+04</td>\n",
              "      <td>9.171300e+04</td>\n",
              "      <td>9.171300e+04</td>\n",
              "      <td>9.171300e+04</td>\n",
              "    </tr>\n",
              "    <tr>\n",
              "      <th>mean</th>\n",
              "      <td>1.834598e-16</td>\n",
              "      <td>-8.881687e-16</td>\n",
              "      <td>-3.842740e-17</td>\n",
              "      <td>-6.166978e-17</td>\n",
              "      <td>-2.479187e-17</td>\n",
              "      <td>-1.177614e-17</td>\n",
              "      <td>-4.822019e-16</td>\n",
              "      <td>1.301573e-16</td>\n",
              "      <td>-1.028863e-16</td>\n",
              "      <td>-9.296951e-17</td>\n",
              "      <td>...</td>\n",
              "      <td>6.507866e-18</td>\n",
              "      <td>-2.262258e-17</td>\n",
              "      <td>0.000000</td>\n",
              "      <td>-4.524516e-17</td>\n",
              "      <td>-9.142002e-18</td>\n",
              "      <td>-6.972713e-19</td>\n",
              "      <td>-3.284923e-17</td>\n",
              "      <td>-1.069149e-17</td>\n",
              "      <td>-3.098984e-18</td>\n",
              "      <td>-8.057358e-17</td>\n",
              "    </tr>\n",
              "    <tr>\n",
              "      <th>std</th>\n",
              "      <td>1.000000e+00</td>\n",
              "      <td>1.000000e+00</td>\n",
              "      <td>1.000000e+00</td>\n",
              "      <td>1.000000e+00</td>\n",
              "      <td>1.000000e+00</td>\n",
              "      <td>1.000000e+00</td>\n",
              "      <td>1.000000e+00</td>\n",
              "      <td>1.000000e+00</td>\n",
              "      <td>1.000000e+00</td>\n",
              "      <td>1.000000e+00</td>\n",
              "      <td>...</td>\n",
              "      <td>1.000000e+00</td>\n",
              "      <td>1.000000e+00</td>\n",
              "      <td>1.000000</td>\n",
              "      <td>1.000000e+00</td>\n",
              "      <td>1.000000e+00</td>\n",
              "      <td>1.000000e+00</td>\n",
              "      <td>1.000000e+00</td>\n",
              "      <td>1.000000e+00</td>\n",
              "      <td>1.000000e+00</td>\n",
              "      <td>1.000000e+00</td>\n",
              "    </tr>\n",
              "    <tr>\n",
              "      <th>min</th>\n",
              "      <td>-2.832420e+00</td>\n",
              "      <td>-1.758168e+00</td>\n",
              "      <td>-4.744383e-01</td>\n",
              "      <td>-3.027816e+00</td>\n",
              "      <td>-1.861908e+00</td>\n",
              "      <td>-1.036395e+01</td>\n",
              "      <td>-1.838753e+00</td>\n",
              "      <td>-9.716031e-01</td>\n",
              "      <td>-1.207592e+00</td>\n",
              "      <td>-5.017242e-01</td>\n",
              "      <td>...</td>\n",
              "      <td>-7.521981e-02</td>\n",
              "      <td>-1.588756e-01</td>\n",
              "      <td>-0.048474</td>\n",
              "      <td>-1.751562e-01</td>\n",
              "      <td>-3.723788e-02</td>\n",
              "      <td>-1.778484e-02</td>\n",
              "      <td>-7.738827e-02</td>\n",
              "      <td>-6.338491e-02</td>\n",
              "      <td>-5.795347e-02</td>\n",
              "      <td>-1.180718e-01</td>\n",
              "    </tr>\n",
              "    <tr>\n",
              "      <th>25%</th>\n",
              "      <td>-5.754411e-01</td>\n",
              "      <td>-6.573981e-01</td>\n",
              "      <td>-4.744383e-01</td>\n",
              "      <td>-6.614203e-01</td>\n",
              "      <td>-6.085763e-01</td>\n",
              "      <td>-3.217154e-01</td>\n",
              "      <td>-6.742601e-01</td>\n",
              "      <td>-8.315569e-01</td>\n",
              "      <td>-7.670195e-01</td>\n",
              "      <td>-5.017242e-01</td>\n",
              "      <td>...</td>\n",
              "      <td>-7.521981e-02</td>\n",
              "      <td>-1.588756e-01</td>\n",
              "      <td>-0.048474</td>\n",
              "      <td>-1.751562e-01</td>\n",
              "      <td>-3.723788e-02</td>\n",
              "      <td>-1.778484e-02</td>\n",
              "      <td>-7.738827e-02</td>\n",
              "      <td>-6.338491e-02</td>\n",
              "      <td>-5.795347e-02</td>\n",
              "      <td>-1.180718e-01</td>\n",
              "    </tr>\n",
              "    <tr>\n",
              "      <th>50%</th>\n",
              "      <td>1.565521e-01</td>\n",
              "      <td>-1.814236e-01</td>\n",
              "      <td>-4.744383e-01</td>\n",
              "      <td>4.215323e-02</td>\n",
              "      <td>-1.903008e-02</td>\n",
              "      <td>-2.801228e-01</td>\n",
              "      <td>-1.467896e-01</td>\n",
              "      <td>-7.265222e-01</td>\n",
              "      <td>-3.199147e-01</td>\n",
              "      <td>-5.017242e-01</td>\n",
              "      <td>...</td>\n",
              "      <td>-7.521981e-02</td>\n",
              "      <td>-1.588756e-01</td>\n",
              "      <td>-0.048474</td>\n",
              "      <td>-1.751562e-01</td>\n",
              "      <td>-3.723788e-02</td>\n",
              "      <td>-1.778484e-02</td>\n",
              "      <td>-7.738827e-02</td>\n",
              "      <td>-6.338491e-02</td>\n",
              "      <td>-5.795347e-02</td>\n",
              "      <td>-1.180718e-01</td>\n",
              "    </tr>\n",
              "    <tr>\n",
              "      <th>75%</th>\n",
              "      <td>7.665465e-01</td>\n",
              "      <td>4.338281e-01</td>\n",
              "      <td>-4.744383e-01</td>\n",
              "      <td>7.606567e-01</td>\n",
              "      <td>7.451966e-01</td>\n",
              "      <td>-1.715354e-01</td>\n",
              "      <td>5.024049e-01</td>\n",
              "      <td>1.362500e+00</td>\n",
              "      <td>3.181771e-01</td>\n",
              "      <td>-5.017242e-01</td>\n",
              "      <td>...</td>\n",
              "      <td>-7.521981e-02</td>\n",
              "      <td>-1.588756e-01</td>\n",
              "      <td>-0.048474</td>\n",
              "      <td>-1.751562e-01</td>\n",
              "      <td>-3.723788e-02</td>\n",
              "      <td>-1.778484e-02</td>\n",
              "      <td>-7.738827e-02</td>\n",
              "      <td>-6.338491e-02</td>\n",
              "      <td>-5.795347e-02</td>\n",
              "      <td>-1.180718e-01</td>\n",
              "    </tr>\n",
              "    <tr>\n",
              "      <th>max</th>\n",
              "      <td>1.620539e+00</td>\n",
              "      <td>4.761895e+00</td>\n",
              "      <td>2.107733e+00</td>\n",
              "      <td>2.420680e+00</td>\n",
              "      <td>1.828215e+00</td>\n",
              "      <td>6.361363e+01</td>\n",
              "      <td>4.141952e+00</td>\n",
              "      <td>1.444194e+00</td>\n",
              "      <td>3.569340e+00</td>\n",
              "      <td>1.993105e+00</td>\n",
              "      <td>...</td>\n",
              "      <td>1.329423e+01</td>\n",
              "      <td>6.294163e+00</td>\n",
              "      <td>20.629286</td>\n",
              "      <td>5.709129e+00</td>\n",
              "      <td>2.685408e+01</td>\n",
              "      <td>5.622706e+01</td>\n",
              "      <td>1.292171e+01</td>\n",
              "      <td>1.577645e+01</td>\n",
              "      <td>1.725503e+01</td>\n",
              "      <td>8.469332e+00</td>\n",
              "    </tr>\n",
              "  </tbody>\n",
              "</table>\n",
              "<p>8 rows × 266 columns</p>\n",
              "</div>\n",
              "      <button class=\"colab-df-convert\" onclick=\"convertToInteractive('df-3ce79b77-bb53-4c85-9f26-74b62bacd2a9')\"\n",
              "              title=\"Convert this dataframe to an interactive table.\"\n",
              "              style=\"display:none;\">\n",
              "        \n",
              "  <svg xmlns=\"http://www.w3.org/2000/svg\" height=\"24px\"viewBox=\"0 0 24 24\"\n",
              "       width=\"24px\">\n",
              "    <path d=\"M0 0h24v24H0V0z\" fill=\"none\"/>\n",
              "    <path d=\"M18.56 5.44l.94 2.06.94-2.06 2.06-.94-2.06-.94-.94-2.06-.94 2.06-2.06.94zm-11 1L8.5 8.5l.94-2.06 2.06-.94-2.06-.94L8.5 2.5l-.94 2.06-2.06.94zm10 10l.94 2.06.94-2.06 2.06-.94-2.06-.94-.94-2.06-.94 2.06-2.06.94z\"/><path d=\"M17.41 7.96l-1.37-1.37c-.4-.4-.92-.59-1.43-.59-.52 0-1.04.2-1.43.59L10.3 9.45l-7.72 7.72c-.78.78-.78 2.05 0 2.83L4 21.41c.39.39.9.59 1.41.59.51 0 1.02-.2 1.41-.59l7.78-7.78 2.81-2.81c.8-.78.8-2.07 0-2.86zM5.41 20L4 18.59l7.72-7.72 1.47 1.35L5.41 20z\"/>\n",
              "  </svg>\n",
              "      </button>\n",
              "      \n",
              "  <style>\n",
              "    .colab-df-container {\n",
              "      display:flex;\n",
              "      flex-wrap:wrap;\n",
              "      gap: 12px;\n",
              "    }\n",
              "\n",
              "    .colab-df-convert {\n",
              "      background-color: #E8F0FE;\n",
              "      border: none;\n",
              "      border-radius: 50%;\n",
              "      cursor: pointer;\n",
              "      display: none;\n",
              "      fill: #1967D2;\n",
              "      height: 32px;\n",
              "      padding: 0 0 0 0;\n",
              "      width: 32px;\n",
              "    }\n",
              "\n",
              "    .colab-df-convert:hover {\n",
              "      background-color: #E2EBFA;\n",
              "      box-shadow: 0px 1px 2px rgba(60, 64, 67, 0.3), 0px 1px 3px 1px rgba(60, 64, 67, 0.15);\n",
              "      fill: #174EA6;\n",
              "    }\n",
              "\n",
              "    [theme=dark] .colab-df-convert {\n",
              "      background-color: #3B4455;\n",
              "      fill: #D2E3FC;\n",
              "    }\n",
              "\n",
              "    [theme=dark] .colab-df-convert:hover {\n",
              "      background-color: #434B5C;\n",
              "      box-shadow: 0px 1px 3px 1px rgba(0, 0, 0, 0.15);\n",
              "      filter: drop-shadow(0px 1px 2px rgba(0, 0, 0, 0.3));\n",
              "      fill: #FFFFFF;\n",
              "    }\n",
              "  </style>\n",
              "\n",
              "      <script>\n",
              "        const buttonEl =\n",
              "          document.querySelector('#df-3ce79b77-bb53-4c85-9f26-74b62bacd2a9 button.colab-df-convert');\n",
              "        buttonEl.style.display =\n",
              "          google.colab.kernel.accessAllowed ? 'block' : 'none';\n",
              "\n",
              "        async function convertToInteractive(key) {\n",
              "          const element = document.querySelector('#df-3ce79b77-bb53-4c85-9f26-74b62bacd2a9');\n",
              "          const dataTable =\n",
              "            await google.colab.kernel.invokeFunction('convertToInteractive',\n",
              "                                                     [key], {});\n",
              "          if (!dataTable) return;\n",
              "\n",
              "          const docLinkHtml = 'Like what you see? Visit the ' +\n",
              "            '<a target=\"_blank\" href=https://colab.research.google.com/notebooks/data_table.ipynb>data table notebook</a>'\n",
              "            + ' to learn more about interactive tables.';\n",
              "          element.innerHTML = '';\n",
              "          dataTable['output_type'] = 'display_data';\n",
              "          await google.colab.output.renderOutput(dataTable, element);\n",
              "          const docLink = document.createElement('div');\n",
              "          docLink.innerHTML = docLinkHtml;\n",
              "          element.appendChild(docLink);\n",
              "        }\n",
              "      </script>\n",
              "    </div>\n",
              "  </div>\n",
              "  "
            ]
          },
          "metadata": {},
          "execution_count": 27
        }
      ],
      "source": [
        "norm = (data - data.mean(axis = 0))/data.std(axis = 0)\n",
        "norm.describe()"
      ]
    },
    {
      "cell_type": "markdown",
      "metadata": {
        "id": "uNOs7V2OTSic"
      },
      "source": [
        "# Обучающая и тестовая выборки"
      ]
    },
    {
      "cell_type": "markdown",
      "metadata": {
        "id": "iDDezSuDTWVQ"
      },
      "source": [
        "Разобьем данные на обучающую и тестовую выборки в соотношении 9:1"
      ]
    },
    {
      "cell_type": "code",
      "execution_count": null,
      "metadata": {
        "colab": {
          "base_uri": "https://localhost:8080/"
        },
        "id": "Hzoyl0H7T_Un",
        "outputId": "d9e187a1-9fa4-41a3-f56e-e63d8b7e2887"
      },
      "outputs": [
        {
          "output_type": "execute_result",
          "data": {
            "text/plain": [
              "(82541, 9172)"
            ]
          },
          "metadata": {},
          "execution_count": 28
        }
      ],
      "source": [
        "from sklearn.model_selection import train_test_split\n",
        "\n",
        "x = norm.drop(['hospital_death'], axis=1)\n",
        "y = data['hospital_death']\n",
        "\n",
        "x_train, x_test, y_train, y_test = train_test_split(x, y, test_size = 0.1, random_state = 71)\n",
        "\n",
        "train, _ = x_train.shape \n",
        "test,  _ = x_test.shape \n",
        "\n",
        "train, test"
      ]
    },
    {
      "cell_type": "markdown",
      "metadata": {
        "id": "J5IWecTXUcP8"
      },
      "source": [
        "# KNN"
      ]
    },
    {
      "cell_type": "markdown",
      "metadata": {
        "id": "Fc-V907GUgF4"
      },
      "source": [
        "Для начала применим классификатор ближайших соседей и найдём для него оптимальное число соседей."
      ]
    },
    {
      "cell_type": "code",
      "execution_count": null,
      "metadata": {
        "colab": {
          "background_save": true
        },
        "id": "Vg5jWIJyUgey"
      },
      "outputs": [],
      "source": [
        "from sklearn.neighbors import KNeighborsClassifier\n",
        "from sklearn.model_selection import GridSearchCV\n",
        "\n",
        "g = GridSearchCV(KNeighborsClassifier(), param_grid = {'n_neighbors': range(1, 30)}).fit(x_train, y_train)\n",
        "\n",
        "print('Ошибка : ', 1 - g.best_score_)\n",
        "print('Оптимальное количество соседей: ', g.best_estimator_.n_neighbors)"
      ]
    },
    {
      "cell_type": "markdown",
      "source": [
        "Наилучшее число соседей - 9"
      ],
      "metadata": {
        "id": "Y8lw2oZDE7j6"
      }
    },
    {
      "cell_type": "code",
      "execution_count": null,
      "metadata": {
        "id": "Spc98J3GV5FC",
        "colab": {
          "base_uri": "https://localhost:8080/"
        },
        "outputId": "6a7b7fca-71ee-40ac-81ea-90ad1bd96cfc"
      },
      "outputs": [
        {
          "output_type": "stream",
          "name": "stderr",
          "text": [
            "/usr/local/lib/python3.8/dist-packages/sklearn/utils/validation.py:1688: FutureWarning: Feature names only support names that are all strings. Got feature names with dtypes: ['int', 'str']. An error will be raised in 1.2.\n",
            "  warnings.warn(\n",
            "/usr/local/lib/python3.8/dist-packages/sklearn/utils/validation.py:1688: FutureWarning: Feature names only support names that are all strings. Got feature names with dtypes: ['int', 'str']. An error will be raised in 1.2.\n",
            "  warnings.warn(\n",
            "/usr/local/lib/python3.8/dist-packages/sklearn/utils/validation.py:1688: FutureWarning: Feature names only support names that are all strings. Got feature names with dtypes: ['int', 'str']. An error will be raised in 1.2.\n",
            "  warnings.warn(\n"
          ]
        },
        {
          "output_type": "execute_result",
          "data": {
            "text/plain": [
              "array([[75219,   164],\n",
              "       [ 6344,   814]])"
            ]
          },
          "metadata": {},
          "execution_count": 92
        }
      ],
      "source": [
        "from sklearn.neighbors import KNeighborsClassifier\n",
        "from sklearn.metrics import confusion_matrix\n",
        "from sklearn.metrics import plot_confusion_matrix\n",
        "kNN_f = KNeighborsClassifier()\n",
        "kNN_f.n_neighbors = 9\n",
        "kNN_f.fit(x_train, y_train)\n",
        "y_train_prediction = kNN_f.predict(x_train)\n",
        "y_test_prediction = kNN_f.predict(x_test)\n",
        "confusion_matrix(y_train, y_train_prediction)"
      ]
    },
    {
      "cell_type": "markdown",
      "source": [
        "На тренировочных данных:"
      ],
      "metadata": {
        "id": "r4IzLdcLUZrr"
      }
    },
    {
      "cell_type": "code",
      "source": [
        "plot_confusion_matrix(kNN_f, x_train, y_train, cmap=plt.cm.Blues)"
      ],
      "metadata": {
        "colab": {
          "base_uri": "https://localhost:8080/",
          "height": 390
        },
        "id": "-GkQjUh8Ui-a",
        "outputId": "78420a11-32ce-4ce8-d4ee-1539211a584c"
      },
      "execution_count": null,
      "outputs": [
        {
          "output_type": "stream",
          "name": "stderr",
          "text": [
            "/usr/local/lib/python3.8/dist-packages/sklearn/utils/deprecation.py:87: FutureWarning: Function plot_confusion_matrix is deprecated; Function `plot_confusion_matrix` is deprecated in 1.0 and will be removed in 1.2. Use one of the class methods: ConfusionMatrixDisplay.from_predictions or ConfusionMatrixDisplay.from_estimator.\n",
            "  warnings.warn(msg, category=FutureWarning)\n",
            "/usr/local/lib/python3.8/dist-packages/sklearn/utils/validation.py:1688: FutureWarning: Feature names only support names that are all strings. Got feature names with dtypes: ['int', 'str']. An error will be raised in 1.2.\n",
            "  warnings.warn(\n"
          ]
        },
        {
          "output_type": "execute_result",
          "data": {
            "text/plain": [
              "<sklearn.metrics._plot.confusion_matrix.ConfusionMatrixDisplay at 0x7f28d9f72d00>"
            ]
          },
          "metadata": {},
          "execution_count": 49
        },
        {
          "output_type": "display_data",
          "data": {
            "text/plain": [
              "<Figure size 432x288 with 2 Axes>"
            ],
            "image/png": "[encoded data removed]"
          },
          "metadata": {
            "needs_background": "light"
          }
        }
      ]
    },
    {
      "cell_type": "code",
      "source": [
        "from sklearn.metrics import classification_report\n",
        "print(classification_report(y_train, y_train_prediction))"
      ],
      "metadata": {
        "colab": {
          "base_uri": "https://localhost:8080/"
        },
        "id": "YE3bk0yyGv1I",
        "outputId": "57f5252e-aacd-4f36-fcee-3229e8027afc"
      },
      "execution_count": null,
      "outputs": [
        {
          "output_type": "stream",
          "name": "stdout",
          "text": [
            "              precision    recall  f1-score   support\n",
            "\n",
            "           0       0.92      1.00      0.96     75383\n",
            "           1       0.83      0.11      0.20      7158\n",
            "\n",
            "    accuracy                           0.92     82541\n",
            "   macro avg       0.88      0.56      0.58     82541\n",
            "weighted avg       0.91      0.92      0.89     82541\n",
            "\n"
          ]
        }
      ]
    },
    {
      "cell_type": "markdown",
      "source": [
        "На тестовых данных:"
      ],
      "metadata": {
        "id": "vYdwMRgWU3yy"
      }
    },
    {
      "cell_type": "code",
      "source": [
        "plot_confusion_matrix(kNN_f, x_test, y_test, cmap=plt.cm.Blues)"
      ],
      "metadata": {
        "colab": {
          "base_uri": "https://localhost:8080/",
          "height": 390
        },
        "id": "CFppecZVQBvK",
        "outputId": "b1803b4a-e9c4-46b4-89ac-3024ae8f49c1"
      },
      "execution_count": null,
      "outputs": [
        {
          "output_type": "stream",
          "name": "stderr",
          "text": [
            "/usr/local/lib/python3.8/dist-packages/sklearn/utils/deprecation.py:87: FutureWarning: Function plot_confusion_matrix is deprecated; Function `plot_confusion_matrix` is deprecated in 1.0 and will be removed in 1.2. Use one of the class methods: ConfusionMatrixDisplay.from_predictions or ConfusionMatrixDisplay.from_estimator.\n",
            "  warnings.warn(msg, category=FutureWarning)\n",
            "/usr/local/lib/python3.8/dist-packages/sklearn/utils/validation.py:1688: FutureWarning: Feature names only support names that are all strings. Got feature names with dtypes: ['int', 'str']. An error will be raised in 1.2.\n",
            "  warnings.warn(\n"
          ]
        },
        {
          "output_type": "execute_result",
          "data": {
            "text/plain": [
              "<sklearn.metrics._plot.confusion_matrix.ConfusionMatrixDisplay at 0x7f28d79ecb80>"
            ]
          },
          "metadata": {},
          "execution_count": 45
        },
        {
          "output_type": "display_data",
          "data": {
            "text/plain": [
              "<Figure size 432x288 with 2 Axes>"
            ],
            "image/png": "[encoded data removed]"
          },
          "metadata": {
            "needs_background": "light"
          }
        }
      ]
    },
    {
      "cell_type": "code",
      "source": [
        "from sklearn.metrics import classification_report\n",
        "print(classification_report(y_test, y_test_prediction))"
      ],
      "metadata": {
        "colab": {
          "base_uri": "https://localhost:8080/"
        },
        "id": "pPQrK6DxG8QJ",
        "outputId": "a67e0800-e0cd-45e1-c83b-857c2079aace"
      },
      "execution_count": null,
      "outputs": [
        {
          "output_type": "stream",
          "name": "stdout",
          "text": [
            "              precision    recall  f1-score   support\n",
            "\n",
            "           0       0.92      1.00      0.96      8415\n",
            "           1       0.73      0.08      0.15       757\n",
            "\n",
            "    accuracy                           0.92      9172\n",
            "   macro avg       0.82      0.54      0.55      9172\n",
            "weighted avg       0.91      0.92      0.89      9172\n",
            "\n"
          ]
        }
      ]
    },
    {
      "cell_type": "markdown",
      "source": [
        "Исходя из полученных метрик приходим к выводу что при такой разбалансировке классов класс 1 практически не определяется классификатором ближайших соседей. Попробуем другой алгоритм"
      ],
      "metadata": {
        "id": "kbmAkqCmKrBS"
      }
    },
    {
      "cell_type": "markdown",
      "metadata": {
        "id": "8AwuqnYHWeJD"
      },
      "source": [
        "# Random Forest"
      ]
    },
    {
      "cell_type": "code",
      "execution_count": null,
      "metadata": {
        "colab": {
          "base_uri": "https://localhost:8080/"
        },
        "id": "ZYnkks3CWR-w",
        "outputId": "3d709d67-726a-4ad5-8215-57728528a759"
      },
      "outputs": [
        {
          "output_type": "stream",
          "name": "stderr",
          "text": [
            "/usr/local/lib/python3.8/dist-packages/sklearn/utils/validation.py:1688: FutureWarning: Feature names only support names that are all strings. Got feature names with dtypes: ['int', 'str']. An error will be raised in 1.2.\n",
            "  warnings.warn(\n",
            "/usr/local/lib/python3.8/dist-packages/sklearn/utils/validation.py:1688: FutureWarning: Feature names only support names that are all strings. Got feature names with dtypes: ['int', 'str']. An error will be raised in 1.2.\n",
            "  warnings.warn(\n",
            "/usr/local/lib/python3.8/dist-packages/sklearn/utils/validation.py:1688: FutureWarning: Feature names only support names that are all strings. Got feature names with dtypes: ['int', 'str']. An error will be raised in 1.2.\n",
            "  warnings.warn(\n",
            "/usr/local/lib/python3.8/dist-packages/sklearn/utils/validation.py:1688: FutureWarning: Feature names only support names that are all strings. Got feature names with dtypes: ['int', 'str']. An error will be raised in 1.2.\n",
            "  warnings.warn(\n",
            "/usr/local/lib/python3.8/dist-packages/sklearn/utils/validation.py:1688: FutureWarning: Feature names only support names that are all strings. Got feature names with dtypes: ['int', 'str']. An error will be raised in 1.2.\n",
            "  warnings.warn(\n"
          ]
        },
        {
          "output_type": "execute_result",
          "data": {
            "text/plain": [
              "(1.2115191238337708e-05, 0.07152202354993453)"
            ]
          },
          "metadata": {},
          "execution_count": 81
        }
      ],
      "source": [
        "from sklearn import ensemble\n",
        "rf = ensemble.RandomForestClassifier(n_estimators=100).fit(x_train, y_train)\n",
        "\n",
        "y_train_pred_rf = rf.predict(x_train)\n",
        "y_test_pred_rf = rf.predict(x_test)\n",
        "1 - rf.score(x_train, y_train), 1 - rf.score(x_test, y_test)"
      ]
    },
    {
      "cell_type": "markdown",
      "source": [
        "Посмотрим на матрицу рассогласования на обучающей выборке"
      ],
      "metadata": {
        "id": "SzB57SBnF6_4"
      }
    },
    {
      "cell_type": "code",
      "source": [
        "plot_confusion_matrix(rf, x_train, y_train, cmap=plt.cm.Blues)"
      ],
      "metadata": {
        "colab": {
          "base_uri": "https://localhost:8080/",
          "height": 390
        },
        "id": "LL8RlVWJGM-6",
        "outputId": "e56c2450-1b71-4cae-f922-14f05a7fd23f"
      },
      "execution_count": null,
      "outputs": [
        {
          "output_type": "stream",
          "name": "stderr",
          "text": [
            "/usr/local/lib/python3.8/dist-packages/sklearn/utils/deprecation.py:87: FutureWarning: Function plot_confusion_matrix is deprecated; Function `plot_confusion_matrix` is deprecated in 1.0 and will be removed in 1.2. Use one of the class methods: ConfusionMatrixDisplay.from_predictions or ConfusionMatrixDisplay.from_estimator.\n",
            "  warnings.warn(msg, category=FutureWarning)\n",
            "/usr/local/lib/python3.8/dist-packages/sklearn/utils/validation.py:1688: FutureWarning: Feature names only support names that are all strings. Got feature names with dtypes: ['int', 'str']. An error will be raised in 1.2.\n",
            "  warnings.warn(\n"
          ]
        },
        {
          "output_type": "execute_result",
          "data": {
            "text/plain": [
              "<sklearn.metrics._plot.confusion_matrix.ConfusionMatrixDisplay at 0x7f28dd350e80>"
            ]
          },
          "metadata": {},
          "execution_count": 87
        },
        {
          "output_type": "display_data",
          "data": {
            "text/plain": [
              "<Figure size 432x288 with 2 Axes>"
            ],
            "image/png": "[encoded data removed]"
          },
          "metadata": {
            "needs_background": "light"
          }
        }
      ]
    },
    {
      "cell_type": "code",
      "source": [
        "from sklearn.metrics import classification_report\n",
        "print(classification_report(y_train, y_train_pred_rf))"
      ],
      "metadata": {
        "colab": {
          "base_uri": "https://localhost:8080/"
        },
        "id": "VxrTuADBFM0T",
        "outputId": "f7d9d3d8-58a1-42c3-f15b-0c85c381f244"
      },
      "execution_count": null,
      "outputs": [
        {
          "output_type": "stream",
          "name": "stdout",
          "text": [
            "              precision    recall  f1-score   support\n",
            "\n",
            "           0       1.00      1.00      1.00     75383\n",
            "           1       1.00      1.00      1.00      7158\n",
            "\n",
            "    accuracy                           1.00     82541\n",
            "   macro avg       1.00      1.00      1.00     82541\n",
            "weighted avg       1.00      1.00      1.00     82541\n",
            "\n"
          ]
        }
      ]
    },
    {
      "cell_type": "markdown",
      "source": [
        "Теперь посмотрим на матрицу рассогласования на тестовой выборке\n"
      ],
      "metadata": {
        "id": "jI3tbBhvGZcU"
      }
    },
    {
      "cell_type": "code",
      "source": [
        "plot_confusion_matrix(rf, x_test, y_test, cmap=plt.cm.Blues)"
      ],
      "metadata": {
        "colab": {
          "base_uri": "https://localhost:8080/",
          "height": 390
        },
        "id": "a2G71Q0SGkAv",
        "outputId": "027bad48-5dbd-4f1e-e62e-cbab94bc0123"
      },
      "execution_count": null,
      "outputs": [
        {
          "output_type": "stream",
          "name": "stderr",
          "text": [
            "/usr/local/lib/python3.8/dist-packages/sklearn/utils/deprecation.py:87: FutureWarning: Function plot_confusion_matrix is deprecated; Function `plot_confusion_matrix` is deprecated in 1.0 and will be removed in 1.2. Use one of the class methods: ConfusionMatrixDisplay.from_predictions or ConfusionMatrixDisplay.from_estimator.\n",
            "  warnings.warn(msg, category=FutureWarning)\n",
            "/usr/local/lib/python3.8/dist-packages/sklearn/utils/validation.py:1688: FutureWarning: Feature names only support names that are all strings. Got feature names with dtypes: ['int', 'str']. An error will be raised in 1.2.\n",
            "  warnings.warn(\n"
          ]
        },
        {
          "output_type": "execute_result",
          "data": {
            "text/plain": [
              "<sklearn.metrics._plot.confusion_matrix.ConfusionMatrixDisplay at 0x7f28d73a61f0>"
            ]
          },
          "metadata": {},
          "execution_count": 86
        },
        {
          "output_type": "display_data",
          "data": {
            "text/plain": [
              "<Figure size 432x288 with 2 Axes>"
            ],
            "image/png": "[encoded data removed]"
          },
          "metadata": {
            "needs_background": "light"
          }
        }
      ]
    },
    {
      "cell_type": "code",
      "source": [
        "from sklearn.metrics import classification_report\n",
        "print(classification_report(y_test, y_test_pred_rf))"
      ],
      "metadata": {
        "colab": {
          "base_uri": "https://localhost:8080/"
        },
        "id": "wOIJJ1QVF0mW",
        "outputId": "ccd8253e-52c8-4bf9-cc5a-f1f26521d6d5"
      },
      "execution_count": null,
      "outputs": [
        {
          "output_type": "stream",
          "name": "stdout",
          "text": [
            "              precision    recall  f1-score   support\n",
            "\n",
            "           0       0.93      0.99      0.96      8415\n",
            "           1       0.71      0.22      0.34       757\n",
            "\n",
            "    accuracy                           0.93      9172\n",
            "   macro avg       0.82      0.61      0.65      9172\n",
            "weighted avg       0.92      0.93      0.91      9172\n",
            "\n"
          ]
        }
      ]
    },
    {
      "cell_type": "markdown",
      "source": [
        "Видим что ошибка на тестовых данных значительно превосходит ошибку на тренировочных, следовательно имеем переобучение."
      ],
      "metadata": {
        "id": "bbLQQdEHNJs3"
      }
    },
    {
      "cell_type": "markdown",
      "source": [
        "Эксперимент. Перебор значений глубины дерева вручную"
      ],
      "metadata": {
        "id": "_QjG8MfQNjx5"
      }
    },
    {
      "cell_type": "code",
      "source": [
        "depths = np.arange(1, 30)\n",
        "train_errs = []\n",
        "validate_errs = []\n",
        "best_depth = 1\n",
        "# Разделение на тренировочные и проверочные данные\n",
        "x_train_train, x_validate, y_train_train, y_validate = train_test_split(x_train, y_train, test_size = 0.2, random_state = 42)\n",
        "for depth in depths:\n",
        "    rf_f = ensemble.RandomForestClassifier(max_depth = depth)\n",
        "    rf_f.fit(x_train_train, y_train_train)\n",
        "    train_errs.append(1 - rf_f.score(x_train_train, y_train_train))\n",
        "    validate_err = 1 - rf_f.score(x_validate, y_validate)\n",
        "    try:\n",
        "        if validate_err < validate_errs[-1]:\n",
        "            best_depth = depth\n",
        "    except:\n",
        "        pass\n",
        "    validate_errs.append(1 - rf_f.score(x_validate, y_validate))\n",
        "plt.plot(depths, train_errs, 'r-o', label = 'train')\n",
        "plt.plot(depths, validate_errs, 'b-o', label = 'validate')\n",
        "plt.title('Error and depths')\n",
        "plt.xlabel('depth')\n",
        "plt.ylabel('error')\n",
        "plt.legend()\n",
        "plt.show()"
      ],
      "metadata": {
        "colab": {
          "base_uri": "https://localhost:8080/",
          "height": 425
        },
        "id": "-PTuQ_2lNsPI",
        "outputId": "0091eb20-8a6e-40bc-c510-0266c0876144"
      },
      "execution_count": null,
      "outputs": [
        {
          "output_type": "stream",
          "name": "stderr",
          "text": [
            "/usr/local/lib/python3.8/dist-packages/sklearn/utils/validation.py:1688: FutureWarning: Feature names only support names that are all strings. Got feature names with dtypes: ['int', 'str']. An error will be raised in 1.2.\n",
            "  warnings.warn(\n",
            "/usr/local/lib/python3.8/dist-packages/sklearn/utils/validation.py:1688: FutureWarning: Feature names only support names that are all strings. Got feature names with dtypes: ['int', 'str']. An error will be raised in 1.2.\n",
            "  warnings.warn(\n",
            "/usr/local/lib/python3.8/dist-packages/sklearn/utils/validation.py:1688: FutureWarning: Feature names only support names that are all strings. Got feature names with dtypes: ['int', 'str']. An error will be raised in 1.2.\n",
            "  warnings.warn(\n"
          ]
        },
        {
          "output_type": "display_data",
          "data": {
            "text/plain": [
              "<Figure size 432x288 with 1 Axes>"
            ],
            "image/png": "[encoded data removed]"
          },
          "metadata": {
            "needs_background": "light"
          }
        }
      ]
    },
    {
      "cell_type": "code",
      "source": [
        "min_train_err = np.min(train_errs)\n",
        "min_validate_err = np.min(validate_errs)\n",
        "min_train_err, min_validate_err, best_depth"
      ],
      "metadata": {
        "colab": {
          "base_uri": "https://localhost:8080/"
        },
        "id": "3sYbDS8OQfpN",
        "outputId": "f990c142-f695-4bdd-b32b-11fe1f33a997"
      },
      "execution_count": null,
      "outputs": [
        {
          "output_type": "execute_result",
          "data": {
            "text/plain": [
              "(0.0007723527986430723, 0.07408080440971587, 28)"
            ]
          },
          "metadata": {},
          "execution_count": 69
        }
      ]
    },
    {
      "cell_type": "code",
      "source": [
        "rf_res = ensemble.RandomForestClassifier(max_depth = best_depth)\n",
        "rf_res.fit(x_train, y_train)\n",
        "1 - rf_res.score(x_test, y_test)"
      ],
      "metadata": {
        "colab": {
          "base_uri": "https://localhost:8080/"
        },
        "id": "3gRTKuXeQubR",
        "outputId": "686dd0cb-45df-40fa-baec-98990ae3d71b"
      },
      "execution_count": null,
      "outputs": [
        {
          "output_type": "stream",
          "name": "stderr",
          "text": [
            "/usr/local/lib/python3.8/dist-packages/sklearn/utils/validation.py:1688: FutureWarning: Feature names only support names that are all strings. Got feature names with dtypes: ['int', 'str']. An error will be raised in 1.2.\n",
            "  warnings.warn(\n",
            "/usr/local/lib/python3.8/dist-packages/sklearn/utils/validation.py:1688: FutureWarning: Feature names only support names that are all strings. Got feature names with dtypes: ['int', 'str']. An error will be raised in 1.2.\n",
            "  warnings.warn(\n"
          ]
        },
        {
          "output_type": "execute_result",
          "data": {
            "text/plain": [
              "0.07370257304840822"
            ]
          },
          "metadata": {},
          "execution_count": 73
        }
      ]
    },
    {
      "cell_type": "code",
      "source": [
        "plot_confusion_matrix(rf_res, x_test, y_test, cmap=plt.cm.Blues)"
      ],
      "metadata": {
        "colab": {
          "base_uri": "https://localhost:8080/",
          "height": 390
        },
        "id": "wDKy1-4kGdJS",
        "outputId": "321dcac4-3666-4276-8e76-9530f608a271"
      },
      "execution_count": null,
      "outputs": [
        {
          "output_type": "stream",
          "name": "stderr",
          "text": [
            "/usr/local/lib/python3.8/dist-packages/sklearn/utils/deprecation.py:87: FutureWarning: Function plot_confusion_matrix is deprecated; Function `plot_confusion_matrix` is deprecated in 1.0 and will be removed in 1.2. Use one of the class methods: ConfusionMatrixDisplay.from_predictions or ConfusionMatrixDisplay.from_estimator.\n",
            "  warnings.warn(msg, category=FutureWarning)\n",
            "/usr/local/lib/python3.8/dist-packages/sklearn/utils/validation.py:1688: FutureWarning: Feature names only support names that are all strings. Got feature names with dtypes: ['int', 'str']. An error will be raised in 1.2.\n",
            "  warnings.warn(\n"
          ]
        },
        {
          "output_type": "execute_result",
          "data": {
            "text/plain": [
              "<sklearn.metrics._plot.confusion_matrix.ConfusionMatrixDisplay at 0x7f28d73a6c70>"
            ]
          },
          "metadata": {},
          "execution_count": 88
        },
        {
          "output_type": "display_data",
          "data": {
            "text/plain": [
              "<Figure size 432x288 with 2 Axes>"
            ],
            "image/png": "[encoded data removed]"
          },
          "metadata": {
            "needs_background": "light"
          }
        }
      ]
    },
    {
      "cell_type": "code",
      "source": [
        "print(classification_report(y_test, y_test_pred_rf))"
      ],
      "metadata": {
        "colab": {
          "base_uri": "https://localhost:8080/"
        },
        "id": "DgbSclf0GmHO",
        "outputId": "073f53bc-a1bf-47a0-b332-d60ab7b1a130"
      },
      "execution_count": null,
      "outputs": [
        {
          "output_type": "stream",
          "name": "stdout",
          "text": [
            "              precision    recall  f1-score   support\n",
            "\n",
            "           0       0.93      0.99      0.96      8415\n",
            "           1       0.71      0.22      0.34       757\n",
            "\n",
            "    accuracy                           0.93      9172\n",
            "   macro avg       0.82      0.61      0.65      9172\n",
            "weighted avg       0.92      0.93      0.91      9172\n",
            "\n"
          ]
        }
      ]
    },
    {
      "cell_type": "markdown",
      "source": [
        "Значение ошибки ровно такое же, как в начале, вероятно получить ошибку еще меньше у этого алгоритма не получится"
      ],
      "metadata": {
        "id": "iZqK0-88SJA8"
      }
    },
    {
      "cell_type": "markdown",
      "metadata": {
        "id": "xc_c-V0ZchnA"
      },
      "source": [
        "Таким образом мы видим что и в KNN и в RandomForest метрики для класса 1 получаются неудовлетворительными ввиду несбалансированности классов"
      ]
    },
    {
      "cell_type": "markdown",
      "source": [
        "# Борьба с несбалансированностью классов"
      ],
      "metadata": {
        "id": "TVmhHFTC64wL"
      }
    },
    {
      "cell_type": "markdown",
      "source": [
        "Ранее мы выяснили что в классах присутствует сильная несбалансированность"
      ],
      "metadata": {
        "id": "TPfcEcNt-xDc"
      }
    },
    {
      "cell_type": "code",
      "source": [
        "data.hospital_death.value_counts().plot.pie()\n",
        "pass"
      ],
      "metadata": {
        "colab": {
          "base_uri": "https://localhost:8080/",
          "height": 248
        },
        "id": "F8vCxGGWHuHN",
        "outputId": "be2ff2d1-5b17-4d5f-ef01-cdc637f311a6"
      },
      "execution_count": null,
      "outputs": [
        {
          "output_type": "display_data",
          "data": {
            "text/plain": [
              "<Figure size 432x288 with 1 Axes>"
            ],
            "image/png": "[encoded data removed]"
          },
          "metadata": {}
        }
      ]
    },
    {
      "cell_type": "markdown",
      "source": [
        "Попробуем исправить ситуацию выкинув часть значений из класса 0"
      ],
      "metadata": {
        "id": "ApE4974AJLlD"
      }
    },
    {
      "cell_type": "code",
      "source": [
        "class_0 = int((data[data[\"hospital_death\"] == 0])[\"hospital_death\"].value_counts())\n",
        "class_1 = int((data[data[\"hospital_death\"] == 1])[\"hospital_death\"].value_counts())\n",
        "class_0 - class_1"
      ],
      "metadata": {
        "colab": {
          "base_uri": "https://localhost:8080/"
        },
        "id": "tSjkaFd1J1zF",
        "outputId": "d780b635-296c-48f4-af1c-1d73c06dd20e"
      },
      "execution_count": null,
      "outputs": [
        {
          "output_type": "execute_result",
          "data": {
            "text/plain": [
              "75883"
            ]
          },
          "metadata": {},
          "execution_count": 29
        }
      ]
    },
    {
      "cell_type": "code",
      "source": [
        "data_balanced = data.copy()\n",
        "data_balanced = data_balanced.drop(data_balanced.loc[data_balanced[\"hospital_death\"] == 0].sample(n=class_0 - class_1).index)\n",
        "data_balanced[\"hospital_death\"].value_counts()"
      ],
      "metadata": {
        "colab": {
          "base_uri": "https://localhost:8080/"
        },
        "id": "6RjPt4uMKAyO",
        "outputId": "6b79d2b7-4a9c-4a74-ceb6-232c9c35aa87"
      },
      "execution_count": null,
      "outputs": [
        {
          "output_type": "execute_result",
          "data": {
            "text/plain": [
              "0    7915\n",
              "1    7915\n",
              "Name: hospital_death, dtype: int64"
            ]
          },
          "metadata": {},
          "execution_count": 30
        }
      ]
    },
    {
      "cell_type": "code",
      "source": [
        "data_balanced.hospital_death.value_counts().plot.pie()\n",
        "pass"
      ],
      "metadata": {
        "colab": {
          "base_uri": "https://localhost:8080/",
          "height": 248
        },
        "id": "WoxcZOdiKsgw",
        "outputId": "1eedb8ca-cf1a-4415-c20e-64409db282b3"
      },
      "execution_count": null,
      "outputs": [
        {
          "output_type": "display_data",
          "data": {
            "text/plain": [
              "<Figure size 432x288 with 1 Axes>"
            ],
            "image/png": "[encoded data removed]"
          },
          "metadata": {}
        }
      ]
    },
    {
      "cell_type": "markdown",
      "source": [
        "Теперь мы уравняли колличество данных по классам, попробуем обучить на них наши классификаторы\n"
      ],
      "metadata": {
        "id": "Vw2TcXF2KKvN"
      }
    },
    {
      "cell_type": "markdown",
      "source": [
        "KNN"
      ],
      "metadata": {
        "id": "AAHK0iX0Kll2"
      }
    },
    {
      "cell_type": "code",
      "source": [
        "X = data_balanced.drop(\"hospital_death\", axis=1)\n",
        "Y = data_balanced[\"hospital_death\"]\n",
        "X = X.to_numpy()\n",
        "\n",
        "\n",
        "X_train, X_test, Y_train, Y_test = train_test_split(X, Y, test_size=0.3, random_state=42)\n",
        "X_train.shape, X_test.shape, Y_train.shape, Y_test.shape"
      ],
      "metadata": {
        "colab": {
          "base_uri": "https://localhost:8080/"
        },
        "id": "2cP_tj3oKlJ-",
        "outputId": "6be34a47-f249-409e-ba20-eeaa424dfebc"
      },
      "execution_count": null,
      "outputs": [
        {
          "output_type": "execute_result",
          "data": {
            "text/plain": [
              "((11081, 265), (4749, 265), (11081,), (4749,))"
            ]
          },
          "metadata": {},
          "execution_count": 32
        }
      ]
    },
    {
      "cell_type": "code",
      "source": [
        "from sklearn.neighbors import KNeighborsClassifier\n",
        "\n",
        "kNN = KNeighborsClassifier(n_neighbors=9)\n",
        "kNN.fit(X_train, Y_train)\n",
        "kNN.get_params()"
      ],
      "metadata": {
        "colab": {
          "base_uri": "https://localhost:8080/"
        },
        "id": "BvX9C4U1KKQN",
        "outputId": "e2409093-b556-4ac0-e936-e60fd6df0acb"
      },
      "execution_count": null,
      "outputs": [
        {
          "output_type": "execute_result",
          "data": {
            "text/plain": [
              "{'algorithm': 'auto',\n",
              " 'leaf_size': 30,\n",
              " 'metric': 'minkowski',\n",
              " 'metric_params': None,\n",
              " 'n_jobs': None,\n",
              " 'n_neighbors': 9,\n",
              " 'p': 2,\n",
              " 'weights': 'uniform'}"
            ]
          },
          "metadata": {},
          "execution_count": 101
        }
      ]
    },
    {
      "cell_type": "code",
      "source": [
        "Y_train_prediction = kNN.predict(X_train)\n",
        "err_train = 1 - kNN.score(X_train, Y_train)\n",
        "err_train"
      ],
      "metadata": {
        "colab": {
          "base_uri": "https://localhost:8080/"
        },
        "id": "ya-xLFUULvCZ",
        "outputId": "e5a3a7c6-252e-492e-8c6b-f369b3cabfbb"
      },
      "execution_count": null,
      "outputs": [
        {
          "output_type": "execute_result",
          "data": {
            "text/plain": [
              "0.24717985741359083"
            ]
          },
          "metadata": {},
          "execution_count": 102
        }
      ]
    },
    {
      "cell_type": "code",
      "source": [
        "Y_test_prediction = kNN.predict(X_test)\n",
        "err_test = 1 - kNN.score(X_test, Y_test)\n",
        "err_test"
      ],
      "metadata": {
        "colab": {
          "base_uri": "https://localhost:8080/"
        },
        "id": "x9Zeem93L2Ro",
        "outputId": "fd7f03b2-cad6-4399-c364-7ce8bbbdd652"
      },
      "execution_count": null,
      "outputs": [
        {
          "output_type": "execute_result",
          "data": {
            "text/plain": [
              "0.32491050747525796"
            ]
          },
          "metadata": {},
          "execution_count": 107
        }
      ]
    },
    {
      "cell_type": "markdown",
      "source": [
        "Матрица для тестовых данных"
      ],
      "metadata": {
        "id": "sETI8n1qMoLX"
      }
    },
    {
      "cell_type": "code",
      "source": [
        "plot_confusion_matrix(kNN, X_test, Y_test, cmap=plt.cm.Blues)"
      ],
      "metadata": {
        "colab": {
          "base_uri": "https://localhost:8080/",
          "height": 354
        },
        "id": "JPrAw2pJL9PR",
        "outputId": "67363e4e-2e35-451a-b4f0-33f9f7bf6f15"
      },
      "execution_count": null,
      "outputs": [
        {
          "output_type": "stream",
          "name": "stderr",
          "text": [
            "/usr/local/lib/python3.8/dist-packages/sklearn/utils/deprecation.py:87: FutureWarning: Function plot_confusion_matrix is deprecated; Function `plot_confusion_matrix` is deprecated in 1.0 and will be removed in 1.2. Use one of the class methods: ConfusionMatrixDisplay.from_predictions or ConfusionMatrixDisplay.from_estimator.\n",
            "  warnings.warn(msg, category=FutureWarning)\n"
          ]
        },
        {
          "output_type": "execute_result",
          "data": {
            "text/plain": [
              "<sklearn.metrics._plot.confusion_matrix.ConfusionMatrixDisplay at 0x7f28d72c81f0>"
            ]
          },
          "metadata": {},
          "execution_count": 105
        },
        {
          "output_type": "display_data",
          "data": {
            "text/plain": [
              "<Figure size 432x288 with 2 Axes>"
            ],
            "image/png": "[encoded data removed]"
          },
          "metadata": {
            "needs_background": "light"
          }
        }
      ]
    },
    {
      "cell_type": "code",
      "source": [
        "from sklearn.metrics import classification_report\n",
        "print(classification_report(Y_test, Y_test_prediction))"
      ],
      "metadata": {
        "colab": {
          "base_uri": "https://localhost:8080/"
        },
        "id": "7YnXsj93MQCa",
        "outputId": "1fc94da6-c569-4fc5-bf11-17263d5376e2"
      },
      "execution_count": null,
      "outputs": [
        {
          "output_type": "stream",
          "name": "stdout",
          "text": [
            "              precision    recall  f1-score   support\n",
            "\n",
            "           0       0.64      0.76      0.70      2342\n",
            "           1       0.72      0.59      0.65      2407\n",
            "\n",
            "    accuracy                           0.68      4749\n",
            "   macro avg       0.68      0.68      0.67      4749\n",
            "weighted avg       0.68      0.68      0.67      4749\n",
            "\n"
          ]
        }
      ]
    },
    {
      "cell_type": "markdown",
      "source": [
        "Таким образом после борьбы с несбалансированностью точность метода ближайших соседей ожидаемо упала. Однако класс 1 стал определяться намного лучше"
      ],
      "metadata": {
        "id": "tQYfFL5XNfGr"
      }
    },
    {
      "cell_type": "markdown",
      "source": [
        "# Логистическая регрессия"
      ],
      "metadata": {
        "id": "StuDGNT9j72t"
      }
    },
    {
      "cell_type": "code",
      "source": [
        "from sklearn.linear_model import LogisticRegression\n",
        "LR = LogisticRegression(solver=\"lbfgs\", max_iter=3500)\n",
        "\n",
        "LR.fit(X_train, Y_train)"
      ],
      "metadata": {
        "colab": {
          "base_uri": "https://localhost:8080/"
        },
        "id": "_ghx_HSgj_4Z",
        "outputId": "d91bd361-2756-43bd-d350-f0e83a624c8a"
      },
      "execution_count": null,
      "outputs": [
        {
          "output_type": "stream",
          "name": "stderr",
          "text": [
            "/usr/local/lib/python3.8/dist-packages/sklearn/linear_model/_logistic.py:814: ConvergenceWarning: lbfgs failed to converge (status=1):\n",
            "STOP: TOTAL NO. of ITERATIONS REACHED LIMIT.\n",
            "\n",
            "Increase the number of iterations (max_iter) or scale the data as shown in:\n",
            "    https://scikit-learn.org/stable/modules/preprocessing.html\n",
            "Please also refer to the documentation for alternative solver options:\n",
            "    https://scikit-learn.org/stable/modules/linear_model.html#logistic-regression\n",
            "  n_iter_i = _check_optimize_result(\n"
          ]
        },
        {
          "output_type": "execute_result",
          "data": {
            "text/plain": [
              "LogisticRegression(max_iter=3500)"
            ]
          },
          "metadata": {},
          "execution_count": 46
        }
      ]
    },
    {
      "cell_type": "code",
      "source": [
        "import numpy as np\n",
        "Y_test_pred = LR.predict(X_test)\n",
        "error_train = np.mean(Y_train != LR.predict(X_train))\n",
        "error_test  = np.mean(Y_test  != LR.predict(X_test))\n",
        "\n",
        "\n",
        "print('Error on train = ', error_train)\n",
        "print('Error on test = ', error_test)\n"
      ],
      "metadata": {
        "colab": {
          "base_uri": "https://localhost:8080/"
        },
        "id": "T2QpTVvLkBLy",
        "outputId": "04286f38-7a52-4d15-ed51-8f561add0892"
      },
      "execution_count": null,
      "outputs": [
        {
          "output_type": "stream",
          "name": "stdout",
          "text": [
            "Error on train =  0.2010648858406281\n",
            "Error on test =  0.22762686881448727\n"
          ]
        }
      ]
    },
    {
      "cell_type": "code",
      "source": [
        "from sklearn.metrics import plot_confusion_matrix\n",
        "plot_confusion_matrix(LR, X_test, Y_test,cmap=plt.cm.Blues ) "
      ],
      "metadata": {
        "colab": {
          "base_uri": "https://localhost:8080/",
          "height": 354
        },
        "id": "_GK2QxL0lj4p",
        "outputId": "14617ad9-aa19-42b2-ca90-55518d5c7d09"
      },
      "execution_count": null,
      "outputs": [
        {
          "output_type": "stream",
          "name": "stderr",
          "text": [
            "/usr/local/lib/python3.8/dist-packages/sklearn/utils/deprecation.py:87: FutureWarning: Function plot_confusion_matrix is deprecated; Function `plot_confusion_matrix` is deprecated in 1.0 and will be removed in 1.2. Use one of the class methods: ConfusionMatrixDisplay.from_predictions or ConfusionMatrixDisplay.from_estimator.\n",
            "  warnings.warn(msg, category=FutureWarning)\n"
          ]
        },
        {
          "output_type": "execute_result",
          "data": {
            "text/plain": [
              "<sklearn.metrics._plot.confusion_matrix.ConfusionMatrixDisplay at 0x7fe4e64c8f70>"
            ]
          },
          "metadata": {},
          "execution_count": 53
        },
        {
          "output_type": "display_data",
          "data": {
            "text/plain": [
              "<Figure size 432x288 with 2 Axes>"
            ],
            "image/png": "[encoded data removed]"
          },
          "metadata": {
            "needs_background": "light"
          }
        }
      ]
    },
    {
      "cell_type": "code",
      "source": [
        "from sklearn.metrics import classification_report\n",
        "print(classification_report(Y_test, Y_test_pred))"
      ],
      "metadata": {
        "colab": {
          "base_uri": "https://localhost:8080/"
        },
        "id": "RSjZBN_alt8i",
        "outputId": "4c3aae21-89b0-4881-8077-194184709fa6"
      },
      "execution_count": null,
      "outputs": [
        {
          "output_type": "stream",
          "name": "stdout",
          "text": [
            "              precision    recall  f1-score   support\n",
            "\n",
            "           0       0.77      0.78      0.78      2396\n",
            "           1       0.77      0.76      0.77      2353\n",
            "\n",
            "    accuracy                           0.77      4749\n",
            "   macro avg       0.77      0.77      0.77      4749\n",
            "weighted avg       0.77      0.77      0.77      4749\n",
            "\n"
          ]
        }
      ]
    },
    {
      "cell_type": "markdown",
      "metadata": {
        "id": "FCH1yD9lcJMZ"
      },
      "source": [
        "# Обучение полносвязной нейронной сети"
      ]
    },
    {
      "cell_type": "code",
      "execution_count": null,
      "metadata": {
        "id": "w8r1oYsxccY7"
      },
      "outputs": [],
      "source": [
        "import numpy as np\n",
        "import matplotlib.pyplot as plt\n",
        "import pandas as pd\n",
        "import seaborn as sns\n",
        "%matplotlib inline"
      ]
    },
    {
      "cell_type": "markdown",
      "metadata": {
        "id": "vUNPbf39chrd"
      },
      "source": [
        "Определяем полносвязную нейронную сеть с параметрами"
      ]
    },
    {
      "cell_type": "code",
      "execution_count": null,
      "metadata": {
        "id": "_GGj1Z-Vcl5p",
        "colab": {
          "base_uri": "https://localhost:8080/",
          "height": 36
        },
        "outputId": "f72090de-f9e2-4de6-9d02-a28c63c315dc"
      },
      "outputs": [
        {
          "output_type": "execute_result",
          "data": {
            "text/plain": [
              "'adam'"
            ],
            "application/vnd.google.colaboratory.intrinsic+json": {
              "type": "string"
            }
          },
          "metadata": {},
          "execution_count": 137
        }
      ],
      "source": [
        "from sklearn.neural_network import MLPClassifier\n",
        "mlp_model = MLPClassifier(hidden_layer_sizes = (150,),\n",
        "                          activation = \"logistic\",\n",
        "                          solver = \"adam\",\n",
        "                          random_state = 42,\n",
        "                          max_iter=20)\n",
        "mlp_model.get_params()[\"solver\"]"
      ]
    },
    {
      "cell_type": "code",
      "execution_count": null,
      "metadata": {
        "id": "x66PjxcwdrlB",
        "colab": {
          "base_uri": "https://localhost:8080/"
        },
        "outputId": "161aa703-be80-47b4-8b51-19a2ab374a10"
      },
      "outputs": [
        {
          "output_type": "stream",
          "name": "stderr",
          "text": [
            "/usr/local/lib/python3.8/dist-packages/sklearn/neural_network/_multilayer_perceptron.py:692: ConvergenceWarning: Stochastic Optimizer: Maximum iterations (20) reached and the optimization hasn't converged yet.\n",
            "  warnings.warn(\n"
          ]
        },
        {
          "output_type": "execute_result",
          "data": {
            "text/plain": [
              "MLPClassifier(activation='logistic', hidden_layer_sizes=(150,), max_iter=20,\n",
              "              random_state=42)"
            ]
          },
          "metadata": {},
          "execution_count": 167
        }
      ],
      "source": [
        "mlp_model.fit(X_train, Y_train)"
      ]
    },
    {
      "cell_type": "markdown",
      "source": [
        "Оценим качество полученного результата"
      ],
      "metadata": {
        "id": "1nb3_c0lCDcs"
      }
    },
    {
      "cell_type": "code",
      "source": [
        "Y_train_pred = mlp_model.predict(X_train)\n",
        "Y_test_pred = mlp_model.predict(X_test)\n",
        "print(np.mean(Y_train != Y_train_pred), np.mean(Y_test != Y_test_pred))"
      ],
      "metadata": {
        "colab": {
          "base_uri": "https://localhost:8080/"
        },
        "id": "9CAQBO2ZCCeA",
        "outputId": "50dace7a-6832-4e5a-f750-b949223b434c"
      },
      "execution_count": null,
      "outputs": [
        {
          "output_type": "stream",
          "name": "stdout",
          "text": [
            "0.22922118942333725 0.24405137923773426\n"
          ]
        }
      ]
    },
    {
      "cell_type": "markdown",
      "source": [
        "Ошибка на тренировочных данных : 0.22922118942333725\n",
        "\n",
        "Ошибка на тестовой выборке: 0.24405137923773426"
      ],
      "metadata": {
        "id": "j7Q7qMW3EYL7"
      }
    },
    {
      "cell_type": "markdown",
      "source": [
        "Переобучения не наблюдается т.к ошибка на тестовой и на тренировочной выборках примерно одинаковая. Однако в силу высокой ошибки возмжно имеет место недообучение ввиду недостатка данных."
      ],
      "metadata": {
        "id": "6zvamGAwCl7X"
      }
    },
    {
      "cell_type": "code",
      "source": [
        "plot_confusion_matrix(mlp_model, X_train, Y_train, cmap=plt.cm.Blues)"
      ],
      "metadata": {
        "colab": {
          "base_uri": "https://localhost:8080/",
          "height": 354
        },
        "id": "uYtCvjtFJySN",
        "outputId": "28bbb04d-e570-4ece-ebe8-e9391cde69c6"
      },
      "execution_count": null,
      "outputs": [
        {
          "output_type": "stream",
          "name": "stderr",
          "text": [
            "/usr/local/lib/python3.8/dist-packages/sklearn/utils/deprecation.py:87: FutureWarning: Function plot_confusion_matrix is deprecated; Function `plot_confusion_matrix` is deprecated in 1.0 and will be removed in 1.2. Use one of the class methods: ConfusionMatrixDisplay.from_predictions or ConfusionMatrixDisplay.from_estimator.\n",
            "  warnings.warn(msg, category=FutureWarning)\n"
          ]
        },
        {
          "output_type": "execute_result",
          "data": {
            "text/plain": [
              "<sklearn.metrics._plot.confusion_matrix.ConfusionMatrixDisplay at 0x7f28d5e61160>"
            ]
          },
          "metadata": {},
          "execution_count": 169
        },
        {
          "output_type": "display_data",
          "data": {
            "text/plain": [
              "<Figure size 432x288 with 2 Axes>"
            ],
            "image/png": "[encoded data removed]"
          },
          "metadata": {
            "needs_background": "light"
          }
        }
      ]
    },
    {
      "cell_type": "code",
      "source": [
        "from sklearn.metrics import classification_report\n",
        "print(classification_report(Y_train, Y_train_pred))"
      ],
      "metadata": {
        "colab": {
          "base_uri": "https://localhost:8080/"
        },
        "id": "5y1P7LYXEovp",
        "outputId": "fe0c5154-0b59-4511-85e3-239918f30f7e"
      },
      "execution_count": null,
      "outputs": [
        {
          "output_type": "stream",
          "name": "stdout",
          "text": [
            "              precision    recall  f1-score   support\n",
            "\n",
            "           0       0.76      0.79      0.78      5573\n",
            "           1       0.78      0.75      0.76      5508\n",
            "\n",
            "    accuracy                           0.77     11081\n",
            "   macro avg       0.77      0.77      0.77     11081\n",
            "weighted avg       0.77      0.77      0.77     11081\n",
            "\n"
          ]
        }
      ]
    },
    {
      "cell_type": "code",
      "source": [
        "plot_confusion_matrix(mlp_model, X_test, Y_test, cmap=plt.cm.Blues)"
      ],
      "metadata": {
        "colab": {
          "base_uri": "https://localhost:8080/",
          "height": 354
        },
        "id": "CDuxeGSOJ4iz",
        "outputId": "90d2c6da-d368-4b40-bb44-54d5709ef302"
      },
      "execution_count": null,
      "outputs": [
        {
          "output_type": "stream",
          "name": "stderr",
          "text": [
            "/usr/local/lib/python3.8/dist-packages/sklearn/utils/deprecation.py:87: FutureWarning: Function plot_confusion_matrix is deprecated; Function `plot_confusion_matrix` is deprecated in 1.0 and will be removed in 1.2. Use one of the class methods: ConfusionMatrixDisplay.from_predictions or ConfusionMatrixDisplay.from_estimator.\n",
            "  warnings.warn(msg, category=FutureWarning)\n"
          ]
        },
        {
          "output_type": "execute_result",
          "data": {
            "text/plain": [
              "<sklearn.metrics._plot.confusion_matrix.ConfusionMatrixDisplay at 0x7f28d5c9dee0>"
            ]
          },
          "metadata": {},
          "execution_count": 171
        },
        {
          "output_type": "display_data",
          "data": {
            "text/plain": [
              "<Figure size 432x288 with 2 Axes>"
            ],
            "image/png": "[encoded data removed]"
          },
          "metadata": {
            "needs_background": "light"
          }
        }
      ]
    },
    {
      "cell_type": "code",
      "source": [
        "from sklearn.metrics import classification_report\n",
        "print(classification_report(Y_test, Y_test_pred))"
      ],
      "metadata": {
        "colab": {
          "base_uri": "https://localhost:8080/"
        },
        "id": "_GCUNzTVEV2G",
        "outputId": "43c80930-6bae-4de2-d606-0f966347634d"
      },
      "execution_count": null,
      "outputs": [
        {
          "output_type": "stream",
          "name": "stdout",
          "text": [
            "              precision    recall  f1-score   support\n",
            "\n",
            "           0       0.74      0.79      0.76      2342\n",
            "           1       0.78      0.72      0.75      2407\n",
            "\n",
            "    accuracy                           0.76      4749\n",
            "   macro avg       0.76      0.76      0.76      4749\n",
            "weighted avg       0.76      0.76      0.76      4749\n",
            "\n"
          ]
        }
      ]
    },
    {
      "cell_type": "markdown",
      "source": [
        "Теперь попробуем обучить сеть на несбалансированных данных"
      ],
      "metadata": {
        "id": "u1rDkQFiPjKp"
      }
    },
    {
      "cell_type": "code",
      "source": [
        "mlp_model.fit(x_train, y_train)"
      ],
      "metadata": {
        "colab": {
          "base_uri": "https://localhost:8080/"
        },
        "id": "7AiTWwC-PcaI",
        "outputId": "ff436d79-db34-4ab8-9c8c-60a96a372bfe"
      },
      "execution_count": null,
      "outputs": [
        {
          "output_type": "stream",
          "name": "stderr",
          "text": [
            "/usr/local/lib/python3.8/dist-packages/sklearn/utils/validation.py:1688: FutureWarning: Feature names only support names that are all strings. Got feature names with dtypes: ['int', 'str']. An error will be raised in 1.2.\n",
            "  warnings.warn(\n",
            "/usr/local/lib/python3.8/dist-packages/sklearn/neural_network/_multilayer_perceptron.py:692: ConvergenceWarning: Stochastic Optimizer: Maximum iterations (20) reached and the optimization hasn't converged yet.\n",
            "  warnings.warn(\n"
          ]
        },
        {
          "output_type": "execute_result",
          "data": {
            "text/plain": [
              "MLPClassifier(activation='logistic', hidden_layer_sizes=(150,), max_iter=20,\n",
              "              random_state=42)"
            ]
          },
          "metadata": {},
          "execution_count": 157
        }
      ]
    },
    {
      "cell_type": "markdown",
      "source": [
        "Оценим результат"
      ],
      "metadata": {
        "id": "XkZMm3sEP4-g"
      }
    },
    {
      "cell_type": "code",
      "source": [
        "y_train_pred = mlp_model.predict(x_train)\n",
        "y_test_pred = mlp_model.predict(x_test)\n",
        "print(np.mean(y_train != y_train_pred), np.mean(y_test != y_test_pred))"
      ],
      "metadata": {
        "colab": {
          "base_uri": "https://localhost:8080/"
        },
        "id": "O7QeQDyAP39-",
        "outputId": "52f397c2-a451-4364-8011-b4e2e0676b80"
      },
      "execution_count": null,
      "outputs": [
        {
          "output_type": "stream",
          "name": "stderr",
          "text": [
            "/usr/local/lib/python3.8/dist-packages/sklearn/utils/validation.py:1688: FutureWarning: Feature names only support names that are all strings. Got feature names with dtypes: ['int', 'str']. An error will be raised in 1.2.\n",
            "  warnings.warn(\n"
          ]
        },
        {
          "output_type": "stream",
          "name": "stdout",
          "text": [
            "0.05711101149731648 0.07217618839947666\n"
          ]
        },
        {
          "output_type": "stream",
          "name": "stderr",
          "text": [
            "/usr/local/lib/python3.8/dist-packages/sklearn/utils/validation.py:1688: FutureWarning: Feature names only support names that are all strings. Got feature names with dtypes: ['int', 'str']. An error will be raised in 1.2.\n",
            "  warnings.warn(\n"
          ]
        }
      ]
    },
    {
      "cell_type": "code",
      "source": [
        "plot_confusion_matrix(mlp_model, x_train, y_train, cmap=plt.cm.Blues)"
      ],
      "metadata": {
        "colab": {
          "base_uri": "https://localhost:8080/",
          "height": 390
        },
        "id": "443EUIaDQTN0",
        "outputId": "6234ee86-178e-4f7d-9962-536e19b9c478"
      },
      "execution_count": null,
      "outputs": [
        {
          "output_type": "stream",
          "name": "stderr",
          "text": [
            "/usr/local/lib/python3.8/dist-packages/sklearn/utils/deprecation.py:87: FutureWarning: Function plot_confusion_matrix is deprecated; Function `plot_confusion_matrix` is deprecated in 1.0 and will be removed in 1.2. Use one of the class methods: ConfusionMatrixDisplay.from_predictions or ConfusionMatrixDisplay.from_estimator.\n",
            "  warnings.warn(msg, category=FutureWarning)\n",
            "/usr/local/lib/python3.8/dist-packages/sklearn/utils/validation.py:1688: FutureWarning: Feature names only support names that are all strings. Got feature names with dtypes: ['int', 'str']. An error will be raised in 1.2.\n",
            "  warnings.warn(\n"
          ]
        },
        {
          "output_type": "execute_result",
          "data": {
            "text/plain": [
              "<sklearn.metrics._plot.confusion_matrix.ConfusionMatrixDisplay at 0x7f28d621cc10>"
            ]
          },
          "metadata": {},
          "execution_count": 159
        },
        {
          "output_type": "display_data",
          "data": {
            "text/plain": [
              "<Figure size 432x288 with 2 Axes>"
            ],
            "image/png": "[encoded data removed]"
          },
          "metadata": {
            "needs_background": "light"
          }
        }
      ]
    },
    {
      "cell_type": "code",
      "source": [
        "from sklearn.metrics import classification_report\n",
        "print(classification_report(y_train, y_train_pred))"
      ],
      "metadata": {
        "colab": {
          "base_uri": "https://localhost:8080/"
        },
        "id": "DPx9mugoQgZA",
        "outputId": "9c7da273-67f6-4666-f066-d76738724497"
      },
      "execution_count": null,
      "outputs": [
        {
          "output_type": "stream",
          "name": "stdout",
          "text": [
            "              precision    recall  f1-score   support\n",
            "\n",
            "           0       0.95      0.99      0.97     75383\n",
            "           1       0.82      0.43      0.57      7158\n",
            "\n",
            "    accuracy                           0.94     82541\n",
            "   macro avg       0.89      0.71      0.77     82541\n",
            "weighted avg       0.94      0.94      0.93     82541\n",
            "\n"
          ]
        }
      ]
    },
    {
      "cell_type": "code",
      "source": [
        "plot_confusion_matrix(mlp_model, x_test, y_test, cmap=plt.cm.Blues)"
      ],
      "metadata": {
        "colab": {
          "base_uri": "https://localhost:8080/",
          "height": 390
        },
        "id": "YlHF-kCcRF6p",
        "outputId": "195e7c50-2410-495d-875c-aac771e8f584"
      },
      "execution_count": null,
      "outputs": [
        {
          "output_type": "stream",
          "name": "stderr",
          "text": [
            "/usr/local/lib/python3.8/dist-packages/sklearn/utils/deprecation.py:87: FutureWarning: Function plot_confusion_matrix is deprecated; Function `plot_confusion_matrix` is deprecated in 1.0 and will be removed in 1.2. Use one of the class methods: ConfusionMatrixDisplay.from_predictions or ConfusionMatrixDisplay.from_estimator.\n",
            "  warnings.warn(msg, category=FutureWarning)\n",
            "/usr/local/lib/python3.8/dist-packages/sklearn/utils/validation.py:1688: FutureWarning: Feature names only support names that are all strings. Got feature names with dtypes: ['int', 'str']. An error will be raised in 1.2.\n",
            "  warnings.warn(\n"
          ]
        },
        {
          "output_type": "execute_result",
          "data": {
            "text/plain": [
              "<sklearn.metrics._plot.confusion_matrix.ConfusionMatrixDisplay at 0x7f28d752c6d0>"
            ]
          },
          "metadata": {},
          "execution_count": 161
        },
        {
          "output_type": "display_data",
          "data": {
            "text/plain": [
              "<Figure size 432x288 with 2 Axes>"
            ],
            "image/png": "[encoded data removed]"
          },
          "metadata": {
            "needs_background": "light"
          }
        }
      ]
    },
    {
      "cell_type": "code",
      "source": [
        "from sklearn.metrics import classification_report\n",
        "print(classification_report(y_test, y_test_pred))"
      ],
      "metadata": {
        "colab": {
          "base_uri": "https://localhost:8080/"
        },
        "id": "1Xtc2x20RLqX",
        "outputId": "3c1884c9-09e7-4276-8b26-e2532bd48f78"
      },
      "execution_count": null,
      "outputs": [
        {
          "output_type": "stream",
          "name": "stdout",
          "text": [
            "              precision    recall  f1-score   support\n",
            "\n",
            "           0       0.94      0.98      0.96      8415\n",
            "           1       0.63      0.30      0.41       757\n",
            "\n",
            "    accuracy                           0.93      9172\n",
            "   macro avg       0.79      0.64      0.69      9172\n",
            "weighted avg       0.91      0.93      0.92      9172\n",
            "\n"
          ]
        }
      ]
    },
    {
      "cell_type": "markdown",
      "source": [
        "Видим что при обучении на несбалансированных данных сеть гораздо хуже справляется с определением класса 1, однако за счёт большего объёма данных для обучения сеть выглядит более работоспособной."
      ],
      "metadata": {
        "id": "kd6KhOk-SHVr"
      }
    },
    {
      "cell_type": "markdown",
      "source": [
        "# Общие выводы"
      ],
      "metadata": {
        "id": "b0lODHtGUYP9"
      }
    },
    {
      "cell_type": "markdown",
      "source": [
        "В данной работе мы познакомились с датасетом Patient Survival Prediction. Выяснили некоторые подробности о пациентах больниц. Нашли и разрешили проблему с наличием пропущенных значений. Провели некоторую подготовку данных: векторизацию категориальных признаков и стандартизацию количественных. Успешно обучили модели kNN, RandomForest, Нейросеть и даже немного поэкспериментировали. Также рассмотрели проблему несбалансированности данных и подводные камни её решения \"в лоб\"."
      ],
      "metadata": {
        "id": "8mMm5FlGXjft"
      }
    }
  ],
  "metadata": {
    "colab": {
      "provenance": []
    },
    "kernelspec": {
      "display_name": "Python 3",
      "name": "python3"
    },
    "language_info": {
      "name": "python"
    }
  },
  "nbformat": 4,
  "nbformat_minor": 0
}