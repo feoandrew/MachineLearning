{
  "nbformat": 4,
  "nbformat_minor": 0,
  "metadata": {
    "colab": {
      "provenance": [],
      "mount_file_id": "1E93VtenPLnIrgY6MBZXf7f5TtLSiLNyD",
      "authorship_tag": "ABX9TyMoXnHki7hKBrqHLzODhTV7",
      "include_colab_link": true
    },
    "kernelspec": {
      "name": "python3",
      "display_name": "Python 3"
    },
    "language_info": {
      "name": "python"
    }
  },
  "cells": [
    {
      "cell_type": "markdown",
      "metadata": {
        "id": "view-in-github",
        "colab_type": "text"
      },
      "source": [
        "<a href=\"https://colab.research.google.com/github/feoandrew/MachineLearning/blob/main/%D0%97%D0%B0%D0%B4%D0%B0%D0%BD%D0%B8%D0%B5_09_11.ipynb\" target=\"_parent\"><img src=\"https://colab.research.google.com/assets/colab-badge.svg\" alt=\"Open In Colab\"/></a>"
      ]
    },
    {
      "cell_type": "code",
      "execution_count": 132,
      "metadata": {
        "colab": {
          "base_uri": "https://localhost:8080/"
        },
        "id": "7SnhNrSVAIOM",
        "outputId": "4846e215-9de6-49ff-b736-a53c4b685679"
      },
      "outputs": [
        {
          "output_type": "execute_result",
          "data": {
            "text/plain": [
              "(103904, 25)"
            ]
          },
          "metadata": {},
          "execution_count": 132
        }
      ],
      "source": [
        "import pandas as pd\n",
        "\n",
        "data = pd.read_csv('/content/drive/MyDrive/dataset/train.csv')\n",
        "data_test = pd.read_csv('/content/drive/MyDrive/dataset/test.csv')\n",
        "data.shape"
      ]
    },
    {
      "cell_type": "markdown",
      "source": [],
      "metadata": {
        "id": "VkVKOPnDCSKw"
      }
    },
    {
      "cell_type": "code",
      "source": [
        "data.sample(10)"
      ],
      "metadata": {
        "colab": {
          "base_uri": "https://localhost:8080/",
          "height": 638
        },
        "id": "pHSJq2L6CRiU",
        "outputId": "b4674407-ba1d-4616-cba5-d1cea045a4f5"
      },
      "execution_count": 134,
      "outputs": [
        {
          "output_type": "execute_result",
          "data": {
            "text/plain": [
              "        Unnamed: 0      id  Gender      Customer Type  Age   Type of Travel  \\\n",
              "85832        85832   25514    Male  disloyal Customer   47  Business travel   \n",
              "34986        34986    7448    Male     Loyal Customer   23  Personal Travel   \n",
              "36057        36057   11938    Male     Loyal Customer   47  Business travel   \n",
              "93575        93575   80385  Female  disloyal Customer   22  Business travel   \n",
              "63831        63831   61959  Female     Loyal Customer   64  Personal Travel   \n",
              "27609        27609  108419  Female     Loyal Customer   45  Business travel   \n",
              "93969        93969   64391    Male     Loyal Customer   56  Personal Travel   \n",
              "32643        32643   64997    Male     Loyal Customer   17  Business travel   \n",
              "38097        38097  113573    Male     Loyal Customer   66  Business travel   \n",
              "103793      103793  118871  Female     Loyal Customer   47  Business travel   \n",
              "\n",
              "           Class  Flight Distance  Inflight wifi service  \\\n",
              "85832        Eco              116                      1   \n",
              "34986        Eco              522                      3   \n",
              "36057        Eco              781                      2   \n",
              "93575        Eco              368                      4   \n",
              "63831        Eco             2161                      4   \n",
              "27609   Business             1444                      4   \n",
              "93969        Eco             1172                      2   \n",
              "32643   Business             1566                      2   \n",
              "38097   Business             2951                      4   \n",
              "103793  Business             1551                      1   \n",
              "\n",
              "        Departure/Arrival time convenient  ...  Inflight entertainment  \\\n",
              "85832                                   0  ...                       5   \n",
              "34986                                   5  ...                       5   \n",
              "36057                                   5  ...                       1   \n",
              "93575                                   5  ...                       4   \n",
              "63831                                   5  ...                       5   \n",
              "27609                                   4  ...                       4   \n",
              "93969                                   1  ...                       5   \n",
              "32643                                   2  ...                       5   \n",
              "38097                                   2  ...                       5   \n",
              "103793                                  1  ...                       4   \n",
              "\n",
              "        On-board service  Leg room service  Baggage handling  Checkin service  \\\n",
              "85832                  3                 2                 3                4   \n",
              "34986                  5                 3                 4                5   \n",
              "36057                  4                 1                 3                4   \n",
              "93575                  4                 1                 3                3   \n",
              "63831                  5                 4                 5                4   \n",
              "27609                  4                 5                 4                5   \n",
              "93969                  3                 5                 3                4   \n",
              "32643                  5                 5                 4                3   \n",
              "38097                  5                 5                 5                4   \n",
              "103793                 4                 4                 4                5   \n",
              "\n",
              "        Inflight service  Cleanliness  Departure Delay in Minutes  \\\n",
              "85832                  5            5                           0   \n",
              "34986                  4            5                           0   \n",
              "36057                  3            1                          38   \n",
              "93575                  5            4                           0   \n",
              "63831                  5            5                          16   \n",
              "27609                  4            4                           0   \n",
              "93969                  4            5                          30   \n",
              "32643                  2            5                          15   \n",
              "38097                  5            3                           0   \n",
              "103793                 4            3                          22   \n",
              "\n",
              "        Arrival Delay in Minutes             satisfaction  \n",
              "85832                        0.0  neutral or dissatisfied  \n",
              "34986                        0.0  neutral or dissatisfied  \n",
              "36057                       27.0  neutral or dissatisfied  \n",
              "93575                        0.0  neutral or dissatisfied  \n",
              "63831                       45.0                satisfied  \n",
              "27609                        0.0                satisfied  \n",
              "93969                       23.0  neutral or dissatisfied  \n",
              "32643                        7.0                satisfied  \n",
              "38097                        0.0                satisfied  \n",
              "103793                      25.0                satisfied  \n",
              "\n",
              "[10 rows x 25 columns]"
            ],
            "text/html": [
              "\n",
              "  <div id=\"df-d7372781-f6e5-4d86-b61c-7cd29f2d9367\" class=\"colab-df-container\">\n",
              "    <div>\n",
              "<style scoped>\n",
              "    .dataframe tbody tr th:only-of-type {\n",
              "        vertical-align: middle;\n",
              "    }\n",
              "\n",
              "    .dataframe tbody tr th {\n",
              "        vertical-align: top;\n",
              "    }\n",
              "\n",
              "    .dataframe thead th {\n",
              "        text-align: right;\n",
              "    }\n",
              "</style>\n",
              "<table border=\"1\" class=\"dataframe\">\n",
              "  <thead>\n",
              "    <tr style=\"text-align: right;\">\n",
              "      <th></th>\n",
              "      <th>Unnamed: 0</th>\n",
              "      <th>id</th>\n",
              "      <th>Gender</th>\n",
              "      <th>Customer Type</th>\n",
              "      <th>Age</th>\n",
              "      <th>Type of Travel</th>\n",
              "      <th>Class</th>\n",
              "      <th>Flight Distance</th>\n",
              "      <th>Inflight wifi service</th>\n",
              "      <th>Departure/Arrival time convenient</th>\n",
              "      <th>...</th>\n",
              "      <th>Inflight entertainment</th>\n",
              "      <th>On-board service</th>\n",
              "      <th>Leg room service</th>\n",
              "      <th>Baggage handling</th>\n",
              "      <th>Checkin service</th>\n",
              "      <th>Inflight service</th>\n",
              "      <th>Cleanliness</th>\n",
              "      <th>Departure Delay in Minutes</th>\n",
              "      <th>Arrival Delay in Minutes</th>\n",
              "      <th>satisfaction</th>\n",
              "    </tr>\n",
              "  </thead>\n",
              "  <tbody>\n",
              "    <tr>\n",
              "      <th>85832</th>\n",
              "      <td>85832</td>\n",
              "      <td>25514</td>\n",
              "      <td>Male</td>\n",
              "      <td>disloyal Customer</td>\n",
              "      <td>47</td>\n",
              "      <td>Business travel</td>\n",
              "      <td>Eco</td>\n",
              "      <td>116</td>\n",
              "      <td>1</td>\n",
              "      <td>0</td>\n",
              "      <td>...</td>\n",
              "      <td>5</td>\n",
              "      <td>3</td>\n",
              "      <td>2</td>\n",
              "      <td>3</td>\n",
              "      <td>4</td>\n",
              "      <td>5</td>\n",
              "      <td>5</td>\n",
              "      <td>0</td>\n",
              "      <td>0.0</td>\n",
              "      <td>neutral or dissatisfied</td>\n",
              "    </tr>\n",
              "    <tr>\n",
              "      <th>34986</th>\n",
              "      <td>34986</td>\n",
              "      <td>7448</td>\n",
              "      <td>Male</td>\n",
              "      <td>Loyal Customer</td>\n",
              "      <td>23</td>\n",
              "      <td>Personal Travel</td>\n",
              "      <td>Eco</td>\n",
              "      <td>522</td>\n",
              "      <td>3</td>\n",
              "      <td>5</td>\n",
              "      <td>...</td>\n",
              "      <td>5</td>\n",
              "      <td>5</td>\n",
              "      <td>3</td>\n",
              "      <td>4</td>\n",
              "      <td>5</td>\n",
              "      <td>4</td>\n",
              "      <td>5</td>\n",
              "      <td>0</td>\n",
              "      <td>0.0</td>\n",
              "      <td>neutral or dissatisfied</td>\n",
              "    </tr>\n",
              "    <tr>\n",
              "      <th>36057</th>\n",
              "      <td>36057</td>\n",
              "      <td>11938</td>\n",
              "      <td>Male</td>\n",
              "      <td>Loyal Customer</td>\n",
              "      <td>47</td>\n",
              "      <td>Business travel</td>\n",
              "      <td>Eco</td>\n",
              "      <td>781</td>\n",
              "      <td>2</td>\n",
              "      <td>5</td>\n",
              "      <td>...</td>\n",
              "      <td>1</td>\n",
              "      <td>4</td>\n",
              "      <td>1</td>\n",
              "      <td>3</td>\n",
              "      <td>4</td>\n",
              "      <td>3</td>\n",
              "      <td>1</td>\n",
              "      <td>38</td>\n",
              "      <td>27.0</td>\n",
              "      <td>neutral or dissatisfied</td>\n",
              "    </tr>\n",
              "    <tr>\n",
              "      <th>93575</th>\n",
              "      <td>93575</td>\n",
              "      <td>80385</td>\n",
              "      <td>Female</td>\n",
              "      <td>disloyal Customer</td>\n",
              "      <td>22</td>\n",
              "      <td>Business travel</td>\n",
              "      <td>Eco</td>\n",
              "      <td>368</td>\n",
              "      <td>4</td>\n",
              "      <td>5</td>\n",
              "      <td>...</td>\n",
              "      <td>4</td>\n",
              "      <td>4</td>\n",
              "      <td>1</td>\n",
              "      <td>3</td>\n",
              "      <td>3</td>\n",
              "      <td>5</td>\n",
              "      <td>4</td>\n",
              "      <td>0</td>\n",
              "      <td>0.0</td>\n",
              "      <td>neutral or dissatisfied</td>\n",
              "    </tr>\n",
              "    <tr>\n",
              "      <th>63831</th>\n",
              "      <td>63831</td>\n",
              "      <td>61959</td>\n",
              "      <td>Female</td>\n",
              "      <td>Loyal Customer</td>\n",
              "      <td>64</td>\n",
              "      <td>Personal Travel</td>\n",
              "      <td>Eco</td>\n",
              "      <td>2161</td>\n",
              "      <td>4</td>\n",
              "      <td>5</td>\n",
              "      <td>...</td>\n",
              "      <td>5</td>\n",
              "      <td>5</td>\n",
              "      <td>4</td>\n",
              "      <td>5</td>\n",
              "      <td>4</td>\n",
              "      <td>5</td>\n",
              "      <td>5</td>\n",
              "      <td>16</td>\n",
              "      <td>45.0</td>\n",
              "      <td>satisfied</td>\n",
              "    </tr>\n",
              "    <tr>\n",
              "      <th>27609</th>\n",
              "      <td>27609</td>\n",
              "      <td>108419</td>\n",
              "      <td>Female</td>\n",
              "      <td>Loyal Customer</td>\n",
              "      <td>45</td>\n",
              "      <td>Business travel</td>\n",
              "      <td>Business</td>\n",
              "      <td>1444</td>\n",
              "      <td>4</td>\n",
              "      <td>4</td>\n",
              "      <td>...</td>\n",
              "      <td>4</td>\n",
              "      <td>4</td>\n",
              "      <td>5</td>\n",
              "      <td>4</td>\n",
              "      <td>5</td>\n",
              "      <td>4</td>\n",
              "      <td>4</td>\n",
              "      <td>0</td>\n",
              "      <td>0.0</td>\n",
              "      <td>satisfied</td>\n",
              "    </tr>\n",
              "    <tr>\n",
              "      <th>93969</th>\n",
              "      <td>93969</td>\n",
              "      <td>64391</td>\n",
              "      <td>Male</td>\n",
              "      <td>Loyal Customer</td>\n",
              "      <td>56</td>\n",
              "      <td>Personal Travel</td>\n",
              "      <td>Eco</td>\n",
              "      <td>1172</td>\n",
              "      <td>2</td>\n",
              "      <td>1</td>\n",
              "      <td>...</td>\n",
              "      <td>5</td>\n",
              "      <td>3</td>\n",
              "      <td>5</td>\n",
              "      <td>3</td>\n",
              "      <td>4</td>\n",
              "      <td>4</td>\n",
              "      <td>5</td>\n",
              "      <td>30</td>\n",
              "      <td>23.0</td>\n",
              "      <td>neutral or dissatisfied</td>\n",
              "    </tr>\n",
              "    <tr>\n",
              "      <th>32643</th>\n",
              "      <td>32643</td>\n",
              "      <td>64997</td>\n",
              "      <td>Male</td>\n",
              "      <td>Loyal Customer</td>\n",
              "      <td>17</td>\n",
              "      <td>Business travel</td>\n",
              "      <td>Business</td>\n",
              "      <td>1566</td>\n",
              "      <td>2</td>\n",
              "      <td>2</td>\n",
              "      <td>...</td>\n",
              "      <td>5</td>\n",
              "      <td>5</td>\n",
              "      <td>5</td>\n",
              "      <td>4</td>\n",
              "      <td>3</td>\n",
              "      <td>2</td>\n",
              "      <td>5</td>\n",
              "      <td>15</td>\n",
              "      <td>7.0</td>\n",
              "      <td>satisfied</td>\n",
              "    </tr>\n",
              "    <tr>\n",
              "      <th>38097</th>\n",
              "      <td>38097</td>\n",
              "      <td>113573</td>\n",
              "      <td>Male</td>\n",
              "      <td>Loyal Customer</td>\n",
              "      <td>66</td>\n",
              "      <td>Business travel</td>\n",
              "      <td>Business</td>\n",
              "      <td>2951</td>\n",
              "      <td>4</td>\n",
              "      <td>2</td>\n",
              "      <td>...</td>\n",
              "      <td>5</td>\n",
              "      <td>5</td>\n",
              "      <td>5</td>\n",
              "      <td>5</td>\n",
              "      <td>4</td>\n",
              "      <td>5</td>\n",
              "      <td>3</td>\n",
              "      <td>0</td>\n",
              "      <td>0.0</td>\n",
              "      <td>satisfied</td>\n",
              "    </tr>\n",
              "    <tr>\n",
              "      <th>103793</th>\n",
              "      <td>103793</td>\n",
              "      <td>118871</td>\n",
              "      <td>Female</td>\n",
              "      <td>Loyal Customer</td>\n",
              "      <td>47</td>\n",
              "      <td>Business travel</td>\n",
              "      <td>Business</td>\n",
              "      <td>1551</td>\n",
              "      <td>1</td>\n",
              "      <td>1</td>\n",
              "      <td>...</td>\n",
              "      <td>4</td>\n",
              "      <td>4</td>\n",
              "      <td>4</td>\n",
              "      <td>4</td>\n",
              "      <td>5</td>\n",
              "      <td>4</td>\n",
              "      <td>3</td>\n",
              "      <td>22</td>\n",
              "      <td>25.0</td>\n",
              "      <td>satisfied</td>\n",
              "    </tr>\n",
              "  </tbody>\n",
              "</table>\n",
              "<p>10 rows × 25 columns</p>\n",
              "</div>\n",
              "    <div class=\"colab-df-buttons\">\n",
              "\n",
              "  <div class=\"colab-df-container\">\n",
              "    <button class=\"colab-df-convert\" onclick=\"convertToInteractive('df-d7372781-f6e5-4d86-b61c-7cd29f2d9367')\"\n",
              "            title=\"Convert this dataframe to an interactive table.\"\n",
              "            style=\"display:none;\">\n",
              "\n",
              "  <svg xmlns=\"http://www.w3.org/2000/svg\" height=\"24px\" viewBox=\"0 -960 960 960\">\n",
              "    <path d=\"M120-120v-720h720v720H120Zm60-500h600v-160H180v160Zm220 220h160v-160H400v160Zm0 220h160v-160H400v160ZM180-400h160v-160H180v160Zm440 0h160v-160H620v160ZM180-180h160v-160H180v160Zm440 0h160v-160H620v160Z\"/>\n",
              "  </svg>\n",
              "    </button>\n",
              "\n",
              "  <style>\n",
              "    .colab-df-container {\n",
              "      display:flex;\n",
              "      gap: 12px;\n",
              "    }\n",
              "\n",
              "    .colab-df-convert {\n",
              "      background-color: #E8F0FE;\n",
              "      border: none;\n",
              "      border-radius: 50%;\n",
              "      cursor: pointer;\n",
              "      display: none;\n",
              "      fill: #1967D2;\n",
              "      height: 32px;\n",
              "      padding: 0 0 0 0;\n",
              "      width: 32px;\n",
              "    }\n",
              "\n",
              "    .colab-df-convert:hover {\n",
              "      background-color: #E2EBFA;\n",
              "      box-shadow: 0px 1px 2px rgba(60, 64, 67, 0.3), 0px 1px 3px 1px rgba(60, 64, 67, 0.15);\n",
              "      fill: #174EA6;\n",
              "    }\n",
              "\n",
              "    .colab-df-buttons div {\n",
              "      margin-bottom: 4px;\n",
              "    }\n",
              "\n",
              "    [theme=dark] .colab-df-convert {\n",
              "      background-color: #3B4455;\n",
              "      fill: #D2E3FC;\n",
              "    }\n",
              "\n",
              "    [theme=dark] .colab-df-convert:hover {\n",
              "      background-color: #434B5C;\n",
              "      box-shadow: 0px 1px 3px 1px rgba(0, 0, 0, 0.15);\n",
              "      filter: drop-shadow(0px 1px 2px rgba(0, 0, 0, 0.3));\n",
              "      fill: #FFFFFF;\n",
              "    }\n",
              "  </style>\n",
              "\n",
              "    <script>\n",
              "      const buttonEl =\n",
              "        document.querySelector('#df-d7372781-f6e5-4d86-b61c-7cd29f2d9367 button.colab-df-convert');\n",
              "      buttonEl.style.display =\n",
              "        google.colab.kernel.accessAllowed ? 'block' : 'none';\n",
              "\n",
              "      async function convertToInteractive(key) {\n",
              "        const element = document.querySelector('#df-d7372781-f6e5-4d86-b61c-7cd29f2d9367');\n",
              "        const dataTable =\n",
              "          await google.colab.kernel.invokeFunction('convertToInteractive',\n",
              "                                                    [key], {});\n",
              "        if (!dataTable) return;\n",
              "\n",
              "        const docLinkHtml = 'Like what you see? Visit the ' +\n",
              "          '<a target=\"_blank\" href=https://colab.research.google.com/notebooks/data_table.ipynb>data table notebook</a>'\n",
              "          + ' to learn more about interactive tables.';\n",
              "        element.innerHTML = '';\n",
              "        dataTable['output_type'] = 'display_data';\n",
              "        await google.colab.output.renderOutput(dataTable, element);\n",
              "        const docLink = document.createElement('div');\n",
              "        docLink.innerHTML = docLinkHtml;\n",
              "        element.appendChild(docLink);\n",
              "      }\n",
              "    </script>\n",
              "  </div>\n",
              "\n",
              "\n",
              "<div id=\"df-dd07daac-1169-42ca-8a58-d7cae9be2b20\">\n",
              "  <button class=\"colab-df-quickchart\" onclick=\"quickchart('df-dd07daac-1169-42ca-8a58-d7cae9be2b20')\"\n",
              "            title=\"Suggest charts\"\n",
              "            style=\"display:none;\">\n",
              "\n",
              "<svg xmlns=\"http://www.w3.org/2000/svg\" height=\"24px\"viewBox=\"0 0 24 24\"\n",
              "     width=\"24px\">\n",
              "    <g>\n",
              "        <path d=\"M19 3H5c-1.1 0-2 .9-2 2v14c0 1.1.9 2 2 2h14c1.1 0 2-.9 2-2V5c0-1.1-.9-2-2-2zM9 17H7v-7h2v7zm4 0h-2V7h2v10zm4 0h-2v-4h2v4z\"/>\n",
              "    </g>\n",
              "</svg>\n",
              "  </button>\n",
              "\n",
              "<style>\n",
              "  .colab-df-quickchart {\n",
              "      --bg-color: #E8F0FE;\n",
              "      --fill-color: #1967D2;\n",
              "      --hover-bg-color: #E2EBFA;\n",
              "      --hover-fill-color: #174EA6;\n",
              "      --disabled-fill-color: #AAA;\n",
              "      --disabled-bg-color: #DDD;\n",
              "  }\n",
              "\n",
              "  [theme=dark] .colab-df-quickchart {\n",
              "      --bg-color: #3B4455;\n",
              "      --fill-color: #D2E3FC;\n",
              "      --hover-bg-color: #434B5C;\n",
              "      --hover-fill-color: #FFFFFF;\n",
              "      --disabled-bg-color: #3B4455;\n",
              "      --disabled-fill-color: #666;\n",
              "  }\n",
              "\n",
              "  .colab-df-quickchart {\n",
              "    background-color: var(--bg-color);\n",
              "    border: none;\n",
              "    border-radius: 50%;\n",
              "    cursor: pointer;\n",
              "    display: none;\n",
              "    fill: var(--fill-color);\n",
              "    height: 32px;\n",
              "    padding: 0;\n",
              "    width: 32px;\n",
              "  }\n",
              "\n",
              "  .colab-df-quickchart:hover {\n",
              "    background-color: var(--hover-bg-color);\n",
              "    box-shadow: 0 1px 2px rgba(60, 64, 67, 0.3), 0 1px 3px 1px rgba(60, 64, 67, 0.15);\n",
              "    fill: var(--button-hover-fill-color);\n",
              "  }\n",
              "\n",
              "  .colab-df-quickchart-complete:disabled,\n",
              "  .colab-df-quickchart-complete:disabled:hover {\n",
              "    background-color: var(--disabled-bg-color);\n",
              "    fill: var(--disabled-fill-color);\n",
              "    box-shadow: none;\n",
              "  }\n",
              "\n",
              "  .colab-df-spinner {\n",
              "    border: 2px solid var(--fill-color);\n",
              "    border-color: transparent;\n",
              "    border-bottom-color: var(--fill-color);\n",
              "    animation:\n",
              "      spin 1s steps(1) infinite;\n",
              "  }\n",
              "\n",
              "  @keyframes spin {\n",
              "    0% {\n",
              "      border-color: transparent;\n",
              "      border-bottom-color: var(--fill-color);\n",
              "      border-left-color: var(--fill-color);\n",
              "    }\n",
              "    20% {\n",
              "      border-color: transparent;\n",
              "      border-left-color: var(--fill-color);\n",
              "      border-top-color: var(--fill-color);\n",
              "    }\n",
              "    30% {\n",
              "      border-color: transparent;\n",
              "      border-left-color: var(--fill-color);\n",
              "      border-top-color: var(--fill-color);\n",
              "      border-right-color: var(--fill-color);\n",
              "    }\n",
              "    40% {\n",
              "      border-color: transparent;\n",
              "      border-right-color: var(--fill-color);\n",
              "      border-top-color: var(--fill-color);\n",
              "    }\n",
              "    60% {\n",
              "      border-color: transparent;\n",
              "      border-right-color: var(--fill-color);\n",
              "    }\n",
              "    80% {\n",
              "      border-color: transparent;\n",
              "      border-right-color: var(--fill-color);\n",
              "      border-bottom-color: var(--fill-color);\n",
              "    }\n",
              "    90% {\n",
              "      border-color: transparent;\n",
              "      border-bottom-color: var(--fill-color);\n",
              "    }\n",
              "  }\n",
              "</style>\n",
              "\n",
              "  <script>\n",
              "    async function quickchart(key) {\n",
              "      const quickchartButtonEl =\n",
              "        document.querySelector('#' + key + ' button');\n",
              "      quickchartButtonEl.disabled = true;  // To prevent multiple clicks.\n",
              "      quickchartButtonEl.classList.add('colab-df-spinner');\n",
              "      try {\n",
              "        const charts = await google.colab.kernel.invokeFunction(\n",
              "            'suggestCharts', [key], {});\n",
              "      } catch (error) {\n",
              "        console.error('Error during call to suggestCharts:', error);\n",
              "      }\n",
              "      quickchartButtonEl.classList.remove('colab-df-spinner');\n",
              "      quickchartButtonEl.classList.add('colab-df-quickchart-complete');\n",
              "    }\n",
              "    (() => {\n",
              "      let quickchartButtonEl =\n",
              "        document.querySelector('#df-dd07daac-1169-42ca-8a58-d7cae9be2b20 button');\n",
              "      quickchartButtonEl.style.display =\n",
              "        google.colab.kernel.accessAllowed ? 'block' : 'none';\n",
              "    })();\n",
              "  </script>\n",
              "</div>\n",
              "    </div>\n",
              "  </div>\n"
            ]
          },
          "metadata": {},
          "execution_count": 134
        }
      ]
    },
    {
      "cell_type": "markdown",
      "source": [],
      "metadata": {
        "id": "MyAx4n6RG_BH"
      }
    },
    {
      "cell_type": "code",
      "source": [
        "data.info()"
      ],
      "metadata": {
        "colab": {
          "base_uri": "https://localhost:8080/"
        },
        "id": "B-Bb5h_jG-Sx",
        "outputId": "2e28dcb2-2a5d-48f8-f4e9-5c0857a957c3"
      },
      "execution_count": 135,
      "outputs": [
        {
          "output_type": "stream",
          "name": "stdout",
          "text": [
            "<class 'pandas.core.frame.DataFrame'>\n",
            "RangeIndex: 103904 entries, 0 to 103903\n",
            "Data columns (total 25 columns):\n",
            " #   Column                             Non-Null Count   Dtype  \n",
            "---  ------                             --------------   -----  \n",
            " 0   Unnamed: 0                         103904 non-null  int64  \n",
            " 1   id                                 103904 non-null  int64  \n",
            " 2   Gender                             103904 non-null  object \n",
            " 3   Customer Type                      103904 non-null  object \n",
            " 4   Age                                103904 non-null  int64  \n",
            " 5   Type of Travel                     103904 non-null  object \n",
            " 6   Class                              103904 non-null  object \n",
            " 7   Flight Distance                    103904 non-null  int64  \n",
            " 8   Inflight wifi service              103904 non-null  int64  \n",
            " 9   Departure/Arrival time convenient  103904 non-null  int64  \n",
            " 10  Ease of Online booking             103904 non-null  int64  \n",
            " 11  Gate location                      103904 non-null  int64  \n",
            " 12  Food and drink                     103904 non-null  int64  \n",
            " 13  Online boarding                    103904 non-null  int64  \n",
            " 14  Seat comfort                       103904 non-null  int64  \n",
            " 15  Inflight entertainment             103904 non-null  int64  \n",
            " 16  On-board service                   103904 non-null  int64  \n",
            " 17  Leg room service                   103904 non-null  int64  \n",
            " 18  Baggage handling                   103904 non-null  int64  \n",
            " 19  Checkin service                    103904 non-null  int64  \n",
            " 20  Inflight service                   103904 non-null  int64  \n",
            " 21  Cleanliness                        103904 non-null  int64  \n",
            " 22  Departure Delay in Minutes         103904 non-null  int64  \n",
            " 23  Arrival Delay in Minutes           103594 non-null  float64\n",
            " 24  satisfaction                       103904 non-null  object \n",
            "dtypes: float64(1), int64(19), object(5)\n",
            "memory usage: 19.8+ MB\n"
          ]
        }
      ]
    },
    {
      "cell_type": "markdown",
      "source": [
        "По полученному описанию можно определить наличие пропущенных значений. Категориальные признаки Gender, Customer Type, Type of Travel, Class,  satisfaction остальные признаки числовые либо даты."
      ],
      "metadata": {
        "id": "gRhqDP0IG-lu"
      }
    },
    {
      "cell_type": "code",
      "source": [
        "data.Gender = data.Gender.astype('category')\n",
        "data_test.Gender = data_test.Gender.astype('category')\n",
        "data.Gender.dtype"
      ],
      "metadata": {
        "colab": {
          "base_uri": "https://localhost:8080/"
        },
        "id": "dv7yr7fGo5GZ",
        "outputId": "c7532e17-a325-4ad5-bafa-b6fdf379e2e8"
      },
      "execution_count": 136,
      "outputs": [
        {
          "output_type": "execute_result",
          "data": {
            "text/plain": [
              "CategoricalDtype(categories=['Female', 'Male'], ordered=False)"
            ]
          },
          "metadata": {},
          "execution_count": 136
        }
      ]
    },
    {
      "cell_type": "code",
      "source": [
        " data['Customer Type']=data['Customer Type'].astype('category')\n",
        " data_test['Customer Type'] = data_test['Customer Type'].astype('category')\n",
        " data['Customer Type'].dtype"
      ],
      "metadata": {
        "colab": {
          "base_uri": "https://localhost:8080/"
        },
        "id": "q7V1Z9quq26B",
        "outputId": "d91e63d6-9ef0-478d-c332-af36e2448be2"
      },
      "execution_count": 137,
      "outputs": [
        {
          "output_type": "execute_result",
          "data": {
            "text/plain": [
              "CategoricalDtype(categories=['Loyal Customer', 'disloyal Customer'], ordered=False)"
            ]
          },
          "metadata": {},
          "execution_count": 137
        }
      ]
    },
    {
      "cell_type": "code",
      "source": [
        " data['Type of Travel']=data['Type of Travel'].astype('category')\n",
        " data_test['Type of Travel']=data_test['Type of Travel'].astype('category')\n",
        " data['Type of Travel'].dtype"
      ],
      "metadata": {
        "colab": {
          "base_uri": "https://localhost:8080/"
        },
        "id": "ao0Y-ChbuEVO",
        "outputId": "9e65c23a-4afe-4b33-d7c9-95fa5c81f54e"
      },
      "execution_count": 138,
      "outputs": [
        {
          "output_type": "execute_result",
          "data": {
            "text/plain": [
              "CategoricalDtype(categories=['Business travel', 'Personal Travel'], ordered=False)"
            ]
          },
          "metadata": {},
          "execution_count": 138
        }
      ]
    },
    {
      "cell_type": "code",
      "source": [
        "data.Class = data.Class.astype('category')\n",
        "data_test.Class = data_test.Class.astype('category')\n",
        "data.Class.dtype"
      ],
      "metadata": {
        "colab": {
          "base_uri": "https://localhost:8080/"
        },
        "id": "FoGIk5vwvIui",
        "outputId": "17a7e31c-d1f1-4a46-c644-ee2b8d39d2f6"
      },
      "execution_count": 139,
      "outputs": [
        {
          "output_type": "execute_result",
          "data": {
            "text/plain": [
              "CategoricalDtype(categories=['Business', 'Eco', 'Eco Plus'], ordered=False)"
            ]
          },
          "metadata": {},
          "execution_count": 139
        }
      ]
    },
    {
      "cell_type": "code",
      "source": [
        "data.satisfaction = data.satisfaction.astype('category')\n",
        "data_test.satisfaction = data_test.satisfaction.astype('category')\n",
        "data.satisfaction.dtype"
      ],
      "metadata": {
        "colab": {
          "base_uri": "https://localhost:8080/"
        },
        "id": "9ooQjUfRv7tZ",
        "outputId": "03a7fb78-177e-4116-de4f-6d1b071f8ea2"
      },
      "execution_count": 140,
      "outputs": [
        {
          "output_type": "execute_result",
          "data": {
            "text/plain": [
              "CategoricalDtype(categories=['neutral or dissatisfied', 'satisfied'], ordered=False)"
            ]
          },
          "metadata": {},
          "execution_count": 140
        }
      ]
    },
    {
      "cell_type": "markdown",
      "source": [
        "Удаляем ненужные колонки"
      ],
      "metadata": {
        "id": "gwEZUQZWwvgu"
      }
    },
    {
      "cell_type": "code",
      "source": [
        "data.drop(['Unnamed: 0'], axis=1, inplace=True)\n",
        "data.drop(['id'], axis=1, inplace=True)\n",
        "\n",
        "data_test.drop(['Unnamed: 0'], axis=1, inplace=True)\n",
        "data_test.drop(['id'], axis=1, inplace=True)\n"
      ],
      "metadata": {
        "id": "Di_t3SR0wzW3"
      },
      "execution_count": 141,
      "outputs": []
    },
    {
      "cell_type": "code",
      "source": [
        "data.info()"
      ],
      "metadata": {
        "colab": {
          "base_uri": "https://localhost:8080/"
        },
        "id": "LZWyXdR7xDo1",
        "outputId": "4496bd0a-05c0-49d2-cccd-cc8b7962cf2d"
      },
      "execution_count": 142,
      "outputs": [
        {
          "output_type": "stream",
          "name": "stdout",
          "text": [
            "<class 'pandas.core.frame.DataFrame'>\n",
            "RangeIndex: 103904 entries, 0 to 103903\n",
            "Data columns (total 23 columns):\n",
            " #   Column                             Non-Null Count   Dtype   \n",
            "---  ------                             --------------   -----   \n",
            " 0   Gender                             103904 non-null  category\n",
            " 1   Customer Type                      103904 non-null  category\n",
            " 2   Age                                103904 non-null  int64   \n",
            " 3   Type of Travel                     103904 non-null  category\n",
            " 4   Class                              103904 non-null  category\n",
            " 5   Flight Distance                    103904 non-null  int64   \n",
            " 6   Inflight wifi service              103904 non-null  int64   \n",
            " 7   Departure/Arrival time convenient  103904 non-null  int64   \n",
            " 8   Ease of Online booking             103904 non-null  int64   \n",
            " 9   Gate location                      103904 non-null  int64   \n",
            " 10  Food and drink                     103904 non-null  int64   \n",
            " 11  Online boarding                    103904 non-null  int64   \n",
            " 12  Seat comfort                       103904 non-null  int64   \n",
            " 13  Inflight entertainment             103904 non-null  int64   \n",
            " 14  On-board service                   103904 non-null  int64   \n",
            " 15  Leg room service                   103904 non-null  int64   \n",
            " 16  Baggage handling                   103904 non-null  int64   \n",
            " 17  Checkin service                    103904 non-null  int64   \n",
            " 18  Inflight service                   103904 non-null  int64   \n",
            " 19  Cleanliness                        103904 non-null  int64   \n",
            " 20  Departure Delay in Minutes         103904 non-null  int64   \n",
            " 21  Arrival Delay in Minutes           103594 non-null  float64 \n",
            " 22  satisfaction                       103904 non-null  category\n",
            "dtypes: category(5), float64(1), int64(17)\n",
            "memory usage: 14.8 MB\n"
          ]
        }
      ]
    },
    {
      "cell_type": "markdown",
      "source": [
        "# Визуализация и основные характеристики"
      ],
      "metadata": {
        "id": "kIWXp4tTxN7y"
      }
    },
    {
      "cell_type": "markdown",
      "source": [
        "Математическое описание для каждого числового столбца"
      ],
      "metadata": {
        "id": "lqhM4OFTxpii"
      }
    },
    {
      "cell_type": "code",
      "source": [
        "data.describe()"
      ],
      "metadata": {
        "colab": {
          "base_uri": "https://localhost:8080/",
          "height": 355
        },
        "id": "q9kcJZcXxTuD",
        "outputId": "780be7c2-2821-4f8d-b049-b177ca892181"
      },
      "execution_count": 143,
      "outputs": [
        {
          "output_type": "execute_result",
          "data": {
            "text/plain": [
              "                 Age  Flight Distance  Inflight wifi service  \\\n",
              "count  103904.000000    103904.000000          103904.000000   \n",
              "mean       39.379706      1189.448375               2.729683   \n",
              "std        15.114964       997.147281               1.327829   \n",
              "min         7.000000        31.000000               0.000000   \n",
              "25%        27.000000       414.000000               2.000000   \n",
              "50%        40.000000       843.000000               3.000000   \n",
              "75%        51.000000      1743.000000               4.000000   \n",
              "max        85.000000      4983.000000               5.000000   \n",
              "\n",
              "       Departure/Arrival time convenient  Ease of Online booking  \\\n",
              "count                      103904.000000           103904.000000   \n",
              "mean                            3.060296                2.756901   \n",
              "std                             1.525075                1.398929   \n",
              "min                             0.000000                0.000000   \n",
              "25%                             2.000000                2.000000   \n",
              "50%                             3.000000                3.000000   \n",
              "75%                             4.000000                4.000000   \n",
              "max                             5.000000                5.000000   \n",
              "\n",
              "       Gate location  Food and drink  Online boarding   Seat comfort  \\\n",
              "count  103904.000000   103904.000000    103904.000000  103904.000000   \n",
              "mean        2.976883        3.202129         3.250375       3.439396   \n",
              "std         1.277621        1.329533         1.349509       1.319088   \n",
              "min         0.000000        0.000000         0.000000       0.000000   \n",
              "25%         2.000000        2.000000         2.000000       2.000000   \n",
              "50%         3.000000        3.000000         3.000000       4.000000   \n",
              "75%         4.000000        4.000000         4.000000       5.000000   \n",
              "max         5.000000        5.000000         5.000000       5.000000   \n",
              "\n",
              "       Inflight entertainment  On-board service  Leg room service  \\\n",
              "count           103904.000000     103904.000000     103904.000000   \n",
              "mean                 3.358158          3.382363          3.351055   \n",
              "std                  1.332991          1.288354          1.315605   \n",
              "min                  0.000000          0.000000          0.000000   \n",
              "25%                  2.000000          2.000000          2.000000   \n",
              "50%                  4.000000          4.000000          4.000000   \n",
              "75%                  4.000000          4.000000          4.000000   \n",
              "max                  5.000000          5.000000          5.000000   \n",
              "\n",
              "       Baggage handling  Checkin service  Inflight service    Cleanliness  \\\n",
              "count     103904.000000    103904.000000     103904.000000  103904.000000   \n",
              "mean           3.631833         3.304290          3.640428       3.286351   \n",
              "std            1.180903         1.265396          1.175663       1.312273   \n",
              "min            1.000000         0.000000          0.000000       0.000000   \n",
              "25%            3.000000         3.000000          3.000000       2.000000   \n",
              "50%            4.000000         3.000000          4.000000       3.000000   \n",
              "75%            5.000000         4.000000          5.000000       4.000000   \n",
              "max            5.000000         5.000000          5.000000       5.000000   \n",
              "\n",
              "       Departure Delay in Minutes  Arrival Delay in Minutes  \n",
              "count               103904.000000             103594.000000  \n",
              "mean                    14.815618                 15.178678  \n",
              "std                     38.230901                 38.698682  \n",
              "min                      0.000000                  0.000000  \n",
              "25%                      0.000000                  0.000000  \n",
              "50%                      0.000000                  0.000000  \n",
              "75%                     12.000000                 13.000000  \n",
              "max                   1592.000000               1584.000000  "
            ],
            "text/html": [
              "\n",
              "  <div id=\"df-4535d31b-d20b-47a2-9316-6bc8caed1143\" class=\"colab-df-container\">\n",
              "    <div>\n",
              "<style scoped>\n",
              "    .dataframe tbody tr th:only-of-type {\n",
              "        vertical-align: middle;\n",
              "    }\n",
              "\n",
              "    .dataframe tbody tr th {\n",
              "        vertical-align: top;\n",
              "    }\n",
              "\n",
              "    .dataframe thead th {\n",
              "        text-align: right;\n",
              "    }\n",
              "</style>\n",
              "<table border=\"1\" class=\"dataframe\">\n",
              "  <thead>\n",
              "    <tr style=\"text-align: right;\">\n",
              "      <th></th>\n",
              "      <th>Age</th>\n",
              "      <th>Flight Distance</th>\n",
              "      <th>Inflight wifi service</th>\n",
              "      <th>Departure/Arrival time convenient</th>\n",
              "      <th>Ease of Online booking</th>\n",
              "      <th>Gate location</th>\n",
              "      <th>Food and drink</th>\n",
              "      <th>Online boarding</th>\n",
              "      <th>Seat comfort</th>\n",
              "      <th>Inflight entertainment</th>\n",
              "      <th>On-board service</th>\n",
              "      <th>Leg room service</th>\n",
              "      <th>Baggage handling</th>\n",
              "      <th>Checkin service</th>\n",
              "      <th>Inflight service</th>\n",
              "      <th>Cleanliness</th>\n",
              "      <th>Departure Delay in Minutes</th>\n",
              "      <th>Arrival Delay in Minutes</th>\n",
              "    </tr>\n",
              "  </thead>\n",
              "  <tbody>\n",
              "    <tr>\n",
              "      <th>count</th>\n",
              "      <td>103904.000000</td>\n",
              "      <td>103904.000000</td>\n",
              "      <td>103904.000000</td>\n",
              "      <td>103904.000000</td>\n",
              "      <td>103904.000000</td>\n",
              "      <td>103904.000000</td>\n",
              "      <td>103904.000000</td>\n",
              "      <td>103904.000000</td>\n",
              "      <td>103904.000000</td>\n",
              "      <td>103904.000000</td>\n",
              "      <td>103904.000000</td>\n",
              "      <td>103904.000000</td>\n",
              "      <td>103904.000000</td>\n",
              "      <td>103904.000000</td>\n",
              "      <td>103904.000000</td>\n",
              "      <td>103904.000000</td>\n",
              "      <td>103904.000000</td>\n",
              "      <td>103594.000000</td>\n",
              "    </tr>\n",
              "    <tr>\n",
              "      <th>mean</th>\n",
              "      <td>39.379706</td>\n",
              "      <td>1189.448375</td>\n",
              "      <td>2.729683</td>\n",
              "      <td>3.060296</td>\n",
              "      <td>2.756901</td>\n",
              "      <td>2.976883</td>\n",
              "      <td>3.202129</td>\n",
              "      <td>3.250375</td>\n",
              "      <td>3.439396</td>\n",
              "      <td>3.358158</td>\n",
              "      <td>3.382363</td>\n",
              "      <td>3.351055</td>\n",
              "      <td>3.631833</td>\n",
              "      <td>3.304290</td>\n",
              "      <td>3.640428</td>\n",
              "      <td>3.286351</td>\n",
              "      <td>14.815618</td>\n",
              "      <td>15.178678</td>\n",
              "    </tr>\n",
              "    <tr>\n",
              "      <th>std</th>\n",
              "      <td>15.114964</td>\n",
              "      <td>997.147281</td>\n",
              "      <td>1.327829</td>\n",
              "      <td>1.525075</td>\n",
              "      <td>1.398929</td>\n",
              "      <td>1.277621</td>\n",
              "      <td>1.329533</td>\n",
              "      <td>1.349509</td>\n",
              "      <td>1.319088</td>\n",
              "      <td>1.332991</td>\n",
              "      <td>1.288354</td>\n",
              "      <td>1.315605</td>\n",
              "      <td>1.180903</td>\n",
              "      <td>1.265396</td>\n",
              "      <td>1.175663</td>\n",
              "      <td>1.312273</td>\n",
              "      <td>38.230901</td>\n",
              "      <td>38.698682</td>\n",
              "    </tr>\n",
              "    <tr>\n",
              "      <th>min</th>\n",
              "      <td>7.000000</td>\n",
              "      <td>31.000000</td>\n",
              "      <td>0.000000</td>\n",
              "      <td>0.000000</td>\n",
              "      <td>0.000000</td>\n",
              "      <td>0.000000</td>\n",
              "      <td>0.000000</td>\n",
              "      <td>0.000000</td>\n",
              "      <td>0.000000</td>\n",
              "      <td>0.000000</td>\n",
              "      <td>0.000000</td>\n",
              "      <td>0.000000</td>\n",
              "      <td>1.000000</td>\n",
              "      <td>0.000000</td>\n",
              "      <td>0.000000</td>\n",
              "      <td>0.000000</td>\n",
              "      <td>0.000000</td>\n",
              "      <td>0.000000</td>\n",
              "    </tr>\n",
              "    <tr>\n",
              "      <th>25%</th>\n",
              "      <td>27.000000</td>\n",
              "      <td>414.000000</td>\n",
              "      <td>2.000000</td>\n",
              "      <td>2.000000</td>\n",
              "      <td>2.000000</td>\n",
              "      <td>2.000000</td>\n",
              "      <td>2.000000</td>\n",
              "      <td>2.000000</td>\n",
              "      <td>2.000000</td>\n",
              "      <td>2.000000</td>\n",
              "      <td>2.000000</td>\n",
              "      <td>2.000000</td>\n",
              "      <td>3.000000</td>\n",
              "      <td>3.000000</td>\n",
              "      <td>3.000000</td>\n",
              "      <td>2.000000</td>\n",
              "      <td>0.000000</td>\n",
              "      <td>0.000000</td>\n",
              "    </tr>\n",
              "    <tr>\n",
              "      <th>50%</th>\n",
              "      <td>40.000000</td>\n",
              "      <td>843.000000</td>\n",
              "      <td>3.000000</td>\n",
              "      <td>3.000000</td>\n",
              "      <td>3.000000</td>\n",
              "      <td>3.000000</td>\n",
              "      <td>3.000000</td>\n",
              "      <td>3.000000</td>\n",
              "      <td>4.000000</td>\n",
              "      <td>4.000000</td>\n",
              "      <td>4.000000</td>\n",
              "      <td>4.000000</td>\n",
              "      <td>4.000000</td>\n",
              "      <td>3.000000</td>\n",
              "      <td>4.000000</td>\n",
              "      <td>3.000000</td>\n",
              "      <td>0.000000</td>\n",
              "      <td>0.000000</td>\n",
              "    </tr>\n",
              "    <tr>\n",
              "      <th>75%</th>\n",
              "      <td>51.000000</td>\n",
              "      <td>1743.000000</td>\n",
              "      <td>4.000000</td>\n",
              "      <td>4.000000</td>\n",
              "      <td>4.000000</td>\n",
              "      <td>4.000000</td>\n",
              "      <td>4.000000</td>\n",
              "      <td>4.000000</td>\n",
              "      <td>5.000000</td>\n",
              "      <td>4.000000</td>\n",
              "      <td>4.000000</td>\n",
              "      <td>4.000000</td>\n",
              "      <td>5.000000</td>\n",
              "      <td>4.000000</td>\n",
              "      <td>5.000000</td>\n",
              "      <td>4.000000</td>\n",
              "      <td>12.000000</td>\n",
              "      <td>13.000000</td>\n",
              "    </tr>\n",
              "    <tr>\n",
              "      <th>max</th>\n",
              "      <td>85.000000</td>\n",
              "      <td>4983.000000</td>\n",
              "      <td>5.000000</td>\n",
              "      <td>5.000000</td>\n",
              "      <td>5.000000</td>\n",
              "      <td>5.000000</td>\n",
              "      <td>5.000000</td>\n",
              "      <td>5.000000</td>\n",
              "      <td>5.000000</td>\n",
              "      <td>5.000000</td>\n",
              "      <td>5.000000</td>\n",
              "      <td>5.000000</td>\n",
              "      <td>5.000000</td>\n",
              "      <td>5.000000</td>\n",
              "      <td>5.000000</td>\n",
              "      <td>5.000000</td>\n",
              "      <td>1592.000000</td>\n",
              "      <td>1584.000000</td>\n",
              "    </tr>\n",
              "  </tbody>\n",
              "</table>\n",
              "</div>\n",
              "    <div class=\"colab-df-buttons\">\n",
              "\n",
              "  <div class=\"colab-df-container\">\n",
              "    <button class=\"colab-df-convert\" onclick=\"convertToInteractive('df-4535d31b-d20b-47a2-9316-6bc8caed1143')\"\n",
              "            title=\"Convert this dataframe to an interactive table.\"\n",
              "            style=\"display:none;\">\n",
              "\n",
              "  <svg xmlns=\"http://www.w3.org/2000/svg\" height=\"24px\" viewBox=\"0 -960 960 960\">\n",
              "    <path d=\"M120-120v-720h720v720H120Zm60-500h600v-160H180v160Zm220 220h160v-160H400v160Zm0 220h160v-160H400v160ZM180-400h160v-160H180v160Zm440 0h160v-160H620v160ZM180-180h160v-160H180v160Zm440 0h160v-160H620v160Z\"/>\n",
              "  </svg>\n",
              "    </button>\n",
              "\n",
              "  <style>\n",
              "    .colab-df-container {\n",
              "      display:flex;\n",
              "      gap: 12px;\n",
              "    }\n",
              "\n",
              "    .colab-df-convert {\n",
              "      background-color: #E8F0FE;\n",
              "      border: none;\n",
              "      border-radius: 50%;\n",
              "      cursor: pointer;\n",
              "      display: none;\n",
              "      fill: #1967D2;\n",
              "      height: 32px;\n",
              "      padding: 0 0 0 0;\n",
              "      width: 32px;\n",
              "    }\n",
              "\n",
              "    .colab-df-convert:hover {\n",
              "      background-color: #E2EBFA;\n",
              "      box-shadow: 0px 1px 2px rgba(60, 64, 67, 0.3), 0px 1px 3px 1px rgba(60, 64, 67, 0.15);\n",
              "      fill: #174EA6;\n",
              "    }\n",
              "\n",
              "    .colab-df-buttons div {\n",
              "      margin-bottom: 4px;\n",
              "    }\n",
              "\n",
              "    [theme=dark] .colab-df-convert {\n",
              "      background-color: #3B4455;\n",
              "      fill: #D2E3FC;\n",
              "    }\n",
              "\n",
              "    [theme=dark] .colab-df-convert:hover {\n",
              "      background-color: #434B5C;\n",
              "      box-shadow: 0px 1px 3px 1px rgba(0, 0, 0, 0.15);\n",
              "      filter: drop-shadow(0px 1px 2px rgba(0, 0, 0, 0.3));\n",
              "      fill: #FFFFFF;\n",
              "    }\n",
              "  </style>\n",
              "\n",
              "    <script>\n",
              "      const buttonEl =\n",
              "        document.querySelector('#df-4535d31b-d20b-47a2-9316-6bc8caed1143 button.colab-df-convert');\n",
              "      buttonEl.style.display =\n",
              "        google.colab.kernel.accessAllowed ? 'block' : 'none';\n",
              "\n",
              "      async function convertToInteractive(key) {\n",
              "        const element = document.querySelector('#df-4535d31b-d20b-47a2-9316-6bc8caed1143');\n",
              "        const dataTable =\n",
              "          await google.colab.kernel.invokeFunction('convertToInteractive',\n",
              "                                                    [key], {});\n",
              "        if (!dataTable) return;\n",
              "\n",
              "        const docLinkHtml = 'Like what you see? Visit the ' +\n",
              "          '<a target=\"_blank\" href=https://colab.research.google.com/notebooks/data_table.ipynb>data table notebook</a>'\n",
              "          + ' to learn more about interactive tables.';\n",
              "        element.innerHTML = '';\n",
              "        dataTable['output_type'] = 'display_data';\n",
              "        await google.colab.output.renderOutput(dataTable, element);\n",
              "        const docLink = document.createElement('div');\n",
              "        docLink.innerHTML = docLinkHtml;\n",
              "        element.appendChild(docLink);\n",
              "      }\n",
              "    </script>\n",
              "  </div>\n",
              "\n",
              "\n",
              "<div id=\"df-7b72cab9-3f2b-47d5-b613-e05aa71d8866\">\n",
              "  <button class=\"colab-df-quickchart\" onclick=\"quickchart('df-7b72cab9-3f2b-47d5-b613-e05aa71d8866')\"\n",
              "            title=\"Suggest charts\"\n",
              "            style=\"display:none;\">\n",
              "\n",
              "<svg xmlns=\"http://www.w3.org/2000/svg\" height=\"24px\"viewBox=\"0 0 24 24\"\n",
              "     width=\"24px\">\n",
              "    <g>\n",
              "        <path d=\"M19 3H5c-1.1 0-2 .9-2 2v14c0 1.1.9 2 2 2h14c1.1 0 2-.9 2-2V5c0-1.1-.9-2-2-2zM9 17H7v-7h2v7zm4 0h-2V7h2v10zm4 0h-2v-4h2v4z\"/>\n",
              "    </g>\n",
              "</svg>\n",
              "  </button>\n",
              "\n",
              "<style>\n",
              "  .colab-df-quickchart {\n",
              "      --bg-color: #E8F0FE;\n",
              "      --fill-color: #1967D2;\n",
              "      --hover-bg-color: #E2EBFA;\n",
              "      --hover-fill-color: #174EA6;\n",
              "      --disabled-fill-color: #AAA;\n",
              "      --disabled-bg-color: #DDD;\n",
              "  }\n",
              "\n",
              "  [theme=dark] .colab-df-quickchart {\n",
              "      --bg-color: #3B4455;\n",
              "      --fill-color: #D2E3FC;\n",
              "      --hover-bg-color: #434B5C;\n",
              "      --hover-fill-color: #FFFFFF;\n",
              "      --disabled-bg-color: #3B4455;\n",
              "      --disabled-fill-color: #666;\n",
              "  }\n",
              "\n",
              "  .colab-df-quickchart {\n",
              "    background-color: var(--bg-color);\n",
              "    border: none;\n",
              "    border-radius: 50%;\n",
              "    cursor: pointer;\n",
              "    display: none;\n",
              "    fill: var(--fill-color);\n",
              "    height: 32px;\n",
              "    padding: 0;\n",
              "    width: 32px;\n",
              "  }\n",
              "\n",
              "  .colab-df-quickchart:hover {\n",
              "    background-color: var(--hover-bg-color);\n",
              "    box-shadow: 0 1px 2px rgba(60, 64, 67, 0.3), 0 1px 3px 1px rgba(60, 64, 67, 0.15);\n",
              "    fill: var(--button-hover-fill-color);\n",
              "  }\n",
              "\n",
              "  .colab-df-quickchart-complete:disabled,\n",
              "  .colab-df-quickchart-complete:disabled:hover {\n",
              "    background-color: var(--disabled-bg-color);\n",
              "    fill: var(--disabled-fill-color);\n",
              "    box-shadow: none;\n",
              "  }\n",
              "\n",
              "  .colab-df-spinner {\n",
              "    border: 2px solid var(--fill-color);\n",
              "    border-color: transparent;\n",
              "    border-bottom-color: var(--fill-color);\n",
              "    animation:\n",
              "      spin 1s steps(1) infinite;\n",
              "  }\n",
              "\n",
              "  @keyframes spin {\n",
              "    0% {\n",
              "      border-color: transparent;\n",
              "      border-bottom-color: var(--fill-color);\n",
              "      border-left-color: var(--fill-color);\n",
              "    }\n",
              "    20% {\n",
              "      border-color: transparent;\n",
              "      border-left-color: var(--fill-color);\n",
              "      border-top-color: var(--fill-color);\n",
              "    }\n",
              "    30% {\n",
              "      border-color: transparent;\n",
              "      border-left-color: var(--fill-color);\n",
              "      border-top-color: var(--fill-color);\n",
              "      border-right-color: var(--fill-color);\n",
              "    }\n",
              "    40% {\n",
              "      border-color: transparent;\n",
              "      border-right-color: var(--fill-color);\n",
              "      border-top-color: var(--fill-color);\n",
              "    }\n",
              "    60% {\n",
              "      border-color: transparent;\n",
              "      border-right-color: var(--fill-color);\n",
              "    }\n",
              "    80% {\n",
              "      border-color: transparent;\n",
              "      border-right-color: var(--fill-color);\n",
              "      border-bottom-color: var(--fill-color);\n",
              "    }\n",
              "    90% {\n",
              "      border-color: transparent;\n",
              "      border-bottom-color: var(--fill-color);\n",
              "    }\n",
              "  }\n",
              "</style>\n",
              "\n",
              "  <script>\n",
              "    async function quickchart(key) {\n",
              "      const quickchartButtonEl =\n",
              "        document.querySelector('#' + key + ' button');\n",
              "      quickchartButtonEl.disabled = true;  // To prevent multiple clicks.\n",
              "      quickchartButtonEl.classList.add('colab-df-spinner');\n",
              "      try {\n",
              "        const charts = await google.colab.kernel.invokeFunction(\n",
              "            'suggestCharts', [key], {});\n",
              "      } catch (error) {\n",
              "        console.error('Error during call to suggestCharts:', error);\n",
              "      }\n",
              "      quickchartButtonEl.classList.remove('colab-df-spinner');\n",
              "      quickchartButtonEl.classList.add('colab-df-quickchart-complete');\n",
              "    }\n",
              "    (() => {\n",
              "      let quickchartButtonEl =\n",
              "        document.querySelector('#df-7b72cab9-3f2b-47d5-b613-e05aa71d8866 button');\n",
              "      quickchartButtonEl.style.display =\n",
              "        google.colab.kernel.accessAllowed ? 'block' : 'none';\n",
              "    })();\n",
              "  </script>\n",
              "</div>\n",
              "    </div>\n",
              "  </div>\n"
            ]
          },
          "metadata": {},
          "execution_count": 143
        }
      ]
    },
    {
      "cell_type": "markdown",
      "source": [
        "Посмотрим на соотношение классов"
      ],
      "metadata": {
        "id": "jldWRSQCxlq6"
      }
    },
    {
      "cell_type": "code",
      "source": [
        "import matplotlib.pyplot as plt\n",
        "import seaborn as sns\n",
        "data.satisfaction.value_counts().plot.pie()\n",
        "pass"
      ],
      "metadata": {
        "colab": {
          "base_uri": "https://localhost:8080/",
          "height": 406
        },
        "id": "_TjMiwtrxsrm",
        "outputId": "4a25ec6e-cbb6-4a3c-e285-341363b59c80"
      },
      "execution_count": 144,
      "outputs": [
        {
          "output_type": "display_data",
          "data": {
            "text/plain": [
              "<Figure size 640x480 with 1 Axes>"
            ],
            "image/png": "[encoded data removed]"
          },
          "metadata": {}
        }
      ]
    },
    {
      "cell_type": "markdown",
      "source": [
        "Классы выглядят сбалансированными, не будем их трогать"
      ],
      "metadata": {
        "id": "zluby4dChCTy"
      }
    },
    {
      "cell_type": "markdown",
      "source": [
        "Рассмотрим значения категориальных признаков:"
      ],
      "metadata": {
        "id": "-UgIURDxhPYW"
      }
    },
    {
      "cell_type": "markdown",
      "source": [
        "Пол пассажиров:"
      ],
      "metadata": {
        "id": "Ov_-DB0mhlaf"
      }
    },
    {
      "cell_type": "code",
      "source": [
        "sns.countplot(x='Gender', data=data)\n",
        "pass"
      ],
      "metadata": {
        "colab": {
          "base_uri": "https://localhost:8080/",
          "height": 449
        },
        "id": "YwmLikVIg1o1",
        "outputId": "80d0c447-c212-4d12-fce4-845bf82e416c"
      },
      "execution_count": 145,
      "outputs": [
        {
          "output_type": "display_data",
          "data": {
            "text/plain": [
              "<Figure size 640x480 with 1 Axes>"
            ],
            "image/png": "[encoded data removed]"
          },
          "metadata": {}
        }
      ]
    },
    {
      "cell_type": "markdown",
      "source": [
        "Постоянный клиент или нет"
      ],
      "metadata": {
        "id": "IP7FmvgKhqoq"
      }
    },
    {
      "cell_type": "code",
      "source": [
        "sns.countplot(x='Customer Type', data=data)\n",
        "pass"
      ],
      "metadata": {
        "colab": {
          "base_uri": "https://localhost:8080/",
          "height": 449
        },
        "id": "9V2a3ysWjMID",
        "outputId": "4c20f3ed-4b71-4e9e-cf35-f82540be34ae"
      },
      "execution_count": 109,
      "outputs": [
        {
          "output_type": "display_data",
          "data": {
            "text/plain": [
              "<Figure size 640x480 with 1 Axes>"
            ],
            "image/png": "[encoded data removed]"
          },
          "metadata": {}
        }
      ]
    },
    {
      "cell_type": "markdown",
      "source": [
        "Вид путешествия"
      ],
      "metadata": {
        "id": "5N74ryujj1Es"
      }
    },
    {
      "cell_type": "code",
      "source": [
        "sns.countplot(x='Type of Travel', data=data)\n",
        "pass"
      ],
      "metadata": {
        "colab": {
          "base_uri": "https://localhost:8080/",
          "height": 449
        },
        "id": "ZjWizyV7j0nU",
        "outputId": "183d7f58-e7b1-415a-94f3-538b33d56199"
      },
      "execution_count": 110,
      "outputs": [
        {
          "output_type": "display_data",
          "data": {
            "text/plain": [
              "<Figure size 640x480 with 1 Axes>"
            ],
            "image/png": "[encoded data removed]"
          },
          "metadata": {}
        }
      ]
    },
    {
      "cell_type": "markdown",
      "source": [
        "Класс в котором летел пассажир"
      ],
      "metadata": {
        "id": "jSKjXzatpWB8"
      }
    },
    {
      "cell_type": "code",
      "source": [
        "sns.countplot(x='Class', data=data)\n",
        "pass"
      ],
      "metadata": {
        "colab": {
          "base_uri": "https://localhost:8080/",
          "height": 449
        },
        "id": "UKLiyXLZpVbM",
        "outputId": "e863cc14-4235-4a2f-cf1a-7add3253006f"
      },
      "execution_count": 111,
      "outputs": [
        {
          "output_type": "display_data",
          "data": {
            "text/plain": [
              "<Figure size 640x480 with 1 Axes>"
            ],
            "image/png": "[encoded data removed]"
          },
          "metadata": {}
        }
      ]
    },
    {
      "cell_type": "markdown",
      "source": [
        "Распределение клиентов по длительности задержки вылета"
      ],
      "metadata": {
        "id": "-qvgOciTp-43"
      }
    },
    {
      "cell_type": "code",
      "source": [
        "sns.displot(data['Departure Delay in Minutes'], bins=25)\n",
        "pass"
      ],
      "metadata": {
        "colab": {
          "base_uri": "https://localhost:8080/",
          "height": 506
        },
        "id": "L_0WDxjeqD7z",
        "outputId": "edbe4cde-8fb0-49c6-ccc7-3fca48fbf377"
      },
      "execution_count": 112,
      "outputs": [
        {
          "output_type": "display_data",
          "data": {
            "text/plain": [
              "<Figure size 500x500 with 1 Axes>"
            ],
            "image/png": "[encoded data removed]"
          },
          "metadata": {}
        }
      ]
    },
    {
      "cell_type": "markdown",
      "source": [
        "Распределение клиентов по длительности задержки посадки"
      ],
      "metadata": {
        "id": "yeXGOgHWqdu1"
      }
    },
    {
      "cell_type": "code",
      "source": [
        "sns.displot(data['Arrival Delay in Minutes'], bins=25)\n",
        "pass"
      ],
      "metadata": {
        "colab": {
          "base_uri": "https://localhost:8080/",
          "height": 506
        },
        "id": "3G67KI7ZqjqS",
        "outputId": "5414d669-1e4d-45f9-e2ba-93886f210753"
      },
      "execution_count": 113,
      "outputs": [
        {
          "output_type": "display_data",
          "data": {
            "text/plain": [
              "<Figure size 500x500 with 1 Axes>"
            ],
            "image/png": "[encoded data removed]"
          },
          "metadata": {}
        }
      ]
    },
    {
      "cell_type": "code",
      "source": [
        "corr = data.corr()\n",
        "plt.subplots(figsize=(25, 25))\n",
        "sns.heatmap(corr.corr(), square=True, vmin = -1.0, vmax = 1.0, cmap='coolwarm')\n",
        "pass"
      ],
      "metadata": {
        "colab": {
          "base_uri": "https://localhost:8080/",
          "height": 1000
        },
        "id": "8OXihBewvtw6",
        "outputId": "81283ae3-d841-44a4-d0a9-34d3979acefd"
      },
      "execution_count": 146,
      "outputs": [
        {
          "output_type": "stream",
          "name": "stderr",
          "text": [
            "<ipython-input-146-65701213b2af>:1: FutureWarning: The default value of numeric_only in DataFrame.corr is deprecated. In a future version, it will default to False. Select only valid columns or specify the value of numeric_only to silence this warning.\n",
            "  corr = data.corr()\n"
          ]
        },
        {
          "output_type": "display_data",
          "data": {
            "text/plain": [
              "<Figure size 2500x2500 with 2 Axes>"
            ],
            "image/png": "[encoded data removed]"
          },
          "metadata": {}
        }
      ]
    },
    {
      "cell_type": "markdown",
      "source": [
        "Получим список признаков в которых есть корреляция"
      ],
      "metadata": {
        "id": "MxRNT1LHwi3w"
      }
    },
    {
      "cell_type": "code",
      "source": [
        "import numpy as np\n",
        "corr.where(np.triu(corr > 0.5, k=1)).stack().sort_values(ascending = False)"
      ],
      "metadata": {
        "colab": {
          "base_uri": "https://localhost:8080/"
        },
        "id": "KreiPuUewqnv",
        "outputId": "ba05e2db-b9eb-4e78-e331-9988cdef2d6c"
      },
      "execution_count": 147,
      "outputs": [
        {
          "output_type": "execute_result",
          "data": {
            "text/plain": [
              "Departure Delay in Minutes  Arrival Delay in Minutes    0.965481\n",
              "Inflight wifi service       Ease of Online booking      0.715856\n",
              "Inflight entertainment      Cleanliness                 0.691815\n",
              "Seat comfort                Cleanliness                 0.678534\n",
              "Food and drink              Cleanliness                 0.657760\n",
              "Baggage handling            Inflight service            0.628561\n",
              "Food and drink              Inflight entertainment      0.622512\n",
              "Seat comfort                Inflight entertainment      0.610590\n",
              "Food and drink              Seat comfort                0.574556\n",
              "On-board service            Inflight service            0.550782\n",
              "                            Baggage handling            0.519134\n",
              "dtype: float64"
            ]
          },
          "metadata": {},
          "execution_count": 147
        }
      ]
    },
    {
      "cell_type": "markdown",
      "source": [
        "# Обработка пропущенных значений"
      ],
      "metadata": {
        "id": "Uxn0VdsHxNaI"
      }
    },
    {
      "cell_type": "code",
      "source": [
        "data.isna().sum()"
      ],
      "metadata": {
        "id": "gXq3YaGLxRbv",
        "outputId": "0e99d9be-17b3-4aa0-8ed7-f58befb36339",
        "colab": {
          "base_uri": "https://localhost:8080/"
        }
      },
      "execution_count": 116,
      "outputs": [
        {
          "output_type": "execute_result",
          "data": {
            "text/plain": [
              "Gender                                 0\n",
              "Customer Type                          0\n",
              "Age                                    0\n",
              "Type of Travel                         0\n",
              "Class                                  0\n",
              "Flight Distance                        0\n",
              "Inflight wifi service                  0\n",
              "Departure/Arrival time convenient      0\n",
              "Ease of Online booking                 0\n",
              "Gate location                          0\n",
              "Food and drink                         0\n",
              "Online boarding                        0\n",
              "Seat comfort                           0\n",
              "Inflight entertainment                 0\n",
              "On-board service                       0\n",
              "Leg room service                       0\n",
              "Baggage handling                       0\n",
              "Checkin service                        0\n",
              "Inflight service                       0\n",
              "Cleanliness                            0\n",
              "Departure Delay in Minutes             0\n",
              "Arrival Delay in Minutes             310\n",
              "satisfaction                           0\n",
              "dtype: int64"
            ]
          },
          "metadata": {},
          "execution_count": 116
        }
      ]
    },
    {
      "cell_type": "markdown",
      "source": [
        "Заменим медианой"
      ],
      "metadata": {
        "id": "_OpftFyD8nF2"
      }
    },
    {
      "cell_type": "code",
      "source": [
        "data.fillna(data.median(axis = 0), axis=0 , inplace=True)\n",
        "data_test.fillna(data.median(axis = 0), axis=0 , inplace=True)"
      ],
      "metadata": {
        "colab": {
          "base_uri": "https://localhost:8080/"
        },
        "id": "rE-VzO_48uig",
        "outputId": "fd085cc0-20e8-49a7-983e-7d81bd8053e8"
      },
      "execution_count": 148,
      "outputs": [
        {
          "output_type": "stream",
          "name": "stderr",
          "text": [
            "<ipython-input-148-82bf7aa5b711>:1: FutureWarning: The default value of numeric_only in DataFrame.median is deprecated. In a future version, it will default to False. In addition, specifying 'numeric_only=None' is deprecated. Select only valid columns or specify the value of numeric_only to silence this warning.\n",
            "  data.fillna(data.median(axis = 0), axis=0 , inplace=True)\n",
            "<ipython-input-148-82bf7aa5b711>:2: FutureWarning: The default value of numeric_only in DataFrame.median is deprecated. In a future version, it will default to False. In addition, specifying 'numeric_only=None' is deprecated. Select only valid columns or specify the value of numeric_only to silence this warning.\n",
            "  data_test.fillna(data.median(axis = 0), axis=0 , inplace=True)\n"
          ]
        }
      ]
    },
    {
      "cell_type": "markdown",
      "source": [
        "проверим"
      ],
      "metadata": {
        "id": "0MGZUrt39TW0"
      }
    },
    {
      "cell_type": "code",
      "source": [
        "data.isna().sum()"
      ],
      "metadata": {
        "colab": {
          "base_uri": "https://localhost:8080/"
        },
        "id": "4lXNk-H79RxV",
        "outputId": "87e81cab-6f40-4ab9-c7f9-a943720941bb"
      },
      "execution_count": 118,
      "outputs": [
        {
          "output_type": "execute_result",
          "data": {
            "text/plain": [
              "Gender                               0\n",
              "Customer Type                        0\n",
              "Age                                  0\n",
              "Type of Travel                       0\n",
              "Class                                0\n",
              "Flight Distance                      0\n",
              "Inflight wifi service                0\n",
              "Departure/Arrival time convenient    0\n",
              "Ease of Online booking               0\n",
              "Gate location                        0\n",
              "Food and drink                       0\n",
              "Online boarding                      0\n",
              "Seat comfort                         0\n",
              "Inflight entertainment               0\n",
              "On-board service                     0\n",
              "Leg room service                     0\n",
              "Baggage handling                     0\n",
              "Checkin service                      0\n",
              "Inflight service                     0\n",
              "Cleanliness                          0\n",
              "Departure Delay in Minutes           0\n",
              "Arrival Delay in Minutes             0\n",
              "satisfaction                         0\n",
              "dtype: int64"
            ]
          },
          "metadata": {},
          "execution_count": 118
        }
      ]
    },
    {
      "cell_type": "markdown",
      "source": [
        "# Категориальные признаки"
      ],
      "metadata": {
        "id": "db-5NQbm_5zS"
      }
    },
    {
      "cell_type": "markdown",
      "source": [
        "используем метод бинаризации"
      ],
      "metadata": {
        "id": "iOfVScww__sk"
      }
    },
    {
      "cell_type": "code",
      "source": [
        "gen_dummies = pd.get_dummies(data.Gender)\n",
        "customer_type_dummies = pd.get_dummies(data['Customer Type'])\n",
        "travel_type_dummies = pd.get_dummies(data['Type of Travel'])\n",
        "сlass_dummies = pd.get_dummies(data.Class)\n",
        "satisfaction = pd.get_dummies(data.satisfaction)\n",
        "\n"
      ],
      "metadata": {
        "id": "bFFtWSk9AnLI"
      },
      "execution_count": 149,
      "outputs": []
    },
    {
      "cell_type": "code",
      "source": [
        "data.drop(['Gender', 'Customer Type', 'Type of Travel', 'Class', 'satisfaction'], axis=1, inplace=True)\n",
        "data = pd.concat((data, gen_dummies), axis=1)\n",
        "data = pd.concat((data, customer_type_dummies), axis=1)\n",
        "data = pd.concat((data, travel_type_dummies), axis=1)\n",
        "data = pd.concat((data, сlass_dummies), axis=1)\n",
        "data = pd.concat((data, satisfaction), axis=1)\n"
      ],
      "metadata": {
        "id": "Tu_X_smTD8hZ"
      },
      "execution_count": 150,
      "outputs": []
    },
    {
      "cell_type": "code",
      "source": [
        "data.info();"
      ],
      "metadata": {
        "colab": {
          "base_uri": "https://localhost:8080/"
        },
        "id": "o92uOCcqEWJC",
        "outputId": "ef016649-dad5-4c40-9205-c6a74eb0d82e"
      },
      "execution_count": 121,
      "outputs": [
        {
          "output_type": "stream",
          "name": "stdout",
          "text": [
            "<class 'pandas.core.frame.DataFrame'>\n",
            "RangeIndex: 103904 entries, 0 to 103903\n",
            "Data columns (total 29 columns):\n",
            " #   Column                             Non-Null Count   Dtype  \n",
            "---  ------                             --------------   -----  \n",
            " 0   Age                                103904 non-null  int64  \n",
            " 1   Flight Distance                    103904 non-null  int64  \n",
            " 2   Inflight wifi service              103904 non-null  int64  \n",
            " 3   Departure/Arrival time convenient  103904 non-null  int64  \n",
            " 4   Ease of Online booking             103904 non-null  int64  \n",
            " 5   Gate location                      103904 non-null  int64  \n",
            " 6   Food and drink                     103904 non-null  int64  \n",
            " 7   Online boarding                    103904 non-null  int64  \n",
            " 8   Seat comfort                       103904 non-null  int64  \n",
            " 9   Inflight entertainment             103904 non-null  int64  \n",
            " 10  On-board service                   103904 non-null  int64  \n",
            " 11  Leg room service                   103904 non-null  int64  \n",
            " 12  Baggage handling                   103904 non-null  int64  \n",
            " 13  Checkin service                    103904 non-null  int64  \n",
            " 14  Inflight service                   103904 non-null  int64  \n",
            " 15  Cleanliness                        103904 non-null  int64  \n",
            " 16  Departure Delay in Minutes         103904 non-null  int64  \n",
            " 17  Arrival Delay in Minutes           103904 non-null  float64\n",
            " 18  Female                             103904 non-null  uint8  \n",
            " 19  Male                               103904 non-null  uint8  \n",
            " 20  Loyal Customer                     103904 non-null  uint8  \n",
            " 21  disloyal Customer                  103904 non-null  uint8  \n",
            " 22  Business travel                    103904 non-null  uint8  \n",
            " 23  Personal Travel                    103904 non-null  uint8  \n",
            " 24  Business                           103904 non-null  uint8  \n",
            " 25  Eco                                103904 non-null  uint8  \n",
            " 26  Eco Plus                           103904 non-null  uint8  \n",
            " 27  neutral or dissatisfied            103904 non-null  uint8  \n",
            " 28  satisfied                          103904 non-null  uint8  \n",
            "dtypes: float64(1), int64(17), uint8(11)\n",
            "memory usage: 15.4 MB\n"
          ]
        }
      ]
    },
    {
      "cell_type": "markdown",
      "source": [
        "Делаем тоже самое для тестовых данных"
      ],
      "metadata": {
        "id": "RO3TFUDnALq3"
      }
    },
    {
      "cell_type": "code",
      "source": [
        "gen_dummies = pd.get_dummies(data_test.Gender)\n",
        "customer_type_dummies = pd.get_dummies(data_test['Customer Type'])\n",
        "travel_type_dummies = pd.get_dummies(data_test['Type of Travel'])\n",
        "сlass_dummies = pd.get_dummies(data_test.Class)\n",
        "satisfaction = pd.get_dummies(data_test.satisfaction)"
      ],
      "metadata": {
        "id": "uHPGx9Kb91_C"
      },
      "execution_count": 151,
      "outputs": []
    },
    {
      "cell_type": "code",
      "source": [
        "data_test.drop(['Gender', 'Customer Type', 'Type of Travel', 'Class', 'satisfaction'], axis=1, inplace=True)\n",
        "data_test = pd.concat((data_test, gen_dummies), axis=1)\n",
        "data_test = pd.concat((data_test, customer_type_dummies), axis=1)\n",
        "data_test = pd.concat((data_test, travel_type_dummies), axis=1)\n",
        "data_test = pd.concat((data_test, сlass_dummies), axis=1)\n",
        "data_test = pd.concat((data_test, satisfaction), axis=1)"
      ],
      "metadata": {
        "id": "nO21RaJY-C-D"
      },
      "execution_count": 152,
      "outputs": []
    },
    {
      "cell_type": "markdown",
      "source": [
        "Убираем выбросы в колонках Departure Delay in Minutes и\n",
        "Arrival Delay in Minutes используя правило трёх сигм"
      ],
      "metadata": {
        "id": "NAC9ruzNAo6A"
      }
    },
    {
      "cell_type": "code",
      "source": [
        "arrival_delay_mean=data['Arrival Delay in Minutes'].mean()\n",
        "departure_delay_mean=data['Departure Delay in Minutes'].mean()\n",
        "\n",
        "arrival_delay_std=data['Arrival Delay in Minutes'].std(ddof=0)\n",
        "departure_delay_std=data['Departure Delay in Minutes'].std(ddof=0)\n",
        "\n",
        "data=data[(abs((data['Arrival Delay in Minutes']-arrival_delay_mean)/arrival_delay_std)<3)]\n",
        "\n"
      ],
      "metadata": {
        "id": "S4lEpSJj2Bmf"
      },
      "execution_count": 153,
      "outputs": []
    },
    {
      "cell_type": "markdown",
      "source": [
        "Проверим"
      ],
      "metadata": {
        "id": "lVD6QOCW73Ya"
      }
    },
    {
      "cell_type": "code",
      "source": [
        "sns.displot(data['Arrival Delay in Minutes'], bins=25)\n",
        "pass"
      ],
      "metadata": {
        "colab": {
          "base_uri": "https://localhost:8080/",
          "height": 506
        },
        "id": "twwcJAzd75xz",
        "outputId": "1307268d-982a-49e9-ba70-569ba2eda0ef"
      },
      "execution_count": 125,
      "outputs": [
        {
          "output_type": "display_data",
          "data": {
            "text/plain": [
              "<Figure size 500x500 with 1 Axes>"
            ],
            "image/png": "[encoded data removed]"
          },
          "metadata": {}
        }
      ]
    },
    {
      "cell_type": "markdown",
      "source": [
        "# Нормализация"
      ],
      "metadata": {
        "id": "9mt3WUtD-upT"
      }
    },
    {
      "cell_type": "code",
      "source": [
        "norm = (data - data.mean(axis = 0))/data.std(axis = 0)\n",
        "norm_test = (data_test - data_test.mean(axis = 0))/data_test.std(axis = 0)\n",
        "norm.describe()"
      ],
      "metadata": {
        "colab": {
          "base_uri": "https://localhost:8080/",
          "height": 471
        },
        "id": "a_xYYBWQ-rll",
        "outputId": "855b7734-abad-4eb1-ce83-cddab271f41e"
      },
      "execution_count": 154,
      "outputs": [
        {
          "output_type": "execute_result",
          "data": {
            "text/plain": [
              "                Age  Flight Distance  Inflight wifi service  \\\n",
              "count  1.016790e+05     1.016790e+05           1.016790e+05   \n",
              "mean  -4.039120e-17     6.317240e-17           1.222917e-16   \n",
              "std    1.000000e+00     1.000000e+00           1.000000e+00   \n",
              "min   -2.142423e+00    -1.161482e+00          -2.054831e+00   \n",
              "25%   -8.193408e-01    -7.783927e-01          -5.501019e-01   \n",
              "50%    4.066294e-02    -3.481690e-01           2.022629e-01   \n",
              "75%    7.683584e-01     5.564039e-01           9.546277e-01   \n",
              "max    3.017599e+00     3.804643e+00           1.706992e+00   \n",
              "\n",
              "       Departure/Arrival time convenient  Ease of Online booking  \\\n",
              "count                       1.016790e+05            1.016790e+05   \n",
              "mean                       -4.164906e-17            2.417882e-17   \n",
              "std                         1.000000e+00            1.000000e+00   \n",
              "min                        -2.005585e+00           -1.970604e+00   \n",
              "25%                        -6.948261e-01           -5.415758e-01   \n",
              "50%                        -3.944690e-02            1.729383e-01   \n",
              "75%                         6.159323e-01            8.874524e-01   \n",
              "max                         1.271312e+00            1.601967e+00   \n",
              "\n",
              "       Gate location  Food and drink  Online boarding  Seat comfort  \\\n",
              "count   1.016790e+05    1.016790e+05     1.016790e+05  1.016790e+05   \n",
              "mean    6.051692e-17   -4.115989e-17    -8.231979e-17  5.506621e-17   \n",
              "std     1.000000e+00    1.000000e+00     1.000000e+00  1.000000e+00   \n",
              "min    -2.328807e+00   -2.413734e+00    -2.409365e+00 -1.853160e+00   \n",
              "25%    -7.637551e-01   -9.086252e-01    -9.271239e-01 -1.094626e+00   \n",
              "50%     1.877064e-02   -1.560707e-01    -1.860035e-01  4.224423e-01   \n",
              "75%     8.012964e-01    5.964838e-01     5.551169e-01  1.180977e+00   \n",
              "max     1.583822e+00    1.349038e+00     1.296237e+00  1.180977e+00   \n",
              "\n",
              "       Inflight entertainment  ...          Male  Loyal Customer  \\\n",
              "count            1.016790e+05  ...  1.016790e+05    1.016790e+05   \n",
              "mean             1.397619e-17  ... -6.201936e-17   -1.155831e-16   \n",
              "std              1.000000e+00  ...  1.000000e+00    1.000000e+00   \n",
              "min             -2.520699e+00  ... -9.852628e-01   -2.115096e+00   \n",
              "25%             -1.021106e+00  ... -9.852628e-01    4.727871e-01   \n",
              "50%              4.784867e-01  ... -9.852628e-01    4.727871e-01   \n",
              "75%              4.784867e-01  ...  1.014948e+00    4.727871e-01   \n",
              "max              1.228283e+00  ...  1.014948e+00    4.727871e-01   \n",
              "\n",
              "       disloyal Customer  Business travel  Personal Travel      Business  \\\n",
              "count       1.016790e+05     1.016790e+05     1.016790e+05  1.016790e+05   \n",
              "mean       -1.677143e-18    -3.825983e-17     3.825983e-17  3.214525e-17   \n",
              "std         1.000000e+00     1.000000e+00     1.000000e+00  1.000000e+00   \n",
              "min        -4.727871e-01    -1.489457e+00    -6.713789e-01 -9.578548e-01   \n",
              "25%        -4.727871e-01    -1.489457e+00    -6.713789e-01 -9.578548e-01   \n",
              "50%        -4.727871e-01     6.713789e-01    -6.713789e-01 -9.578548e-01   \n",
              "75%        -4.727871e-01     6.713789e-01     1.489457e+00  1.043989e+00   \n",
              "max         2.115096e+00     6.713789e-01     1.489457e+00  1.043989e+00   \n",
              "\n",
              "                Eco      Eco Plus  neutral or dissatisfied     satisfied  \n",
              "count  1.016790e+05  1.016790e+05             1.016790e+05  1.016790e+05  \n",
              "mean  -8.546443e-17 -2.487763e-17             4.682025e-18 -4.682025e-18  \n",
              "std    1.000000e+00  1.000000e+00             1.000000e+00  1.000000e+00  \n",
              "min   -9.036574e-01 -2.785234e-01            -1.139765e+00 -8.773651e-01  \n",
              "25%   -9.036574e-01 -2.785234e-01            -1.139765e+00 -8.773651e-01  \n",
              "50%   -9.036574e-01 -2.785234e-01             8.773651e-01 -8.773651e-01  \n",
              "75%    1.106603e+00 -2.785234e-01             8.773651e-01  1.139765e+00  \n",
              "max    1.106603e+00  3.590327e+00             8.773651e-01  1.139765e+00  \n",
              "\n",
              "[8 rows x 29 columns]"
            ],
            "text/html": [
              "\n",
              "  <div id=\"df-2bfb2bd0-9ab7-4c06-97e2-2fc0810836e4\" class=\"colab-df-container\">\n",
              "    <div>\n",
              "<style scoped>\n",
              "    .dataframe tbody tr th:only-of-type {\n",
              "        vertical-align: middle;\n",
              "    }\n",
              "\n",
              "    .dataframe tbody tr th {\n",
              "        vertical-align: top;\n",
              "    }\n",
              "\n",
              "    .dataframe thead th {\n",
              "        text-align: right;\n",
              "    }\n",
              "</style>\n",
              "<table border=\"1\" class=\"dataframe\">\n",
              "  <thead>\n",
              "    <tr style=\"text-align: right;\">\n",
              "      <th></th>\n",
              "      <th>Age</th>\n",
              "      <th>Flight Distance</th>\n",
              "      <th>Inflight wifi service</th>\n",
              "      <th>Departure/Arrival time convenient</th>\n",
              "      <th>Ease of Online booking</th>\n",
              "      <th>Gate location</th>\n",
              "      <th>Food and drink</th>\n",
              "      <th>Online boarding</th>\n",
              "      <th>Seat comfort</th>\n",
              "      <th>Inflight entertainment</th>\n",
              "      <th>...</th>\n",
              "      <th>Male</th>\n",
              "      <th>Loyal Customer</th>\n",
              "      <th>disloyal Customer</th>\n",
              "      <th>Business travel</th>\n",
              "      <th>Personal Travel</th>\n",
              "      <th>Business</th>\n",
              "      <th>Eco</th>\n",
              "      <th>Eco Plus</th>\n",
              "      <th>neutral or dissatisfied</th>\n",
              "      <th>satisfied</th>\n",
              "    </tr>\n",
              "  </thead>\n",
              "  <tbody>\n",
              "    <tr>\n",
              "      <th>count</th>\n",
              "      <td>1.016790e+05</td>\n",
              "      <td>1.016790e+05</td>\n",
              "      <td>1.016790e+05</td>\n",
              "      <td>1.016790e+05</td>\n",
              "      <td>1.016790e+05</td>\n",
              "      <td>1.016790e+05</td>\n",
              "      <td>1.016790e+05</td>\n",
              "      <td>1.016790e+05</td>\n",
              "      <td>1.016790e+05</td>\n",
              "      <td>1.016790e+05</td>\n",
              "      <td>...</td>\n",
              "      <td>1.016790e+05</td>\n",
              "      <td>1.016790e+05</td>\n",
              "      <td>1.016790e+05</td>\n",
              "      <td>1.016790e+05</td>\n",
              "      <td>1.016790e+05</td>\n",
              "      <td>1.016790e+05</td>\n",
              "      <td>1.016790e+05</td>\n",
              "      <td>1.016790e+05</td>\n",
              "      <td>1.016790e+05</td>\n",
              "      <td>1.016790e+05</td>\n",
              "    </tr>\n",
              "    <tr>\n",
              "      <th>mean</th>\n",
              "      <td>-4.039120e-17</td>\n",
              "      <td>6.317240e-17</td>\n",
              "      <td>1.222917e-16</td>\n",
              "      <td>-4.164906e-17</td>\n",
              "      <td>2.417882e-17</td>\n",
              "      <td>6.051692e-17</td>\n",
              "      <td>-4.115989e-17</td>\n",
              "      <td>-8.231979e-17</td>\n",
              "      <td>5.506621e-17</td>\n",
              "      <td>1.397619e-17</td>\n",
              "      <td>...</td>\n",
              "      <td>-6.201936e-17</td>\n",
              "      <td>-1.155831e-16</td>\n",
              "      <td>-1.677143e-18</td>\n",
              "      <td>-3.825983e-17</td>\n",
              "      <td>3.825983e-17</td>\n",
              "      <td>3.214525e-17</td>\n",
              "      <td>-8.546443e-17</td>\n",
              "      <td>-2.487763e-17</td>\n",
              "      <td>4.682025e-18</td>\n",
              "      <td>-4.682025e-18</td>\n",
              "    </tr>\n",
              "    <tr>\n",
              "      <th>std</th>\n",
              "      <td>1.000000e+00</td>\n",
              "      <td>1.000000e+00</td>\n",
              "      <td>1.000000e+00</td>\n",
              "      <td>1.000000e+00</td>\n",
              "      <td>1.000000e+00</td>\n",
              "      <td>1.000000e+00</td>\n",
              "      <td>1.000000e+00</td>\n",
              "      <td>1.000000e+00</td>\n",
              "      <td>1.000000e+00</td>\n",
              "      <td>1.000000e+00</td>\n",
              "      <td>...</td>\n",
              "      <td>1.000000e+00</td>\n",
              "      <td>1.000000e+00</td>\n",
              "      <td>1.000000e+00</td>\n",
              "      <td>1.000000e+00</td>\n",
              "      <td>1.000000e+00</td>\n",
              "      <td>1.000000e+00</td>\n",
              "      <td>1.000000e+00</td>\n",
              "      <td>1.000000e+00</td>\n",
              "      <td>1.000000e+00</td>\n",
              "      <td>1.000000e+00</td>\n",
              "    </tr>\n",
              "    <tr>\n",
              "      <th>min</th>\n",
              "      <td>-2.142423e+00</td>\n",
              "      <td>-1.161482e+00</td>\n",
              "      <td>-2.054831e+00</td>\n",
              "      <td>-2.005585e+00</td>\n",
              "      <td>-1.970604e+00</td>\n",
              "      <td>-2.328807e+00</td>\n",
              "      <td>-2.413734e+00</td>\n",
              "      <td>-2.409365e+00</td>\n",
              "      <td>-1.853160e+00</td>\n",
              "      <td>-2.520699e+00</td>\n",
              "      <td>...</td>\n",
              "      <td>-9.852628e-01</td>\n",
              "      <td>-2.115096e+00</td>\n",
              "      <td>-4.727871e-01</td>\n",
              "      <td>-1.489457e+00</td>\n",
              "      <td>-6.713789e-01</td>\n",
              "      <td>-9.578548e-01</td>\n",
              "      <td>-9.036574e-01</td>\n",
              "      <td>-2.785234e-01</td>\n",
              "      <td>-1.139765e+00</td>\n",
              "      <td>-8.773651e-01</td>\n",
              "    </tr>\n",
              "    <tr>\n",
              "      <th>25%</th>\n",
              "      <td>-8.193408e-01</td>\n",
              "      <td>-7.783927e-01</td>\n",
              "      <td>-5.501019e-01</td>\n",
              "      <td>-6.948261e-01</td>\n",
              "      <td>-5.415758e-01</td>\n",
              "      <td>-7.637551e-01</td>\n",
              "      <td>-9.086252e-01</td>\n",
              "      <td>-9.271239e-01</td>\n",
              "      <td>-1.094626e+00</td>\n",
              "      <td>-1.021106e+00</td>\n",
              "      <td>...</td>\n",
              "      <td>-9.852628e-01</td>\n",
              "      <td>4.727871e-01</td>\n",
              "      <td>-4.727871e-01</td>\n",
              "      <td>-1.489457e+00</td>\n",
              "      <td>-6.713789e-01</td>\n",
              "      <td>-9.578548e-01</td>\n",
              "      <td>-9.036574e-01</td>\n",
              "      <td>-2.785234e-01</td>\n",
              "      <td>-1.139765e+00</td>\n",
              "      <td>-8.773651e-01</td>\n",
              "    </tr>\n",
              "    <tr>\n",
              "      <th>50%</th>\n",
              "      <td>4.066294e-02</td>\n",
              "      <td>-3.481690e-01</td>\n",
              "      <td>2.022629e-01</td>\n",
              "      <td>-3.944690e-02</td>\n",
              "      <td>1.729383e-01</td>\n",
              "      <td>1.877064e-02</td>\n",
              "      <td>-1.560707e-01</td>\n",
              "      <td>-1.860035e-01</td>\n",
              "      <td>4.224423e-01</td>\n",
              "      <td>4.784867e-01</td>\n",
              "      <td>...</td>\n",
              "      <td>-9.852628e-01</td>\n",
              "      <td>4.727871e-01</td>\n",
              "      <td>-4.727871e-01</td>\n",
              "      <td>6.713789e-01</td>\n",
              "      <td>-6.713789e-01</td>\n",
              "      <td>-9.578548e-01</td>\n",
              "      <td>-9.036574e-01</td>\n",
              "      <td>-2.785234e-01</td>\n",
              "      <td>8.773651e-01</td>\n",
              "      <td>-8.773651e-01</td>\n",
              "    </tr>\n",
              "    <tr>\n",
              "      <th>75%</th>\n",
              "      <td>7.683584e-01</td>\n",
              "      <td>5.564039e-01</td>\n",
              "      <td>9.546277e-01</td>\n",
              "      <td>6.159323e-01</td>\n",
              "      <td>8.874524e-01</td>\n",
              "      <td>8.012964e-01</td>\n",
              "      <td>5.964838e-01</td>\n",
              "      <td>5.551169e-01</td>\n",
              "      <td>1.180977e+00</td>\n",
              "      <td>4.784867e-01</td>\n",
              "      <td>...</td>\n",
              "      <td>1.014948e+00</td>\n",
              "      <td>4.727871e-01</td>\n",
              "      <td>-4.727871e-01</td>\n",
              "      <td>6.713789e-01</td>\n",
              "      <td>1.489457e+00</td>\n",
              "      <td>1.043989e+00</td>\n",
              "      <td>1.106603e+00</td>\n",
              "      <td>-2.785234e-01</td>\n",
              "      <td>8.773651e-01</td>\n",
              "      <td>1.139765e+00</td>\n",
              "    </tr>\n",
              "    <tr>\n",
              "      <th>max</th>\n",
              "      <td>3.017599e+00</td>\n",
              "      <td>3.804643e+00</td>\n",
              "      <td>1.706992e+00</td>\n",
              "      <td>1.271312e+00</td>\n",
              "      <td>1.601967e+00</td>\n",
              "      <td>1.583822e+00</td>\n",
              "      <td>1.349038e+00</td>\n",
              "      <td>1.296237e+00</td>\n",
              "      <td>1.180977e+00</td>\n",
              "      <td>1.228283e+00</td>\n",
              "      <td>...</td>\n",
              "      <td>1.014948e+00</td>\n",
              "      <td>4.727871e-01</td>\n",
              "      <td>2.115096e+00</td>\n",
              "      <td>6.713789e-01</td>\n",
              "      <td>1.489457e+00</td>\n",
              "      <td>1.043989e+00</td>\n",
              "      <td>1.106603e+00</td>\n",
              "      <td>3.590327e+00</td>\n",
              "      <td>8.773651e-01</td>\n",
              "      <td>1.139765e+00</td>\n",
              "    </tr>\n",
              "  </tbody>\n",
              "</table>\n",
              "<p>8 rows × 29 columns</p>\n",
              "</div>\n",
              "    <div class=\"colab-df-buttons\">\n",
              "\n",
              "  <div class=\"colab-df-container\">\n",
              "    <button class=\"colab-df-convert\" onclick=\"convertToInteractive('df-2bfb2bd0-9ab7-4c06-97e2-2fc0810836e4')\"\n",
              "            title=\"Convert this dataframe to an interactive table.\"\n",
              "            style=\"display:none;\">\n",
              "\n",
              "  <svg xmlns=\"http://www.w3.org/2000/svg\" height=\"24px\" viewBox=\"0 -960 960 960\">\n",
              "    <path d=\"M120-120v-720h720v720H120Zm60-500h600v-160H180v160Zm220 220h160v-160H400v160Zm0 220h160v-160H400v160ZM180-400h160v-160H180v160Zm440 0h160v-160H620v160ZM180-180h160v-160H180v160Zm440 0h160v-160H620v160Z\"/>\n",
              "  </svg>\n",
              "    </button>\n",
              "\n",
              "  <style>\n",
              "    .colab-df-container {\n",
              "      display:flex;\n",
              "      gap: 12px;\n",
              "    }\n",
              "\n",
              "    .colab-df-convert {\n",
              "      background-color: #E8F0FE;\n",
              "      border: none;\n",
              "      border-radius: 50%;\n",
              "      cursor: pointer;\n",
              "      display: none;\n",
              "      fill: #1967D2;\n",
              "      height: 32px;\n",
              "      padding: 0 0 0 0;\n",
              "      width: 32px;\n",
              "    }\n",
              "\n",
              "    .colab-df-convert:hover {\n",
              "      background-color: #E2EBFA;\n",
              "      box-shadow: 0px 1px 2px rgba(60, 64, 67, 0.3), 0px 1px 3px 1px rgba(60, 64, 67, 0.15);\n",
              "      fill: #174EA6;\n",
              "    }\n",
              "\n",
              "    .colab-df-buttons div {\n",
              "      margin-bottom: 4px;\n",
              "    }\n",
              "\n",
              "    [theme=dark] .colab-df-convert {\n",
              "      background-color: #3B4455;\n",
              "      fill: #D2E3FC;\n",
              "    }\n",
              "\n",
              "    [theme=dark] .colab-df-convert:hover {\n",
              "      background-color: #434B5C;\n",
              "      box-shadow: 0px 1px 3px 1px rgba(0, 0, 0, 0.15);\n",
              "      filter: drop-shadow(0px 1px 2px rgba(0, 0, 0, 0.3));\n",
              "      fill: #FFFFFF;\n",
              "    }\n",
              "  </style>\n",
              "\n",
              "    <script>\n",
              "      const buttonEl =\n",
              "        document.querySelector('#df-2bfb2bd0-9ab7-4c06-97e2-2fc0810836e4 button.colab-df-convert');\n",
              "      buttonEl.style.display =\n",
              "        google.colab.kernel.accessAllowed ? 'block' : 'none';\n",
              "\n",
              "      async function convertToInteractive(key) {\n",
              "        const element = document.querySelector('#df-2bfb2bd0-9ab7-4c06-97e2-2fc0810836e4');\n",
              "        const dataTable =\n",
              "          await google.colab.kernel.invokeFunction('convertToInteractive',\n",
              "                                                    [key], {});\n",
              "        if (!dataTable) return;\n",
              "\n",
              "        const docLinkHtml = 'Like what you see? Visit the ' +\n",
              "          '<a target=\"_blank\" href=https://colab.research.google.com/notebooks/data_table.ipynb>data table notebook</a>'\n",
              "          + ' to learn more about interactive tables.';\n",
              "        element.innerHTML = '';\n",
              "        dataTable['output_type'] = 'display_data';\n",
              "        await google.colab.output.renderOutput(dataTable, element);\n",
              "        const docLink = document.createElement('div');\n",
              "        docLink.innerHTML = docLinkHtml;\n",
              "        element.appendChild(docLink);\n",
              "      }\n",
              "    </script>\n",
              "  </div>\n",
              "\n",
              "\n",
              "<div id=\"df-c943522f-5416-4973-b66e-a80248a500a2\">\n",
              "  <button class=\"colab-df-quickchart\" onclick=\"quickchart('df-c943522f-5416-4973-b66e-a80248a500a2')\"\n",
              "            title=\"Suggest charts\"\n",
              "            style=\"display:none;\">\n",
              "\n",
              "<svg xmlns=\"http://www.w3.org/2000/svg\" height=\"24px\"viewBox=\"0 0 24 24\"\n",
              "     width=\"24px\">\n",
              "    <g>\n",
              "        <path d=\"M19 3H5c-1.1 0-2 .9-2 2v14c0 1.1.9 2 2 2h14c1.1 0 2-.9 2-2V5c0-1.1-.9-2-2-2zM9 17H7v-7h2v7zm4 0h-2V7h2v10zm4 0h-2v-4h2v4z\"/>\n",
              "    </g>\n",
              "</svg>\n",
              "  </button>\n",
              "\n",
              "<style>\n",
              "  .colab-df-quickchart {\n",
              "      --bg-color: #E8F0FE;\n",
              "      --fill-color: #1967D2;\n",
              "      --hover-bg-color: #E2EBFA;\n",
              "      --hover-fill-color: #174EA6;\n",
              "      --disabled-fill-color: #AAA;\n",
              "      --disabled-bg-color: #DDD;\n",
              "  }\n",
              "\n",
              "  [theme=dark] .colab-df-quickchart {\n",
              "      --bg-color: #3B4455;\n",
              "      --fill-color: #D2E3FC;\n",
              "      --hover-bg-color: #434B5C;\n",
              "      --hover-fill-color: #FFFFFF;\n",
              "      --disabled-bg-color: #3B4455;\n",
              "      --disabled-fill-color: #666;\n",
              "  }\n",
              "\n",
              "  .colab-df-quickchart {\n",
              "    background-color: var(--bg-color);\n",
              "    border: none;\n",
              "    border-radius: 50%;\n",
              "    cursor: pointer;\n",
              "    display: none;\n",
              "    fill: var(--fill-color);\n",
              "    height: 32px;\n",
              "    padding: 0;\n",
              "    width: 32px;\n",
              "  }\n",
              "\n",
              "  .colab-df-quickchart:hover {\n",
              "    background-color: var(--hover-bg-color);\n",
              "    box-shadow: 0 1px 2px rgba(60, 64, 67, 0.3), 0 1px 3px 1px rgba(60, 64, 67, 0.15);\n",
              "    fill: var(--button-hover-fill-color);\n",
              "  }\n",
              "\n",
              "  .colab-df-quickchart-complete:disabled,\n",
              "  .colab-df-quickchart-complete:disabled:hover {\n",
              "    background-color: var(--disabled-bg-color);\n",
              "    fill: var(--disabled-fill-color);\n",
              "    box-shadow: none;\n",
              "  }\n",
              "\n",
              "  .colab-df-spinner {\n",
              "    border: 2px solid var(--fill-color);\n",
              "    border-color: transparent;\n",
              "    border-bottom-color: var(--fill-color);\n",
              "    animation:\n",
              "      spin 1s steps(1) infinite;\n",
              "  }\n",
              "\n",
              "  @keyframes spin {\n",
              "    0% {\n",
              "      border-color: transparent;\n",
              "      border-bottom-color: var(--fill-color);\n",
              "      border-left-color: var(--fill-color);\n",
              "    }\n",
              "    20% {\n",
              "      border-color: transparent;\n",
              "      border-left-color: var(--fill-color);\n",
              "      border-top-color: var(--fill-color);\n",
              "    }\n",
              "    30% {\n",
              "      border-color: transparent;\n",
              "      border-left-color: var(--fill-color);\n",
              "      border-top-color: var(--fill-color);\n",
              "      border-right-color: var(--fill-color);\n",
              "    }\n",
              "    40% {\n",
              "      border-color: transparent;\n",
              "      border-right-color: var(--fill-color);\n",
              "      border-top-color: var(--fill-color);\n",
              "    }\n",
              "    60% {\n",
              "      border-color: transparent;\n",
              "      border-right-color: var(--fill-color);\n",
              "    }\n",
              "    80% {\n",
              "      border-color: transparent;\n",
              "      border-right-color: var(--fill-color);\n",
              "      border-bottom-color: var(--fill-color);\n",
              "    }\n",
              "    90% {\n",
              "      border-color: transparent;\n",
              "      border-bottom-color: var(--fill-color);\n",
              "    }\n",
              "  }\n",
              "</style>\n",
              "\n",
              "  <script>\n",
              "    async function quickchart(key) {\n",
              "      const quickchartButtonEl =\n",
              "        document.querySelector('#' + key + ' button');\n",
              "      quickchartButtonEl.disabled = true;  // To prevent multiple clicks.\n",
              "      quickchartButtonEl.classList.add('colab-df-spinner');\n",
              "      try {\n",
              "        const charts = await google.colab.kernel.invokeFunction(\n",
              "            'suggestCharts', [key], {});\n",
              "      } catch (error) {\n",
              "        console.error('Error during call to suggestCharts:', error);\n",
              "      }\n",
              "      quickchartButtonEl.classList.remove('colab-df-spinner');\n",
              "      quickchartButtonEl.classList.add('colab-df-quickchart-complete');\n",
              "    }\n",
              "    (() => {\n",
              "      let quickchartButtonEl =\n",
              "        document.querySelector('#df-c943522f-5416-4973-b66e-a80248a500a2 button');\n",
              "      quickchartButtonEl.style.display =\n",
              "        google.colab.kernel.accessAllowed ? 'block' : 'none';\n",
              "    })();\n",
              "  </script>\n",
              "</div>\n",
              "    </div>\n",
              "  </div>\n"
            ]
          },
          "metadata": {},
          "execution_count": 154
        }
      ]
    },
    {
      "cell_type": "markdown",
      "source": [
        "# Обучающая и тестовая выборки"
      ],
      "metadata": {
        "id": "R7t1xsLq8lEu"
      }
    },
    {
      "cell_type": "markdown",
      "source": [
        "Разбиение было произведено авторами датасета\n",
        "\n",
        "---\n",
        "\n"
      ],
      "metadata": {
        "id": "txzbBdoV8onY"
      }
    },
    {
      "cell_type": "code",
      "source": [
        "from sklearn.model_selection import train_test_split\n",
        "\n",
        "x_train = norm.drop(['satisfied'], axis=1)\n",
        "y_train = data['satisfied']\n",
        "\n",
        "x_test = norm_test.drop(['satisfied'], axis=1)\n",
        "y_test = data_test['satisfied']\n"
      ],
      "metadata": {
        "id": "KIq6VEbB8pNt"
      },
      "execution_count": 155,
      "outputs": []
    },
    {
      "cell_type": "markdown",
      "source": [
        "# KNN"
      ],
      "metadata": {
        "id": "DwnTyj6A7_do"
      }
    },
    {
      "cell_type": "code",
      "source": [
        "from sklearn.neighbors import KNeighborsClassifier\n",
        "from sklearn.model_selection import GridSearchCV\n",
        "\n",
        "g = GridSearchCV(KNeighborsClassifier(), param_grid = {'n_neighbors': range(1, 30)}).fit(x_train, y_train)\n",
        "\n",
        "print('Ошибка : ', 1 - g.best_score_)\n",
        "print('Оптимальное количество соседей: ', g.best_estimator_.n_neighbors)"
      ],
      "metadata": {
        "colab": {
          "base_uri": "https://localhost:8080/"
        },
        "id": "luIZrTIr7-Ke",
        "outputId": "14ffec67-d8d5-488f-89d7-722086304bfd"
      },
      "execution_count": 156,
      "outputs": [
        {
          "output_type": "stream",
          "name": "stdout",
          "text": [
            "Ошибка :  0.005310827761664028\n",
            "Оптимальное количество соседей:  1\n"
          ]
        }
      ]
    },
    {
      "cell_type": "markdown",
      "source": [
        "Наилучшее число соседей - 1\n"
      ],
      "metadata": {
        "id": "GGed6j7aCAgO"
      }
    },
    {
      "cell_type": "code",
      "source": [
        "from sklearn.neighbors import KNeighborsClassifier\n",
        "from sklearn.metrics import confusion_matrix, ConfusionMatrixDisplay\n",
        "\n",
        "kNN_f = KNeighborsClassifier()\n",
        "kNN_f.n_neighbors = 1\n",
        "kNN_f.fit(x_train, y_train)\n",
        "y_train_prediction = kNN_f.predict(x_train)\n",
        "y_test_prediction = kNN_f.predict(x_test)\n",
        "cm = confusion_matrix(y_train, y_train_prediction)"
      ],
      "metadata": {
        "id": "_yc3D4ZJCIsX"
      },
      "execution_count": 160,
      "outputs": []
    },
    {
      "cell_type": "markdown",
      "source": [
        "На тренировочных данных:"
      ],
      "metadata": {
        "id": "lFUyshr4CTMn"
      }
    },
    {
      "cell_type": "code",
      "source": [
        "\n",
        "\n",
        "from sklearn.metrics import ConfusionMatrixDisplay\n",
        "disp = ConfusionMatrixDisplay(confusion_matrix=cm, display_labels=kNN_f.classes_)\n",
        "\n",
        "disp.plot()\n"
      ],
      "metadata": {
        "colab": {
          "base_uri": "https://localhost:8080/",
          "height": 467
        },
        "id": "dWnoSN2JCZBR",
        "outputId": "65a22451-b981-4712-80f5-0541e635e734"
      },
      "execution_count": 162,
      "outputs": [
        {
          "output_type": "execute_result",
          "data": {
            "text/plain": [
              "<sklearn.metrics._plot.confusion_matrix.ConfusionMatrixDisplay at 0x7ebbe94d8400>"
            ]
          },
          "metadata": {},
          "execution_count": 162
        },
        {
          "output_type": "display_data",
          "data": {
            "text/plain": [
              "<Figure size 640x480 with 2 Axes>"
            ],
            "image/png": "[encoded data removed]"
          },
          "metadata": {}
        }
      ]
    },
    {
      "cell_type": "code",
      "source": [
        "from sklearn.metrics import classification_report\n",
        "print(classification_report(y_train, y_train_prediction))"
      ],
      "metadata": {
        "colab": {
          "base_uri": "https://localhost:8080/"
        },
        "id": "bDRlrBmxChGV",
        "outputId": "8715f3bb-1d8a-427a-c34f-f64c9cdc1168"
      },
      "execution_count": 163,
      "outputs": [
        {
          "output_type": "stream",
          "name": "stdout",
          "text": [
            "              precision    recall  f1-score   support\n",
            "\n",
            "           0       1.00      1.00      1.00     57453\n",
            "           1       1.00      1.00      1.00     44226\n",
            "\n",
            "    accuracy                           1.00    101679\n",
            "   macro avg       1.00      1.00      1.00    101679\n",
            "weighted avg       1.00      1.00      1.00    101679\n",
            "\n"
          ]
        }
      ]
    },
    {
      "cell_type": "markdown",
      "source": [
        "На тестовых данных:"
      ],
      "metadata": {
        "id": "Ya9zETLuCaQi"
      }
    },
    {
      "cell_type": "code",
      "source": [
        "from sklearn.metrics import ConfusionMatrixDisplay\n",
        "cm = confusion_matrix(y_test, y_test_prediction)\n",
        "disp = ConfusionMatrixDisplay(confusion_matrix=cm, display_labels=kNN_f.classes_)\n",
        "\n",
        "disp.plot()"
      ],
      "metadata": {
        "colab": {
          "base_uri": "https://localhost:8080/",
          "height": 467
        },
        "id": "9sZwYhWkCdOC",
        "outputId": "2b3d034b-a2ac-4652-c3aa-8729e715fd28"
      },
      "execution_count": 165,
      "outputs": [
        {
          "output_type": "execute_result",
          "data": {
            "text/plain": [
              "<sklearn.metrics._plot.confusion_matrix.ConfusionMatrixDisplay at 0x7ebbe959fb20>"
            ]
          },
          "metadata": {},
          "execution_count": 165
        },
        {
          "output_type": "display_data",
          "data": {
            "text/plain": [
              "<Figure size 640x480 with 2 Axes>"
            ],
            "image/png": "[encoded data removed]"
          },
          "metadata": {}
        }
      ]
    },
    {
      "cell_type": "code",
      "source": [
        "from sklearn.metrics import classification_report\n",
        "print(classification_report(y_test, y_test_prediction))"
      ],
      "metadata": {
        "colab": {
          "base_uri": "https://localhost:8080/"
        },
        "id": "lZnVvz_kCj-F",
        "outputId": "15578279-90f2-4340-cf9e-374b310b7219"
      },
      "execution_count": 166,
      "outputs": [
        {
          "output_type": "stream",
          "name": "stdout",
          "text": [
            "              precision    recall  f1-score   support\n",
            "\n",
            "           0       0.99      1.00      1.00     14573\n",
            "           1       1.00      0.99      1.00     11403\n",
            "\n",
            "    accuracy                           1.00     25976\n",
            "   macro avg       1.00      1.00      1.00     25976\n",
            "weighted avg       1.00      1.00      1.00     25976\n",
            "\n"
          ]
        }
      ]
    }
  ]
}